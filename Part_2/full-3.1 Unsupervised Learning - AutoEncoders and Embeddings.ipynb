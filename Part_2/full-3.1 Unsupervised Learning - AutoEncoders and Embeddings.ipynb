{
 "cells": [
  {
   "cell_type": "markdown",
   "metadata": {},
   "source": [
    "# Unsupervised learning"
   ]
  },
  {
   "cell_type": "markdown",
   "metadata": {},
   "source": [
    "### AutoEncoders  "
   ]
  },
  {
   "cell_type": "markdown",
   "metadata": {},
   "source": [
    "An autoencoder, is an artificial neural network used for learning efficient codings. \n",
    "\n",
    "The aim of an autoencoder is to learn a representation (encoding) for a set of data, typically for the purpose of dimensionality reduction. "
   ]
  },
  {
   "cell_type": "markdown",
   "metadata": {},
   "source": [
    "<img src =\"imgs/autoencoder.png\" width=\"25%\">"
   ]
  },
  {
   "cell_type": "markdown",
   "metadata": {},
   "source": [
    "Unsupervised learning is a type of machine learning algorithm used to draw inferences from datasets consisting of input data without labeled responses. The most common unsupervised learning method is cluster analysis, which is used for exploratory data analysis to find hidden patterns or grouping in data."
   ]
  },
  {
   "cell_type": "code",
   "execution_count": 1,
   "metadata": {},
   "outputs": [
    {
     "name": "stderr",
     "output_type": "stream",
     "text": [
      "Using TensorFlow backend.\n"
     ]
    }
   ],
   "source": [
    "import numpy as np\n",
    "from keras.layers import Input, Dense\n",
    "from keras.models import Model\n",
    "from keras.callbacks import EarlyStopping"
   ]
  },
  {
   "cell_type": "code",
   "execution_count": 2,
   "metadata": {
    "collapsed": true
   },
   "outputs": [],
   "source": [
    "# this code loads a local version of mnist dataset \n",
    "import pickle\n",
    "import gzip\n",
    "import sys\n",
    "\n",
    "def load_mnist_local(path):\n",
    "    if path.endswith(\".gz\"):\n",
    "        f = gzip.open(path, 'rb')\n",
    "    else:\n",
    "        f = open(path, 'rb')\n",
    "\n",
    "    if sys.version_info < (3,):\n",
    "        data = pickle.load(f)\n",
    "    else:\n",
    "        data = pickle.load(f, encoding=\"bytes\")\n",
    "\n",
    "    f.close()\n",
    "    return data\n",
    "\n",
    "path_to_dataset = \"data/mnist.pkl.gz\"\n",
    "(X_train, y_train), (X_test, y_test) = load_mnist_local(path_to_dataset)\n",
    "\n",
    "# squeeze values in [0,1]\n",
    "X_train = X_train.astype('float32') / 255.\n",
    "X_test = X_test.astype('float32') / 255.\n",
    "# flatten images\n",
    "X_train = X_train.reshape((len(X_train), np.prod(X_train.shape[1:])))\n",
    "X_test = X_test.reshape((len(X_test), np.prod(X_test.shape[1:])))"
   ]
  },
  {
   "cell_type": "code",
   "execution_count": 3,
   "metadata": {
    "scrolled": false
   },
   "outputs": [
    {
     "name": "stderr",
     "output_type": "stream",
     "text": [
      "/anaconda/lib/python3.6/site-packages/ipykernel_launcher.py:8: UserWarning: Update your `Model` call to the Keras 2 API: `Model(inputs=Tensor(\"in..., outputs=Tensor(\"de...)`\n",
      "  \n",
      "/anaconda/lib/python3.6/site-packages/ipykernel_launcher.py:9: UserWarning: Update your `Model` call to the Keras 2 API: `Model(inputs=Tensor(\"in..., outputs=Tensor(\"de...)`\n",
      "  if __name__ == '__main__':\n",
      "/anaconda/lib/python3.6/site-packages/ipykernel_launcher.py:13: UserWarning: Update your `Model` call to the Keras 2 API: `Model(inputs=Tensor(\"in..., outputs=Tensor(\"de...)`\n",
      "  del sys.path[0]\n"
     ]
    },
    {
     "name": "stdout",
     "output_type": "stream",
     "text": [
      "Train on 60000 samples, validate on 10000 samples\n",
      "Epoch 1/10\n",
      "60000/60000 [==============================] - 9s - loss: 0.3784 - val_loss: 0.2722\n",
      "Epoch 2/10\n",
      "60000/60000 [==============================] - 8s - loss: 0.2643 - val_loss: 0.2530\n",
      "Epoch 3/10\n",
      "60000/60000 [==============================] - 8s - loss: 0.2425 - val_loss: 0.2295\n",
      "Epoch 4/10\n",
      "60000/60000 [==============================] - 9s - loss: 0.2217 - val_loss: 0.2117\n",
      "Epoch 5/10\n",
      "60000/60000 [==============================] - 10s - loss: 0.2070 - val_loss: 0.1997\n",
      "Epoch 6/10\n",
      "60000/60000 [==============================] - 9s - loss: 0.1966 - val_loss: 0.1906\n",
      "Epoch 7/10\n",
      "60000/60000 [==============================] - 11s - loss: 0.1885 - val_loss: 0.1833\n",
      "Epoch 8/10\n",
      "60000/60000 [==============================] - 11s - loss: 0.1817 - val_loss: 0.1770\n",
      "Epoch 9/10\n",
      "60000/60000 [==============================] - 10s - loss: 0.1757 - val_loss: 0.1714\n",
      "Epoch 10/10\n",
      "60000/60000 [==============================] - 9s - loss: 0.1705 - val_loss: 0.1665\n"
     ]
    },
    {
     "data": {
      "text/plain": [
       "<keras.callbacks.History at 0x127cddd68>"
      ]
     },
     "execution_count": 3,
     "metadata": {},
     "output_type": "execute_result"
    }
   ],
   "source": [
    "# based on: https://blog.keras.io/building-autoencoders-in-keras.html\n",
    "# This code uses the functional API of Keras\n",
    "\n",
    "encoding_dim = 32  # 32 units\n",
    "input_img = Input(shape=(784,)) # 784 = 28 x 28 -> vectors of the image\n",
    "encoded = Dense(encoding_dim, activation='relu')(input_img)\n",
    "decoded = Dense(784, activation='sigmoid')(encoded)\n",
    "autoencoder = Model(input=input_img, output=decoded)\n",
    "encoder = Model(input=input_img, output=encoded)\n",
    "\n",
    "encoded_input = Input(shape=(encoding_dim,))\n",
    "decoder_layer = autoencoder.layers[-1]\n",
    "decoder = Model(input=encoded_input, output=decoder_layer(encoded_input))\n",
    "\n",
    "early_stop = EarlyStopping(monitor='val_loss', patience=3)\n",
    "autoencoder.compile(optimizer='adadelta', loss='binary_crossentropy')\n",
    "\n",
    "\n",
    "\n",
    "#note: X_train, X_train :) \n",
    "autoencoder.fit(X_train, X_train,\n",
    "                epochs=10,\n",
    "                batch_size=256,\n",
    "                shuffle=True,\n",
    "                validation_data=(X_test, X_test),\n",
    "               validation_split=0.15,\n",
    "               callbacks=[early_stop])"
   ]
  },
  {
   "cell_type": "code",
   "execution_count": 6,
   "metadata": {
    "collapsed": true
   },
   "outputs": [],
   "source": [
    "autoencoder.fit??"
   ]
  },
  {
   "cell_type": "code",
   "execution_count": 7,
   "metadata": {
    "collapsed": true
   },
   "outputs": [],
   "source": [
    "early_stop = EarlyStopping"
   ]
  },
  {
   "cell_type": "markdown",
   "metadata": {},
   "source": [
    "#### Testing the Autoencoder "
   ]
  },
  {
   "cell_type": "code",
   "execution_count": 8,
   "metadata": {
    "scrolled": true
   },
   "outputs": [
    {
     "data": {
      "image/png": "[encoded data removed]",
      "text/plain": [
       "<matplotlib.figure.Figure at 0x1181afb00>"
      ]
     },
     "metadata": {},
     "output_type": "display_data"
    }
   ],
   "source": [
    "import matplotlib.pyplot as plt\n",
    "%matplotlib inline\n",
    "encoded_imgs = encoder.predict(X_test)\n",
    "decoded_imgs = decoder.predict(encoded_imgs)\n",
    "\n",
    "n = 10 \n",
    "plt.figure(figsize=(20, 4))\n",
    "for i in range(n):\n",
    "    # original\n",
    "    ax = plt.subplot(2, n, i + 1)\n",
    "    plt.imshow(X_test[i].reshape(28, 28))\n",
    "    plt.gray()\n",
    "    ax.get_xaxis().set_visible(False)\n",
    "    ax.get_yaxis().set_visible(False)\n",
    "\n",
    "    # reconstruction\n",
    "    ax = plt.subplot(2, n, i + 1 + n)\n",
    "    plt.imshow(decoded_imgs[i].reshape(28, 28))\n",
    "    plt.gray()\n",
    "    ax.get_xaxis().set_visible(False)\n",
    "    ax.get_yaxis().set_visible(False)\n",
    "plt.show()"
   ]
  },
  {
   "cell_type": "markdown",
   "metadata": {},
   "source": [
    "#### Sample generation with Autoencoder "
   ]
  },
  {
   "cell_type": "code",
   "execution_count": 9,
   "metadata": {},
   "outputs": [
    {
     "data": {
      "image/png": "[encoded data removed]",
      "text/plain": [
       "<matplotlib.figure.Figure at 0x118403f28>"
      ]
     },
     "metadata": {},
     "output_type": "display_data"
    }
   ],
   "source": [
    "encoded_imgs = np.random.rand(10,32)\n",
    "decoded_imgs = decoder.predict(encoded_imgs)\n",
    "\n",
    "n = 10 \n",
    "plt.figure(figsize=(20, 4))\n",
    "for i in range(n):\n",
    "    # generation\n",
    "    ax = plt.subplot(2, n, i + 1 + n)\n",
    "    plt.imshow(decoded_imgs[i].reshape(28, 28))\n",
    "    plt.gray()\n",
    "    ax.get_xaxis().set_visible(False)\n",
    "    ax.get_yaxis().set_visible(False)\n",
    "plt.show()"
   ]
  },
  {
   "cell_type": "markdown",
   "metadata": {},
   "source": [
    "#### Pretraining encoders "
   ]
  },
  {
   "cell_type": "markdown",
   "metadata": {},
   "source": [
    "One of the powerful tools of auto-encoders is using the encoder to generate meaningful representation from the feature vectors."
   ]
  },
  {
   "cell_type": "code",
   "execution_count": null,
   "metadata": {},
   "outputs": [],
   "source": [
    "# Use the encoder to pretrain a classifier "
   ]
  },
  {
   "cell_type": "markdown",
   "metadata": {},
   "source": [
    "---"
   ]
  },
  {
   "cell_type": "markdown",
   "metadata": {},
   "source": [
    "# Natural Language Processing using Artificial Neural Networks"
   ]
  },
  {
   "cell_type": "markdown",
   "metadata": {},
   "source": [
    "> “In God we trust. All others must bring data.” – W. Edwards Deming, statistician"
   ]
  },
  {
   "cell_type": "markdown",
   "metadata": {},
   "source": [
    "# Word Embeddings\n",
    "\n",
    "### What?\n",
    "Convert words to vectors in a high dimensional space. Each dimension denotes an aspect like gender, type of object / word.\n",
    "\n",
    "\"Word embeddings\" are a family of natural language processing techniques aiming at mapping semantic meaning into a geometric space. This is done by associating a numeric vector to every word in a dictionary, such that the distance (e.g. L2 distance or more commonly cosine distance) between any two vectors would capture part of the semantic relationship between the two associated words. The geometric space formed by these vectors is called an embedding space.\n",
    "\n"
   ]
  },
  {
   "cell_type": "markdown",
   "metadata": {},
   "source": [
    "### Why?\n",
    "By converting words to vectors we build relations between words. More similar the words in a dimension, more closer their scores are.\n",
    "\n",
    "In fact its the Word2Vec in slide 83.\n",
    "\n",
    "### Example\n",
    "_W(green) = (1.2, 0.98, 0.05, ...)_\n",
    "\n",
    "_W(red) = (1.1, 0.2, 0.5, ...)_\n",
    "\n",
    "Here the vector values of _green_ and _red_ are very similar in one dimension because they both are colours. The value for second dimension is very different because red might be depicting something negative in the training data while green is used for positiveness.\n",
    "\n",
    "By vectorizing we are indirectly building different kind of relations between words (see slide 84)."
   ]
  },
  {
   "cell_type": "markdown",
   "metadata": {},
   "source": [
    "## Example of `word2vec` using gensim"
   ]
  },
  {
   "cell_type": "code",
   "execution_count": 35,
   "metadata": {},
   "outputs": [],
   "source": [
    "from gensim.models import word2vec\n",
    "from gensim.models.word2vec import Word2Vec"
   ]
  },
  {
   "cell_type": "markdown",
   "metadata": {},
   "source": [
    "### Reading blog post from data directory"
   ]
  },
  {
   "cell_type": "code",
   "execution_count": 36,
   "metadata": {
    "collapsed": true
   },
   "outputs": [],
   "source": [
    "import os\n",
    "import pickle"
   ]
  },
  {
   "cell_type": "code",
   "execution_count": 37,
   "metadata": {},
   "outputs": [],
   "source": [
    "DATA_DIRECTORY = os.path.join(os.path.abspath(os.path.curdir), 'data')"
   ]
  },
  {
   "cell_type": "code",
   "execution_count": 38,
   "metadata": {
    "collapsed": true
   },
   "outputs": [],
   "source": [
    "male_posts = []  # empty lists\n",
    "female_post = [] # empty lists"
   ]
  },
  {
   "cell_type": "code",
   "execution_count": 39,
   "metadata": {},
   "outputs": [],
   "source": [
    "with open(os.path.join(DATA_DIRECTORY,\"male_blog_list.txt\"),\"rb\") as male_file:\n",
    "    male_posts= pickle.load(male_file)\n",
    "    \n",
    "with open(os.path.join(DATA_DIRECTORY,\"female_blog_list.txt\"),\"rb\") as female_file:\n",
    "    female_posts = pickle.load(female_file)"
   ]
  },
  {
   "cell_type": "code",
   "execution_count": 40,
   "metadata": {},
   "outputs": [
    {
     "name": "stdout",
     "output_type": "stream",
     "text": [
      "2252\n",
      "2611\n"
     ]
    }
   ],
   "source": [
    "print(len(female_posts))\n",
    "print(len(male_posts)) # number of documents"
   ]
  },
  {
   "cell_type": "code",
   "execution_count": 41,
   "metadata": {
    "collapsed": true
   },
   "outputs": [],
   "source": [
    "filtered_male_posts = list(filter(lambda p: len(p) > 0, male_posts)) # filters documents bigger than 0\n",
    "filtered_female_posts = list(filter(lambda p: len(p) > 0, female_posts))\n",
    "posts = filtered_female_posts + filtered_male_posts "
   ]
  },
  {
   "cell_type": "code",
   "execution_count": 42,
   "metadata": {},
   "outputs": [
    {
     "name": "stdout",
     "output_type": "stream",
     "text": [
      "2247 2595 4842\n"
     ]
    }
   ],
   "source": [
    "print(len(filtered_female_posts), len(filtered_male_posts), len(posts)) # Length of posts"
   ]
  },
  {
   "cell_type": "markdown",
   "metadata": {},
   "source": [
    "## Word2Vec"
   ]
  },
  {
   "cell_type": "code",
   "execution_count": 53,
   "metadata": {},
   "outputs": [],
   "source": [
    "w2v = Word2Vec(size=200, min_count=1)\n",
    "# Size of the hidden layer -> each word is represented with a 200 dimensional vector\n",
    "# min_count = 1 is how often a number occures in a document\n",
    "\n",
    "# Builts the vector for each word\n",
    "w2v.build_vocab(map(lambda x: x.split(), posts[:100]), )"
   ]
  },
  {
   "cell_type": "code",
   "execution_count": 54,
   "metadata": {
    "scrolled": true
   },
   "outputs": [
    {
     "data": {
      "text/plain": [
       "{'Well,': <gensim.models.keyedvectors.Vocab at 0x128147a58>,\n",
       " 'everyone': <gensim.models.keyedvectors.Vocab at 0x1281470f0>,\n",
       " 'got': <gensim.models.keyedvectors.Vocab at 0x128147128>,\n",
       " 'up': <gensim.models.keyedvectors.Vocab at 0x1281442e8>,\n",
       " 'and': <gensim.models.keyedvectors.Vocab at 0x1281444a8>,\n",
       " 'going': <gensim.models.keyedvectors.Vocab at 0x128144550>,\n",
       " 'this': <gensim.models.keyedvectors.Vocab at 0x1281446d8>,\n",
       " 'morning.': <gensim.models.keyedvectors.Vocab at 0x128144748>,\n",
       " \"It's\": <gensim.models.keyedvectors.Vocab at 0x1281447b8>,\n",
       " 'still': <gensim.models.keyedvectors.Vocab at 0x1281448d0>,\n",
       " 'raining,': <gensim.models.keyedvectors.Vocab at 0x128144c88>,\n",
       " 'but': <gensim.models.keyedvectors.Vocab at 0x128144f60>,\n",
       " \"that's\": <gensim.models.keyedvectors.Vocab at 0x128157390>,\n",
       " 'okay': <gensim.models.keyedvectors.Vocab at 0x128157080>,\n",
       " 'with': <gensim.models.keyedvectors.Vocab at 0x1281395f8>,\n",
       " 'me.': <gensim.models.keyedvectors.Vocab at 0x128139cf8>,\n",
       " 'Sort': <gensim.models.keyedvectors.Vocab at 0x1281399e8>,\n",
       " 'of': <gensim.models.keyedvectors.Vocab at 0x128139ac8>,\n",
       " 'suits': <gensim.models.keyedvectors.Vocab at 0x128139b70>,\n",
       " 'my': <gensim.models.keyedvectors.Vocab at 0x1281390b8>,\n",
       " 'mood.': <gensim.models.keyedvectors.Vocab at 0x128139588>,\n",
       " 'I': <gensim.models.keyedvectors.Vocab at 0x128139a20>,\n",
       " 'could': <gensim.models.keyedvectors.Vocab at 0x128139c50>,\n",
       " 'easily': <gensim.models.keyedvectors.Vocab at 0x128139eb8>,\n",
       " 'have': <gensim.models.keyedvectors.Vocab at 0x1281397f0>,\n",
       " 'stayed': <gensim.models.keyedvectors.Vocab at 0x128139320>,\n",
       " 'home': <gensim.models.keyedvectors.Vocab at 0x128139940>,\n",
       " 'in': <gensim.models.keyedvectors.Vocab at 0x1281394e0>,\n",
       " 'bed': <gensim.models.keyedvectors.Vocab at 0x128139a90>,\n",
       " 'book': <gensim.models.keyedvectors.Vocab at 0x128146a20>,\n",
       " 'the': <gensim.models.keyedvectors.Vocab at 0x128146358>,\n",
       " 'cats.': <gensim.models.keyedvectors.Vocab at 0x128146e80>,\n",
       " 'This': <gensim.models.keyedvectors.Vocab at 0x1281469b0>,\n",
       " 'has': <gensim.models.keyedvectors.Vocab at 0x1281461d0>,\n",
       " 'been': <gensim.models.keyedvectors.Vocab at 0x128146908>,\n",
       " 'a': <gensim.models.keyedvectors.Vocab at 0x128146470>,\n",
       " 'lot': <gensim.models.keyedvectors.Vocab at 0x128146b00>,\n",
       " 'rain': <gensim.models.keyedvectors.Vocab at 0x128146978>,\n",
       " 'though!': <gensim.models.keyedvectors.Vocab at 0x1281463c8>,\n",
       " 'People': <gensim.models.keyedvectors.Vocab at 0x1281468d0>,\n",
       " 'wet': <gensim.models.keyedvectors.Vocab at 0x128146c18>,\n",
       " 'basements,': <gensim.models.keyedvectors.Vocab at 0x128146898>,\n",
       " 'there': <gensim.models.keyedvectors.Vocab at 0x1281464a8>,\n",
       " 'are': <gensim.models.keyedvectors.Vocab at 0x128146160>,\n",
       " 'lakes': <gensim.models.keyedvectors.Vocab at 0x1281469e8>,\n",
       " 'where': <gensim.models.keyedvectors.Vocab at 0x128146ef0>,\n",
       " 'should': <gensim.models.keyedvectors.Vocab at 0x128146860>,\n",
       " 'be': <gensim.models.keyedvectors.Vocab at 0x128146cf8>,\n",
       " 'golf': <gensim.models.keyedvectors.Vocab at 0x1281465f8>,\n",
       " 'courses': <gensim.models.keyedvectors.Vocab at 0x128146eb8>,\n",
       " 'fields,': <gensim.models.keyedvectors.Vocab at 0x1281372b0>,\n",
       " 'everything': <gensim.models.keyedvectors.Vocab at 0x128137278>,\n",
       " 'is': <gensim.models.keyedvectors.Vocab at 0x128137390>,\n",
       " 'green,': <gensim.models.keyedvectors.Vocab at 0x128137d68>,\n",
       " 'green.': <gensim.models.keyedvectors.Vocab at 0x128137630>,\n",
       " 'But,': <gensim.models.keyedvectors.Vocab at 0x128137f60>,\n",
       " 'it': <gensim.models.keyedvectors.Vocab at 0x128137048>,\n",
       " 'supposed': <gensim.models.keyedvectors.Vocab at 0x128137198>,\n",
       " 'to': <gensim.models.keyedvectors.Vocab at 0x1281374a8>,\n",
       " '26': <gensim.models.keyedvectors.Vocab at 0x128137550>,\n",
       " 'degrees': <gensim.models.keyedvectors.Vocab at 0x128137978>,\n",
       " 'by': <gensim.models.keyedvectors.Vocab at 0x128137b00>,\n",
       " 'Friday,': <gensim.models.keyedvectors.Vocab at 0x128137b38>,\n",
       " 'so': <gensim.models.keyedvectors.Vocab at 0x128137fd0>,\n",
       " \"we'll\": <gensim.models.keyedvectors.Vocab at 0x1281375c0>,\n",
       " 'dealing': <gensim.models.keyedvectors.Vocab at 0x1281379b0>,\n",
       " 'mosquitos': <gensim.models.keyedvectors.Vocab at 0x128137d30>,\n",
       " 'next': <gensim.models.keyedvectors.Vocab at 0x128137080>,\n",
       " 'week.': <gensim.models.keyedvectors.Vocab at 0x1281378d0>,\n",
       " 'heard': <gensim.models.keyedvectors.Vocab at 0x128137f28>,\n",
       " 'Winnipeg': <gensim.models.keyedvectors.Vocab at 0x128137668>,\n",
       " 'described': <gensim.models.keyedvectors.Vocab at 0x128137860>,\n",
       " 'as': <gensim.models.keyedvectors.Vocab at 0x128137940>,\n",
       " 'an': <gensim.models.keyedvectors.Vocab at 0x128137a90>,\n",
       " '\"Old': <gensim.models.keyedvectors.Vocab at 0x128137dd8>,\n",
       " 'Testament\"': <gensim.models.keyedvectors.Vocab at 0x128137e48>,\n",
       " 'city': <gensim.models.keyedvectors.Vocab at 0x1281371d0>,\n",
       " 'on': <gensim.models.keyedvectors.Vocab at 0x128137ef0>,\n",
       " 'urlLink': <gensim.models.keyedvectors.Vocab at 0x128137748>,\n",
       " 'CBC': <gensim.models.keyedvectors.Vocab at 0x12813e668>,\n",
       " 'Radio': <gensim.models.keyedvectors.Vocab at 0x12813e1d0>,\n",
       " 'One': <gensim.models.keyedvectors.Vocab at 0x12813e0f0>,\n",
       " 'last': <gensim.models.keyedvectors.Vocab at 0x12813e780>,\n",
       " 'week': <gensim.models.keyedvectors.Vocab at 0x12813e588>,\n",
       " 'sort': <gensim.models.keyedvectors.Vocab at 0x12813eda0>,\n",
       " 'rings': <gensim.models.keyedvectors.Vocab at 0x12813eeb8>,\n",
       " 'true.': <gensim.models.keyedvectors.Vocab at 0x12813e550>,\n",
       " 'Floods,': <gensim.models.keyedvectors.Vocab at 0x12813e080>,\n",
       " 'infestations,': <gensim.models.keyedvectors.Vocab at 0x12813e160>,\n",
       " 'etc.,': <gensim.models.keyedvectors.Vocab at 0x12813e2e8>,\n",
       " 'etc..': <gensim.models.keyedvectors.Vocab at 0x12813eac8>,\n",
       " 'My': <gensim.models.keyedvectors.Vocab at 0x12813eb70>,\n",
       " 'four-year': <gensim.models.keyedvectors.Vocab at 0x12813e320>,\n",
       " 'old': <gensim.models.keyedvectors.Vocab at 0x12813e7b8>,\n",
       " 'never': <gensim.models.keyedvectors.Vocab at 0x12813eb00>,\n",
       " 'stops': <gensim.models.keyedvectors.Vocab at 0x12813ec18>,\n",
       " 'talking.': <gensim.models.keyedvectors.Vocab at 0x12813e940>,\n",
       " \"She'll\": <gensim.models.keyedvectors.Vocab at 0x128152278>,\n",
       " 'say': <gensim.models.keyedvectors.Vocab at 0x128152cf8>,\n",
       " '\"Mom?\"': <gensim.models.keyedvectors.Vocab at 0x128152048>,\n",
       " 'when': <gensim.models.keyedvectors.Vocab at 0x128152e48>,\n",
       " '\"Yes?\",': <gensim.models.keyedvectors.Vocab at 0x1281526a0>,\n",
       " \"she'll\": <gensim.models.keyedvectors.Vocab at 0x128152be0>,\n",
       " '\"Ummm....': <gensim.models.keyedvectors.Vocab at 0x128152668>,\n",
       " 'ummm...': <gensim.models.keyedvectors.Vocab at 0x128152160>,\n",
       " 'oh': <gensim.models.keyedvectors.Vocab at 0x128152b00>,\n",
       " 'yeah.': <gensim.models.keyedvectors.Vocab at 0x128152080>,\n",
       " 'Where': <gensim.models.keyedvectors.Vocab at 0x1281526d8>,\n",
       " 'do': <gensim.models.keyedvectors.Vocab at 0x128152b38>,\n",
       " 'lady': <gensim.models.keyedvectors.Vocab at 0x128152438>,\n",
       " 'bugs': <gensim.models.keyedvectors.Vocab at 0x128152eb8>,\n",
       " 'hide': <gensim.models.keyedvectors.Vocab at 0x128152da0>,\n",
       " 'rain?\"': <gensim.models.keyedvectors.Vocab at 0x128152ba8>,\n",
       " 'Anything': <gensim.models.keyedvectors.Vocab at 0x12814ea58>,\n",
       " 'hear': <gensim.models.keyedvectors.Vocab at 0x12814eda0>,\n",
       " 'her': <gensim.models.keyedvectors.Vocab at 0x12814edd8>,\n",
       " 'own': <gensim.models.keyedvectors.Vocab at 0x12814ee10>,\n",
       " 'voice.': <gensim.models.keyedvectors.Vocab at 0x12814ef28>,\n",
       " 'Very,': <gensim.models.keyedvectors.Vocab at 0x12814ef60>,\n",
       " 'very': <gensim.models.keyedvectors.Vocab at 0x12814e9e8>,\n",
       " 'exhausting.': <gensim.models.keyedvectors.Vocab at 0x12814e048>,\n",
       " 'Now': <gensim.models.keyedvectors.Vocab at 0x12814e128>,\n",
       " 'remember!': <gensim.models.keyedvectors.Vocab at 0x12814e208>,\n",
       " 'why': <gensim.models.keyedvectors.Vocab at 0x12814e2b0>,\n",
       " 'go': <gensim.models.keyedvectors.Vocab at 0x12814e2e8>,\n",
       " 'work!': <gensim.models.keyedvectors.Vocab at 0x12814e358>,\n",
       " '*Sigh*': <gensim.models.keyedvectors.Vocab at 0x12814e6d8>,\n",
       " 'Actually': <gensim.models.keyedvectors.Vocab at 0x12814e710>,\n",
       " \"it's\": <gensim.models.keyedvectors.Vocab at 0x12814e7f0>,\n",
       " 'not': <gensim.models.keyedvectors.Vocab at 0x12814e908>,\n",
       " 'raining': <gensim.models.keyedvectors.Vocab at 0x12814e9b0>,\n",
       " 'yet,': <gensim.models.keyedvectors.Vocab at 0x1281492e8>,\n",
       " 'bought': <gensim.models.keyedvectors.Vocab at 0x128149080>,\n",
       " '15': <gensim.models.keyedvectors.Vocab at 0x128149320>,\n",
       " 'tickets': <gensim.models.keyedvectors.Vocab at 0x128149b38>,\n",
       " 'Goldeyes': <gensim.models.keyedvectors.Vocab at 0x128149dd8>,\n",
       " 'game': <gensim.models.keyedvectors.Vocab at 0x1281494a8>,\n",
       " 'for': <gensim.models.keyedvectors.Vocab at 0x128149588>,\n",
       " \"Mom's\": <gensim.models.keyedvectors.Vocab at 0x1281496d8>,\n",
       " 'birthday': <gensim.models.keyedvectors.Vocab at 0x128149278>,\n",
       " 'tonight,': <gensim.models.keyedvectors.Vocab at 0x128149470>,\n",
       " 'rain.': <gensim.models.keyedvectors.Vocab at 0x128149630>,\n",
       " 'Do': <gensim.models.keyedvectors.Vocab at 0x128149940>,\n",
       " 'they': <gensim.models.keyedvectors.Vocab at 0x128149c18>,\n",
       " 'cancel': <gensim.models.keyedvectors.Vocab at 0x128149a90>,\n",
       " 'baseball': <gensim.models.keyedvectors.Vocab at 0x128149e48>,\n",
       " 'games': <gensim.models.keyedvectors.Vocab at 0x128149390>,\n",
       " 'because': <gensim.models.keyedvectors.Vocab at 0x1281496a0>,\n",
       " 'rain?': <gensim.models.keyedvectors.Vocab at 0x128149550>,\n",
       " 'Although': <gensim.models.keyedvectors.Vocab at 0x128149b70>,\n",
       " 'ballpark': <gensim.models.keyedvectors.Vocab at 0x128149c50>,\n",
       " 'beautiful,': <gensim.models.keyedvectors.Vocab at 0x128149f28>,\n",
       " \"ain't\": <gensim.models.keyedvectors.Vocab at 0x128149710>,\n",
       " 'SkyDome': <gensim.models.keyedvectors.Vocab at 0x1281499e8>,\n",
       " '.': <gensim.models.keyedvectors.Vocab at 0x128149da0>,\n",
       " 'We': <gensim.models.keyedvectors.Vocab at 0x128149b00>,\n",
       " 'used': <gensim.models.keyedvectors.Vocab at 0x1281497b8>,\n",
       " 'Jays': <gensim.models.keyedvectors.Vocab at 0x128149780>,\n",
       " 'occassionally': <gensim.models.keyedvectors.Vocab at 0x1281491d0>,\n",
       " 'we': <gensim.models.keyedvectors.Vocab at 0x1281490b8>,\n",
       " 'lived': <gensim.models.keyedvectors.Vocab at 0x1281490f0>,\n",
       " 'Toronto': <gensim.models.keyedvectors.Vocab at 0x1281494e0>,\n",
       " 'really': <gensim.models.keyedvectors.Vocab at 0x128149748>,\n",
       " 'like': <gensim.models.keyedvectors.Vocab at 0x128149a20>,\n",
       " 'taking': <gensim.models.keyedvectors.Vocab at 0x128149828>,\n",
       " 'kids': <gensim.models.keyedvectors.Vocab at 0x128149160>,\n",
       " 'now.': <gensim.models.keyedvectors.Vocab at 0x128149be0>,\n",
       " \"don't\": <gensim.models.keyedvectors.Vocab at 0x128149cc0>,\n",
       " 'know': <gensim.models.keyedvectors.Vocab at 0x128149e10>,\n",
       " 'what': <gensim.models.keyedvectors.Vocab at 0x128149cf8>,\n",
       " 'Blue': <gensim.models.keyedvectors.Vocab at 0x128149ba8>,\n",
       " 'cost': <gensim.models.keyedvectors.Vocab at 0x12a4d2c18>,\n",
       " 'now,': <gensim.models.keyedvectors.Vocab at 0x12a4d2048>,\n",
       " \"I'm\": <gensim.models.keyedvectors.Vocab at 0x12a4d2f28>,\n",
       " 'sure': <gensim.models.keyedvectors.Vocab at 0x12a4d2ba8>,\n",
       " 'cheaper': <gensim.models.keyedvectors.Vocab at 0x12a4d2a20>,\n",
       " 'here': <gensim.models.keyedvectors.Vocab at 0x12a4d22b0>,\n",
       " 'Winnipeg.': <gensim.models.keyedvectors.Vocab at 0x12a4d2588>,\n",
       " 'Oh,': <gensim.models.keyedvectors.Vocab at 0x12a4d2d30>,\n",
       " 'just': <gensim.models.keyedvectors.Vocab at 0x12a4d2e48>,\n",
       " 'checked': <gensim.models.keyedvectors.Vocab at 0x12a4d2f98>,\n",
       " 'definitely': <gensim.models.keyedvectors.Vocab at 0x12a4d2240>,\n",
       " 'is!': <gensim.models.keyedvectors.Vocab at 0x12a4d2320>,\n",
       " 'Ha!': <gensim.models.keyedvectors.Vocab at 0x12a4d2518>,\n",
       " 'Just': <gensim.models.keyedvectors.Vocab at 0x12a4d25f8>,\n",
       " 'set': <gensim.models.keyedvectors.Vocab at 0x12a4d26d8>,\n",
       " 'RSS': <gensim.models.keyedvectors.Vocab at 0x12a4d2780>,\n",
       " 'feed': <gensim.models.keyedvectors.Vocab at 0x12a4d28d0>,\n",
       " '-': <gensim.models.keyedvectors.Vocab at 0x12a4d2a58>,\n",
       " 'that': <gensim.models.keyedvectors.Vocab at 0x12a4d2b00>,\n",
       " 'easy!': <gensim.models.keyedvectors.Vocab at 0x12a4d2c50>,\n",
       " 'Why': <gensim.models.keyedvectors.Vocab at 0x12a4d2cf8>,\n",
       " \"doesn't\": <gensim.models.keyedvectors.Vocab at 0x12a4d2eb8>,\n",
       " 'it?': <gensim.models.keyedvectors.Vocab at 0x12a4d2fd0>,\n",
       " 'Enough': <gensim.models.keyedvectors.Vocab at 0x12a4d2358>,\n",
       " 'today.': <gensim.models.keyedvectors.Vocab at 0x12a4d2400>,\n",
       " 'The': <gensim.models.keyedvectors.Vocab at 0x12a4d2710>,\n",
       " 'sun': <gensim.models.keyedvectors.Vocab at 0x12a4d2898>,\n",
       " 'shining': <gensim.models.keyedvectors.Vocab at 0x12a4d2908>,\n",
       " 'outside': <gensim.models.keyedvectors.Vocab at 0x12a4d2ac8>,\n",
       " 'planting': <gensim.models.keyedvectors.Vocab at 0x12a4d2da0>,\n",
       " 'poor': <gensim.models.keyedvectors.Vocab at 0x12a4d2630>,\n",
       " 'flowers': <gensim.models.keyedvectors.Vocab at 0x12a4d27b8>,\n",
       " '(that': <gensim.models.keyedvectors.Vocab at 0x12a4d2b38>,\n",
       " 'spent': <gensim.models.keyedvectors.Vocab at 0x12a4d2e80>,\n",
       " 'far': <gensim.models.keyedvectors.Vocab at 0x12a4d2d68>,\n",
       " 'too': <gensim.models.keyedvectors.Vocab at 0x12a4d2128>,\n",
       " 'long': <gensim.models.keyedvectors.Vocab at 0x12a4d23c8>,\n",
       " 'their': <gensim.models.keyedvectors.Vocab at 0x12a4d2438>,\n",
       " 'pots)': <gensim.models.keyedvectors.Vocab at 0x12a4d2cc0>,\n",
       " '3': <gensim.models.keyedvectors.Vocab at 0x12a4d2be0>,\n",
       " 'kindergartners': <gensim.models.keyedvectors.Vocab at 0x12a4d2b70>,\n",
       " 'preschooler': <gensim.models.keyedvectors.Vocab at 0x12a4d29e8>,\n",
       " 'who': <gensim.models.keyedvectors.Vocab at 0x12a4d29b0>,\n",
       " 'refusing': <gensim.models.keyedvectors.Vocab at 0x12a4d2940>,\n",
       " 'outside.': <gensim.models.keyedvectors.Vocab at 0x12a4d2828>,\n",
       " 'Little': <gensim.models.keyedvectors.Vocab at 0x12a4d27f0>,\n",
       " 'gameboy': <gensim.models.keyedvectors.Vocab at 0x12a4d25c0>,\n",
       " 'junkies...': <gensim.models.keyedvectors.Vocab at 0x12a4d2208>,\n",
       " 'talk!': <gensim.models.keyedvectors.Vocab at 0x12a4d2198>,\n",
       " 'Last': <gensim.models.keyedvectors.Vocab at 0x12a4d2160>,\n",
       " 'post': <gensim.models.keyedvectors.Vocab at 0x12a4d2080>,\n",
       " 'today,': <gensim.models.keyedvectors.Vocab at 0x12814c080>,\n",
       " 'promise.': <gensim.models.keyedvectors.Vocab at 0x12814c128>,\n",
       " 'which': <gensim.models.keyedvectors.Vocab at 0x12814c278>,\n",
       " 'reminded': <gensim.models.keyedvectors.Vocab at 0x12814c470>,\n",
       " 'me,': <gensim.models.keyedvectors.Vocab at 0x12814c710>,\n",
       " 'were': <gensim.models.keyedvectors.Vocab at 0x12814c780>,\n",
       " 'talking': <gensim.models.keyedvectors.Vocab at 0x12814c940>,\n",
       " 'about': <gensim.models.keyedvectors.Vocab at 0x12814c9e8>,\n",
       " 'canning': <gensim.models.keyedvectors.Vocab at 0x12814cb00>,\n",
       " 'food': <gensim.models.keyedvectors.Vocab at 0x12814cb70>,\n",
       " 'at': <gensim.models.keyedvectors.Vocab at 0x12814cba8>,\n",
       " 'coffee': <gensim.models.keyedvectors.Vocab at 0x12814ccf8>,\n",
       " 'break': <gensim.models.keyedvectors.Vocab at 0x12814cda0>,\n",
       " 'Is': <gensim.models.keyedvectors.Vocab at 0x12814cf28>,\n",
       " 'becoming': <gensim.models.keyedvectors.Vocab at 0x12814cfd0>,\n",
       " 'lost': <gensim.models.keyedvectors.Vocab at 0x12814ad68>,\n",
       " 'art?': <gensim.models.keyedvectors.Vocab at 0x12814ae48>,\n",
       " 'Are': <gensim.models.keyedvectors.Vocab at 0x12814af60>,\n",
       " 'any': <gensim.models.keyedvectors.Vocab at 0x12814afd0>,\n",
       " 'people': <gensim.models.keyedvectors.Vocab at 0x12814a668>,\n",
       " 'under': <gensim.models.keyedvectors.Vocab at 0x12814ac88>,\n",
       " '40': <gensim.models.keyedvectors.Vocab at 0x12814a1d0>,\n",
       " 'how': <gensim.models.keyedvectors.Vocab at 0x12814a860>,\n",
       " 'this?': <gensim.models.keyedvectors.Vocab at 0x12814ac18>,\n",
       " 'Those': <gensim.models.keyedvectors.Vocab at 0x12814a4e0>,\n",
       " 'us': <gensim.models.keyedvectors.Vocab at 0x12814a780>,\n",
       " 'fall': <gensim.models.keyedvectors.Vocab at 0x12814aac8>,\n",
       " 'age': <gensim.models.keyedvectors.Vocab at 0x12814a940>,\n",
       " 'range': <gensim.models.keyedvectors.Vocab at 0x12814a748>,\n",
       " \"couldn't.\": <gensim.models.keyedvectors.Vocab at 0x12814aa20>,\n",
       " 'What': <gensim.models.keyedvectors.Vocab at 0x12814a240>,\n",
       " 'would': <gensim.models.keyedvectors.Vocab at 0x12814a2e8>,\n",
       " 'happen': <gensim.models.keyedvectors.Vocab at 0x12814a438>,\n",
       " 'if': <gensim.models.keyedvectors.Vocab at 0x12814ae10>,\n",
       " 'world': <gensim.models.keyedvectors.Vocab at 0x12814aef0>,\n",
       " 'ceased': <gensim.models.keyedvectors.Vocab at 0x12814ad30>,\n",
       " 'exist': <gensim.models.keyedvectors.Vocab at 0x12814a0b8>,\n",
       " '(a': <gensim.models.keyedvectors.Vocab at 0x12814ae80>,\n",
       " 'la': <gensim.models.keyedvectors.Vocab at 0x12814ab38>,\n",
       " 'Day': <gensim.models.keyedvectors.Vocab at 0x12814a710>,\n",
       " 'After': <gensim.models.keyedvectors.Vocab at 0x12814a198>,\n",
       " 'Tomorrow': <gensim.models.keyedvectors.Vocab at 0x12814aeb8>,\n",
       " 'only': <gensim.models.keyedvectors.Vocab at 0x12814a320>,\n",
       " 'being': <gensim.models.keyedvectors.Vocab at 0x12814a278>,\n",
       " 'released': <gensim.models.keyedvectors.Vocab at 0x12814a358>,\n",
       " 'today': <gensim.models.keyedvectors.Vocab at 0x12813fdd8>,\n",
       " \"can't\": <gensim.models.keyedvectors.Vocab at 0x12813fc88>,\n",
       " 'wait': <gensim.models.keyedvectors.Vocab at 0x12813f860>,\n",
       " 'see': <gensim.models.keyedvectors.Vocab at 0x12813f198>,\n",
       " 'love': <gensim.models.keyedvectors.Vocab at 0x12813fcc0>,\n",
       " 'good': <gensim.models.keyedvectors.Vocab at 0x12813feb8>,\n",
       " 'escapist': <gensim.models.keyedvectors.Vocab at 0x12813f400>,\n",
       " 'picture': <gensim.models.keyedvectors.Vocab at 0x12813f6d8>,\n",
       " 'lots': <gensim.models.keyedvectors.Vocab at 0x12813f5f8>,\n",
       " 'special': <gensim.models.keyedvectors.Vocab at 0x12813f5c0>,\n",
       " 'effects)': <gensim.models.keyedvectors.Vocab at 0x12813fa58>,\n",
       " 'had': <gensim.models.keyedvectors.Vocab at 0x12813f4e0>,\n",
       " 'preserve': <gensim.models.keyedvectors.Vocab at 0x12813f048>,\n",
       " 'our': <gensim.models.keyedvectors.Vocab at 0x12813fb00>,\n",
       " 'somehow?': <gensim.models.keyedvectors.Vocab at 0x12813ff28>,\n",
       " 'Canada': <gensim.models.keyedvectors.Vocab at 0x12813fac8>,\n",
       " 'need': <gensim.models.keyedvectors.Vocab at 0x12813f208>,\n",
       " 'food.': <gensim.models.keyedvectors.Vocab at 0x12813f1d0>,\n",
       " 'found': <gensim.models.keyedvectors.Vocab at 0x12813f9e8>,\n",
       " 'sites': <gensim.models.keyedvectors.Vocab at 0x12813f438>,\n",
       " 'canning,': <gensim.models.keyedvectors.Vocab at 0x12813f4a8>,\n",
       " 'including': <gensim.models.keyedvectors.Vocab at 0x12813f588>,\n",
       " 'one': <gensim.models.keyedvectors.Vocab at 0x128145cf8>,\n",
       " ',': <gensim.models.keyedvectors.Vocab at 0x128145978>,\n",
       " 'guess': <gensim.models.keyedvectors.Vocab at 0x128145240>,\n",
       " \"wouldn't\": <gensim.models.keyedvectors.Vocab at 0x128145dd8>,\n",
       " 'help': <gensim.models.keyedvectors.Vocab at 0x128145c88>,\n",
       " 'me': <gensim.models.keyedvectors.Vocab at 0x128145d68>,\n",
       " 'much': <gensim.models.keyedvectors.Vocab at 0x1281454e0>,\n",
       " 'went.': <gensim.models.keyedvectors.Vocab at 0x128145710>,\n",
       " 'Better': <gensim.models.keyedvectors.Vocab at 0x128145588>,\n",
       " 'print': <gensim.models.keyedvectors.Vocab at 0x128145550>,\n",
       " 'out': <gensim.models.keyedvectors.Vocab at 0x128145358>,\n",
       " 'keep': <gensim.models.keyedvectors.Vocab at 0x1281451d0>,\n",
       " 'case!': <gensim.models.keyedvectors.Vocab at 0x1281450f0>,\n",
       " \"I've\": <gensim.models.keyedvectors.Vocab at 0x128145e10>,\n",
       " 'tried': <gensim.models.keyedvectors.Vocab at 0x1281453c8>,\n",
       " 'starting': <gensim.models.keyedvectors.Vocab at 0x128145d30>,\n",
       " 'blog': <gensim.models.keyedvectors.Vocab at 0x128145ef0>,\n",
       " 'after': <gensim.models.keyedvectors.Vocab at 0x128145668>,\n",
       " 'feels': <gensim.models.keyedvectors.Vocab at 0x128145ba8>,\n",
       " 'right.': <gensim.models.keyedvectors.Vocab at 0x128145a20>,\n",
       " 'Then': <gensim.models.keyedvectors.Vocab at 0x1281455f8>,\n",
       " 'read': <gensim.models.keyedvectors.Vocab at 0x1281454a8>,\n",
       " 'strange': <gensim.models.keyedvectors.Vocab at 0x128145c18>,\n",
       " 'most': <gensim.models.keyedvectors.Vocab at 0x128145438>,\n",
       " 'people,': <gensim.models.keyedvectors.Vocab at 0x128145e80>,\n",
       " 'more': <gensim.models.keyedvectors.Vocab at 0x128145208>,\n",
       " 'you': <gensim.models.keyedvectors.Vocab at 0x1281458d0>,\n",
       " 'better': <gensim.models.keyedvectors.Vocab at 0x128145400>,\n",
       " 'gets': <gensim.models.keyedvectors.Vocab at 0x12819b470>,\n",
       " '(hmm,': <gensim.models.keyedvectors.Vocab at 0x12819bc18>,\n",
       " 'sounds': <gensim.models.keyedvectors.Vocab at 0x12819b8d0>,\n",
       " 'suspiciously': <gensim.models.keyedvectors.Vocab at 0x12819b550>,\n",
       " 'something': <gensim.models.keyedvectors.Vocab at 0x12819b518>,\n",
       " 'else!)': <gensim.models.keyedvectors.Vocab at 0x12819b080>,\n",
       " 'decided': <gensim.models.keyedvectors.Vocab at 0x12819b780>,\n",
       " 'give': <gensim.models.keyedvectors.Vocab at 0x12819b4a8>,\n",
       " 'another': <gensim.models.keyedvectors.Vocab at 0x12819b240>,\n",
       " 'try.': <gensim.models.keyedvectors.Vocab at 0x12819b978>,\n",
       " 'husband': <gensim.models.keyedvectors.Vocab at 0x12819b7f0>,\n",
       " 'notepad': <gensim.models.keyedvectors.Vocab at 0x12819e160>,\n",
       " 'McNally': <gensim.models.keyedvectors.Vocab at 0x12819e1d0>,\n",
       " '(the': <gensim.models.keyedvectors.Vocab at 0x12819e2b0>,\n",
       " 'best': <gensim.models.keyedvectors.Vocab at 0x12819e2e8>,\n",
       " 'bookstore': <gensim.models.keyedvectors.Vocab at 0x12819e358>,\n",
       " 'Western': <gensim.models.keyedvectors.Vocab at 0x12819e4a8>,\n",
       " 'Canada)': <gensim.models.keyedvectors.Vocab at 0x12819e5f8>,\n",
       " 'title': <gensim.models.keyedvectors.Vocab at 0x12819e6a0>,\n",
       " '50s': <gensim.models.keyedvectors.Vocab at 0x12819e6d8>,\n",
       " 'housewife': <gensim.models.keyedvectors.Vocab at 0x12819e710>,\n",
       " 'grinning': <gensim.models.keyedvectors.Vocab at 0x12819ebe0>,\n",
       " 'desperately.': <gensim.models.keyedvectors.Vocab at 0x12819ed30>,\n",
       " 'Each': <gensim.models.keyedvectors.Vocab at 0x12819edd8>,\n",
       " 'page': <gensim.models.keyedvectors.Vocab at 0x12819eef0>,\n",
       " 'funny': <gensim.models.keyedvectors.Vocab at 0x12819ef60>,\n",
       " '\"New': <gensim.models.keyedvectors.Vocab at 0x12819ef98>,\n",
       " 'curtains!': <gensim.models.keyedvectors.Vocab at 0x12819efd0>,\n",
       " 'Hurrah!\".': <gensim.models.keyedvectors.Vocab at 0x1281bf320>,\n",
       " 'For': <gensim.models.keyedvectors.Vocab at 0x1281bf358>,\n",
       " 'some': <gensim.models.keyedvectors.Vocab at 0x1281bf390>,\n",
       " 'reason': <gensim.models.keyedvectors.Vocab at 0x1281bf3c8>,\n",
       " 'struck': <gensim.models.keyedvectors.Vocab at 0x1281bf400>,\n",
       " 'absolutely': <gensim.models.keyedvectors.Vocab at 0x1281bf470>,\n",
       " 'hilarious': <gensim.models.keyedvectors.Vocab at 0x1281bf860>,\n",
       " 'stuck': <gensim.models.keyedvectors.Vocab at 0x1281bf898>,\n",
       " 'head': <gensim.models.keyedvectors.Vocab at 0x1281bfd68>,\n",
       " 'ever': <gensim.models.keyedvectors.Vocab at 0x1281bfe48>,\n",
       " 'since.': <gensim.models.keyedvectors.Vocab at 0x1281bffd0>,\n",
       " 'those': <gensim.models.keyedvectors.Vocab at 0x1281980b8>,\n",
       " 'women': <gensim.models.keyedvectors.Vocab at 0x128198240>,\n",
       " 'thinking?': <gensim.models.keyedvectors.Vocab at 0x128198518>,\n",
       " '20th': <gensim.models.keyedvectors.Vocab at 0x128198668>,\n",
       " 'high': <gensim.models.keyedvectors.Vocab at 0x128198710>,\n",
       " 'school': <gensim.models.keyedvectors.Vocab at 0x1281987b8>,\n",
       " 'reunion': <gensim.models.keyedvectors.Vocab at 0x128198898>,\n",
       " 'weekend.': <gensim.models.keyedvectors.Vocab at 0x1281988d0>,\n",
       " 'There': <gensim.models.keyedvectors.Vocab at 0x1281989b0>,\n",
       " 'over': <gensim.models.keyedvectors.Vocab at 0x128198a20>,\n",
       " '100': <gensim.models.keyedvectors.Vocab at 0x128198ac8>,\n",
       " 'coming,': <gensim.models.keyedvectors.Vocab at 0x128198b38>,\n",
       " 'time.': <gensim.models.keyedvectors.Vocab at 0x128198cc0>,\n",
       " 'Lots': <gensim.models.keyedvectors.Vocab at 0x128198cf8>,\n",
       " 'names': <gensim.models.keyedvectors.Vocab at 0x128198d68>,\n",
       " 'from': <gensim.models.keyedvectors.Vocab at 0x128198e80>,\n",
       " 'past.': <gensim.models.keyedvectors.Vocab at 0x128198ef0>,\n",
       " 'Funny,': <gensim.models.keyedvectors.Vocab at 0x1281ad198>,\n",
       " 'barely': <gensim.models.keyedvectors.Vocab at 0x1281ad6a0>,\n",
       " 'run': <gensim.models.keyedvectors.Vocab at 0x1281ad7b8>,\n",
       " 'into': <gensim.models.keyedvectors.Vocab at 0x1281ad9b0>,\n",
       " 'anyone,': <gensim.models.keyedvectors.Vocab at 0x1281ada90>,\n",
       " 'yet': <gensim.models.keyedvectors.Vocab at 0x1281adb70>,\n",
       " 'city.': <gensim.models.keyedvectors.Vocab at 0x1281adba8>,\n",
       " 'always': <gensim.models.keyedvectors.Vocab at 0x1281adbe0>,\n",
       " 'pizza': <gensim.models.keyedvectors.Vocab at 0x1281adc50>,\n",
       " 'Friday': <gensim.models.keyedvectors.Vocab at 0x1281adf98>,\n",
       " 'nights.': <gensim.models.keyedvectors.Vocab at 0x12819f240>,\n",
       " 'It': <gensim.models.keyedvectors.Vocab at 0x12819f358>,\n",
       " 'takes': <gensim.models.keyedvectors.Vocab at 0x12819f3c8>,\n",
       " 'stress': <gensim.models.keyedvectors.Vocab at 0x12819f4e0>,\n",
       " '\"what': <gensim.models.keyedvectors.Vocab at 0x12819f518>,\n",
       " 'am': <gensim.models.keyedvectors.Vocab at 0x12819f630>,\n",
       " 'make': <gensim.models.keyedvectors.Vocab at 0x12819fa20>,\n",
       " 'dinner\"': <gensim.models.keyedvectors.Vocab at 0x12819fa90>,\n",
       " 'look': <gensim.models.keyedvectors.Vocab at 0x12819fb00>,\n",
       " 'forward': <gensim.models.keyedvectors.Vocab at 0x12819fc18>,\n",
       " 'it.': <gensim.models.keyedvectors.Vocab at 0x12819fc50>,\n",
       " 'In': <gensim.models.keyedvectors.Vocab at 0x12819fe10>,\n",
       " 'fact,': <gensim.models.keyedvectors.Vocab at 0x1281a4898>,\n",
       " 'many': <gensim.models.keyedvectors.Vocab at 0x1281a4710>,\n",
       " 'friends': <gensim.models.keyedvectors.Vocab at 0x1281a4198>,\n",
       " 'too!': <gensim.models.keyedvectors.Vocab at 0x1281a4588>,\n",
       " 'But': <gensim.models.keyedvectors.Vocab at 0x1281a4e10>,\n",
       " 'tonight': <gensim.models.keyedvectors.Vocab at 0x1281a4e80>,\n",
       " 'having': <gensim.models.keyedvectors.Vocab at 0x1281a4860>,\n",
       " 'family': <gensim.models.keyedvectors.Vocab at 0x1281cc908>,\n",
       " 'gathering': <gensim.models.keyedvectors.Vocab at 0x1281cc438>,\n",
       " \"mom's\": <gensim.models.keyedvectors.Vocab at 0x1281cc198>,\n",
       " 'offered': <gensim.models.keyedvectors.Vocab at 0x1281cccc0>,\n",
       " 'all': <gensim.models.keyedvectors.Vocab at 0x1281cc630>,\n",
       " 'kids.': <gensim.models.keyedvectors.Vocab at 0x1281cc9b0>,\n",
       " 'So': <gensim.models.keyedvectors.Vocab at 0x1281cc2e8>,\n",
       " 'madly': <gensim.models.keyedvectors.Vocab at 0x12819a0f0>,\n",
       " 'making': <gensim.models.keyedvectors.Vocab at 0x12819a198>,\n",
       " 'dough': <gensim.models.keyedvectors.Vocab at 0x12819a588>,\n",
       " 'breadmaker': <gensim.models.keyedvectors.Vocab at 0x12819a5c0>,\n",
       " '(which': <gensim.models.keyedvectors.Vocab at 0x12819a668>,\n",
       " 'easy': <gensim.models.keyedvectors.Vocab at 0x12819a898>,\n",
       " 'needs': <gensim.models.keyedvectors.Vocab at 0x12819a8d0>,\n",
       " 'done)': <gensim.models.keyedvectors.Vocab at 0x12819acf8>,\n",
       " 'freezing': <gensim.models.keyedvectors.Vocab at 0x12819add8>,\n",
       " 'cut': <gensim.models.keyedvectors.Vocab at 0x128199080>,\n",
       " 'vegetables': <gensim.models.keyedvectors.Vocab at 0x1281993c8>,\n",
       " 'vegetarian': <gensim.models.keyedvectors.Vocab at 0x128199400>,\n",
       " \"cousins'\": <gensim.models.keyedvectors.Vocab at 0x1281994a8>,\n",
       " 'pizzas': <gensim.models.keyedvectors.Vocab at 0x128199908>,\n",
       " 'grate': <gensim.models.keyedvectors.Vocab at 0x128199ba8>,\n",
       " 'huge': <gensim.models.keyedvectors.Vocab at 0x128199c18>,\n",
       " 'amount': <gensim.models.keyedvectors.Vocab at 0x128199c50>,\n",
       " 'cheese.': <gensim.models.keyedvectors.Vocab at 0x128199c88>,\n",
       " \"I'll\": <gensim.models.keyedvectors.Vocab at 0x128199d68>,\n",
       " 'cart': <gensim.models.keyedvectors.Vocab at 0x128199e48>,\n",
       " 'without': <gensim.models.keyedvectors.Vocab at 0x128199fd0>,\n",
       " 'wrecking': <gensim.models.keyedvectors.Vocab at 0x1281b6390>,\n",
       " 'crusts.': <gensim.models.keyedvectors.Vocab at 0x1281b6828>,\n",
       " 'usual': <gensim.models.keyedvectors.Vocab at 0x1281b69b0>,\n",
       " 'relaxing': <gensim.models.keyedvectors.Vocab at 0x1281b6b70>,\n",
       " 'night,': <gensim.models.keyedvectors.Vocab at 0x1281b67f0>,\n",
       " \"hasn't\": <gensim.models.keyedvectors.Vocab at 0x1281b60f0>,\n",
       " 'relaxed': <gensim.models.keyedvectors.Vocab at 0x1281b67b8>,\n",
       " 'all.': <gensim.models.keyedvectors.Vocab at 0x1281b6588>,\n",
       " 'Okay,': <gensim.models.keyedvectors.Vocab at 0x1281b6710>,\n",
       " 'saw': <gensim.models.keyedvectors.Vocab at 0x1281b6908>,\n",
       " 'past': <gensim.models.keyedvectors.Vocab at 0x1281b6550>,\n",
       " 'Not': <gensim.models.keyedvectors.Vocab at 0x1281cef98>,\n",
       " 'Independence': <gensim.models.keyedvectors.Vocab at 0x1281cef60>,\n",
       " 'sure.': <gensim.models.keyedvectors.Vocab at 0x1281cedd8>,\n",
       " 'than': <gensim.models.keyedvectors.Vocab at 0x1281ce8d0>,\n",
       " 'Raising': <gensim.models.keyedvectors.Vocab at 0x1281ce898>,\n",
       " 'Helen': <gensim.models.keyedvectors.Vocab at 0x1281ce6d8>,\n",
       " 'also': <gensim.models.keyedvectors.Vocab at 0x1281ce6a0>,\n",
       " 'saw.': <gensim.models.keyedvectors.Vocab at 0x1281ce668>,\n",
       " 'Yes,': <gensim.models.keyedvectors.Vocab at 0x1281ce4a8>,\n",
       " 'two': <gensim.models.keyedvectors.Vocab at 0x1281ce0f0>,\n",
       " 'movies': <gensim.models.keyedvectors.Vocab at 0x1281a7048>,\n",
       " 'weekend!': <gensim.models.keyedvectors.Vocab at 0x1281a7128>,\n",
       " 'was': <gensim.models.keyedvectors.Vocab at 0x1281a7208>,\n",
       " 'club,': <gensim.models.keyedvectors.Vocab at 0x1281a7240>,\n",
       " 'since': <gensim.models.keyedvectors.Vocab at 0x1281a7390>,\n",
       " \"hadn't\": <gensim.models.keyedvectors.Vocab at 0x1281a7400>,\n",
       " 'together': <gensim.models.keyedvectors.Vocab at 0x1281a7588>,\n",
       " 'forever.': <gensim.models.keyedvectors.Vocab at 0x1281a75f8>,\n",
       " 'Guess': <gensim.models.keyedvectors.Vocab at 0x1281a7668>,\n",
       " 'whom...': <gensim.models.keyedvectors.Vocab at 0x1281a76d8>,\n",
       " 'cataloguing': <gensim.models.keyedvectors.Vocab at 0x1281a7978>,\n",
       " 'film': <gensim.models.keyedvectors.Vocab at 0x1281a79e8>,\n",
       " 'scripts': <gensim.models.keyedvectors.Vocab at 0x1281a7a90>,\n",
       " 'work.': <gensim.models.keyedvectors.Vocab at 0x1281a7ac8>,\n",
       " 'fun!': <gensim.models.keyedvectors.Vocab at 0x1281a7b38>,\n",
       " 'writers': <gensim.models.keyedvectors.Vocab at 0x1281a7c88>,\n",
       " 'IMDB': <gensim.models.keyedvectors.Vocab at 0x1281a7eb8>,\n",
       " 'great': <gensim.models.keyedvectors.Vocab at 0x1281a7fd0>,\n",
       " 'database!': <gensim.models.keyedvectors.Vocab at 0x1281b3c50>,\n",
       " 'somewhere': <gensim.models.keyedvectors.Vocab at 0x1281b3d30>,\n",
       " 'mistakes': <gensim.models.keyedvectors.Vocab at 0x1281b3dd8>,\n",
       " 'there,': <gensim.models.keyedvectors.Vocab at 0x1281b3e80>,\n",
       " 'given': <gensim.models.keyedvectors.Vocab at 0x1281b3b38>,\n",
       " 'information,': <gensim.models.keyedvectors.Vocab at 0x1281b3048>,\n",
       " 'bound': <gensim.models.keyedvectors.Vocab at 0x1281b3080>,\n",
       " 'happen.': <gensim.models.keyedvectors.Vocab at 0x1281b3198>,\n",
       " 'And': <gensim.models.keyedvectors.Vocab at 0x1281b3240>,\n",
       " 'links!': <gensim.models.keyedvectors.Vocab at 0x1281b3278>,\n",
       " 'Library': <gensim.models.keyedvectors.Vocab at 0x1281b3320>,\n",
       " 'catalogues': <gensim.models.keyedvectors.Vocab at 0x1281b3390>,\n",
       " 'good.': <gensim.models.keyedvectors.Vocab at 0x1281b3400>,\n",
       " 'Best': <gensim.models.keyedvectors.Vocab at 0x1281b3588>,\n",
       " 'getting': <gensim.models.keyedvectors.Vocab at 0x1281b35c0>,\n",
       " 'little': <gensim.models.keyedvectors.Vocab at 0x1281b35f8>,\n",
       " 'sneak': <gensim.models.keyedvectors.Vocab at 0x1281b3780>,\n",
       " 'peek': <gensim.models.keyedvectors.Vocab at 0x1281b3940>,\n",
       " \"people's\": <gensim.models.keyedvectors.Vocab at 0x1281b3a90>,\n",
       " 'lives.': <gensim.models.keyedvectors.Vocab at 0x1281cbe80>,\n",
       " 'enough': <gensim.models.keyedvectors.Vocab at 0x1281cb710>,\n",
       " 'get': <gensim.models.keyedvectors.Vocab at 0x1281cb828>,\n",
       " 'your': <gensim.models.keyedvectors.Vocab at 0x1281cb7f0>,\n",
       " 'imagination': <gensim.models.keyedvectors.Vocab at 0x1281cbf28>,\n",
       " 'going...': <gensim.models.keyedvectors.Vocab at 0x1281cbda0>,\n",
       " 'Paul': <gensim.models.keyedvectors.Vocab at 0x1281cbd68>,\n",
       " 'Martin': <gensim.models.keyedvectors.Vocab at 0x1281cbd30>,\n",
       " 'promised': <gensim.models.keyedvectors.Vocab at 0x1281cbcc0>,\n",
       " 'he': <gensim.models.keyedvectors.Vocab at 0x1281cbbe0>,\n",
       " 'elected': <gensim.models.keyedvectors.Vocab at 0x1281cbb70>,\n",
       " 'will': <gensim.models.keyedvectors.Vocab at 0x1281cbb00>,\n",
       " 'create': <gensim.models.keyedvectors.Vocab at 0x1281cba90>,\n",
       " '250,000': <gensim.models.keyedvectors.Vocab at 0x1281cb9b0>,\n",
       " 'new': <gensim.models.keyedvectors.Vocab at 0x1281cb908>,\n",
       " 'affordable': <gensim.models.keyedvectors.Vocab at 0x1281cb518>,\n",
       " 'child': <gensim.models.keyedvectors.Vocab at 0x1281cb3c8>,\n",
       " 'care': <gensim.models.keyedvectors.Vocab at 0x1281cb320>,\n",
       " 'spaces.': <gensim.models.keyedvectors.Vocab at 0x1281cb2b0>,\n",
       " 'think': <gensim.models.keyedvectors.Vocab at 0x1281cb240>,\n",
       " 'time': <gensim.models.keyedvectors.Vocab at 0x1281cb208>,\n",
       " 'around': <gensim.models.keyedvectors.Vocab at 0x1281cb1d0>,\n",
       " 'too.': <gensim.models.keyedvectors.Vocab at 0x1281cb0b8>,\n",
       " 'want': <gensim.models.keyedvectors.Vocab at 0x1281cb080>,\n",
       " 'working': <gensim.models.keyedvectors.Vocab at 0x1281d13c8>,\n",
       " 'women,': <gensim.models.keyedvectors.Vocab at 0x1281d1470>,\n",
       " 'easier': <gensim.models.keyedvectors.Vocab at 0x1281d14e0>,\n",
       " 'work': <gensim.models.keyedvectors.Vocab at 0x1281d1550>,\n",
       " 'families.': <gensim.models.keyedvectors.Vocab at 0x1281d15c0>,\n",
       " 'An': <gensim.models.keyedvectors.Vocab at 0x1281d15f8>,\n",
       " 'space': <gensim.models.keyedvectors.Vocab at 0x1281d1668>,\n",
       " 'helpful,': <gensim.models.keyedvectors.Vocab at 0x1281d16a0>,\n",
       " 'spend': <gensim.models.keyedvectors.Vocab at 0x1281d1748>,\n",
       " 'children,': <gensim.models.keyedvectors.Vocab at 0x1281d1780>,\n",
       " 'flexible': <gensim.models.keyedvectors.Vocab at 0x1281d1828>,\n",
       " 'arrangements.': <gensim.models.keyedvectors.Vocab at 0x1281d1898>,\n",
       " 'Instead': <gensim.models.keyedvectors.Vocab at 0x1281d18d0>,\n",
       " \"year's\": <gensim.models.keyedvectors.Vocab at 0x1281d1940>,\n",
       " 'maternity': <gensim.models.keyedvectors.Vocab at 0x1281d1b38>,\n",
       " 'leave,': <gensim.models.keyedvectors.Vocab at 0x1281d1b70>,\n",
       " 'made': <gensim.models.keyedvectors.Vocab at 0x1281d1be0>,\n",
       " 'mandatory': <gensim.models.keyedvectors.Vocab at 0x1281d1d30>,\n",
       " 'employers': <gensim.models.keyedvectors.Vocab at 0x1281d1e10>,\n",
       " 'allow': <gensim.models.keyedvectors.Vocab at 0x1281d1080>,\n",
       " 'five': <gensim.models.keyedvectors.Vocab at 0x1281d12e8>,\n",
       " 'years': <gensim.models.keyedvectors.Vocab at 0x1281abc88>,\n",
       " 'part-time': <gensim.models.keyedvectors.Vocab at 0x1281ab0f0>,\n",
       " 'If': <gensim.models.keyedvectors.Vocab at 0x1281ab208>,\n",
       " 'worked': <gensim.models.keyedvectors.Vocab at 0x1281ab240>,\n",
       " 'least': <gensim.models.keyedvectors.Vocab at 0x1281ab390>,\n",
       " '50%': <gensim.models.keyedvectors.Vocab at 0x1281ab470>,\n",
       " 'hold': <gensim.models.keyedvectors.Vocab at 0x1281ab5f8>,\n",
       " 'jobs': <gensim.models.keyedvectors.Vocab at 0x1281ab630>,\n",
       " 'us.': <gensim.models.keyedvectors.Vocab at 0x1281ab6a0>,\n",
       " 'appeal': <gensim.models.keyedvectors.Vocab at 0x1281ab780>,\n",
       " 'moms.': <gensim.models.keyedvectors.Vocab at 0x1281ab8d0>,\n",
       " 'then': <gensim.models.keyedvectors.Vocab at 0x1281ab908>,\n",
       " 'spaces': <gensim.models.keyedvectors.Vocab at 0x1281ab940>,\n",
       " 'too,': <gensim.models.keyedvectors.Vocab at 0x1281abb00>,\n",
       " 'impossible': <gensim.models.keyedvectors.Vocab at 0x1281abbe0>,\n",
       " 'find': <gensim.models.keyedvectors.Vocab at 0x1281abc18>,\n",
       " 'right': <gensim.models.keyedvectors.Vocab at 0x1281abcc0>,\n",
       " 'pondering': <gensim.models.keyedvectors.Vocab at 0x1281abd68>,\n",
       " 'quitting': <gensim.models.keyedvectors.Vocab at 0x1281abdd8>,\n",
       " 'job.': <gensim.models.keyedvectors.Vocab at 0x1281abe80>,\n",
       " 'seems': <gensim.models.keyedvectors.Vocab at 0x1281abeb8>,\n",
       " 'ineveitable': <gensim.models.keyedvectors.Vocab at 0x1281abef0>,\n",
       " 'now...': <gensim.models.keyedvectors.Vocab at 0x1281abf28>,\n",
       " 'question': <gensim.models.keyedvectors.Vocab at 0x1281abf60>,\n",
       " 'when.': <gensim.models.keyedvectors.Vocab at 0x1281abf98>,\n",
       " 'No,': <gensim.models.keyedvectors.Vocab at 0x1281d3048>,\n",
       " \"haven't\": <gensim.models.keyedvectors.Vocab at 0x1281d3080>,\n",
       " 'seen': <gensim.models.keyedvectors.Vocab at 0x1281d30b8>,\n",
       " 'it,': <gensim.models.keyedvectors.Vocab at 0x1281d3208>,\n",
       " 'apparently': <gensim.models.keyedvectors.Vocab at 0x1281d3240>,\n",
       " 'unless': <gensim.models.keyedvectors.Vocab at 0x1281d3390>,\n",
       " 'librarian.': <gensim.models.keyedvectors.Vocab at 0x1281d33c8>,\n",
       " 'am!': <gensim.models.keyedvectors.Vocab at 0x1281d34a8>,\n",
       " 'over!': <gensim.models.keyedvectors.Vocab at 0x1281d3550>,\n",
       " 'people.': <gensim.models.keyedvectors.Vocab at 0x1281d35f8>,\n",
       " 'Most': <gensim.models.keyedvectors.Vocab at 0x1281d3668>,\n",
       " 'changed': <gensim.models.keyedvectors.Vocab at 0x1281d36a0>,\n",
       " 'much,': <gensim.models.keyedvectors.Vocab at 0x1281d36d8>,\n",
       " 'deal.': <gensim.models.keyedvectors.Vocab at 0x1281d3780>,\n",
       " 'Funny': <gensim.models.keyedvectors.Vocab at 0x1281d37b8>,\n",
       " 'things': <gensim.models.keyedvectors.Vocab at 0x1281d37f0>,\n",
       " 'important': <gensim.models.keyedvectors.Vocab at 0x1281d3860>,\n",
       " 'no': <gensim.models.keyedvectors.Vocab at 0x1281d39b0>,\n",
       " 'longer': <gensim.models.keyedvectors.Vocab at 0x1281d39e8>,\n",
       " 'are.': <gensim.models.keyedvectors.Vocab at 0x1281d3a20>,\n",
       " 'Anyway,': <gensim.models.keyedvectors.Vocab at 0x1281d3a58>,\n",
       " 'glad.': <gensim.models.keyedvectors.Vocab at 0x1281d3ac8>,\n",
       " 'very,': <gensim.models.keyedvectors.Vocab at 0x1281d3b00>,\n",
       " 'tired': <gensim.models.keyedvectors.Vocab at 0x1281d3be0>,\n",
       " 'glad': <gensim.models.keyedvectors.Vocab at 0x1281d3c50>,\n",
       " '4': <gensim.models.keyedvectors.Vocab at 0x1281d3c88>,\n",
       " 'days': <gensim.models.keyedvectors.Vocab at 0x1281d3cf8>,\n",
       " 'off': <gensim.models.keyedvectors.Vocab at 0x1281d3d30>,\n",
       " 'snooze': <gensim.models.keyedvectors.Vocab at 0x1281d3dd8>,\n",
       " 'bit.': <gensim.models.keyedvectors.Vocab at 0x1281d3e80>,\n",
       " 'astute': <gensim.models.keyedvectors.Vocab at 0x1281d3ef0>,\n",
       " 'among': <gensim.models.keyedvectors.Vocab at 0x1281d3f60>,\n",
       " 'note': <gensim.models.keyedvectors.Vocab at 0x1281d3f98>,\n",
       " 'minute': <gensim.models.keyedvectors.Vocab at 0x1281d3fd0>,\n",
       " 'shorter': <gensim.models.keyedvectors.Vocab at 0x12813c048>,\n",
       " '5th': <gensim.models.keyedvectors.Vocab at 0x12813c080>,\n",
       " 'one.': <gensim.models.keyedvectors.Vocab at 0x12813c0f0>,\n",
       " 'three': <gensim.models.keyedvectors.Vocab at 0x12813c160>,\n",
       " 'minutes': <gensim.models.keyedvectors.Vocab at 0x12813c278>,\n",
       " 'running,': <gensim.models.keyedvectors.Vocab at 0x12813c2b0>,\n",
       " 'walking--which': <gensim.models.keyedvectors.Vocab at 0x12813c2e8>,\n",
       " 'harder': <gensim.models.keyedvectors.Vocab at 0x12813c358>,\n",
       " 'previous': <gensim.models.keyedvectors.Vocab at 0x12813c390>,\n",
       " 'run-walk': <gensim.models.keyedvectors.Vocab at 0x12813c438>,\n",
       " 'ratio.': <gensim.models.keyedvectors.Vocab at 0x12813c5c0>,\n",
       " 'feeling': <gensim.models.keyedvectors.Vocab at 0x12813c5f8>,\n",
       " 'until': <gensim.models.keyedvectors.Vocab at 0x12813c630>,\n",
       " '4th': <gensim.models.keyedvectors.Vocab at 0x12813c6d8>,\n",
       " 'repetition,': <gensim.models.keyedvectors.Vocab at 0x12813c710>,\n",
       " 'difficult,': <gensim.models.keyedvectors.Vocab at 0x12813c748>,\n",
       " 'struggled': <gensim.models.keyedvectors.Vocab at 0x12813c8d0>,\n",
       " 'through': <gensim.models.keyedvectors.Vocab at 0x12813c940>,\n",
       " 'Tonight': <gensim.models.keyedvectors.Vocab at 0x12813c9b0>,\n",
       " 'noticed': <gensim.models.keyedvectors.Vocab at 0x12813ca58>,\n",
       " 'odd': <gensim.models.keyedvectors.Vocab at 0x12813cac8>,\n",
       " 'sensation.': <gensim.models.keyedvectors.Vocab at 0x12813cb00>,\n",
       " 'While': <gensim.models.keyedvectors.Vocab at 0x12813cc18>,\n",
       " 'happy': <gensim.models.keyedvectors.Vocab at 0x12813cc50>,\n",
       " 'take': <gensim.models.keyedvectors.Vocab at 0x12813cc88>,\n",
       " 'walking': <gensim.models.keyedvectors.Vocab at 0x12813cd30>,\n",
       " 'breaks,': <gensim.models.keyedvectors.Vocab at 0x12813cdd8>,\n",
       " 'moment': <gensim.models.keyedvectors.Vocab at 0x12813ce10>,\n",
       " 'started': <gensim.models.keyedvectors.Vocab at 0x12813ce48>,\n",
       " 'running': <gensim.models.keyedvectors.Vocab at 0x12813ce80>,\n",
       " 'again': <gensim.models.keyedvectors.Vocab at 0x12813cef0>,\n",
       " 'each': <gensim.models.keyedvectors.Vocab at 0x12813cf28>,\n",
       " 'legs': <gensim.models.keyedvectors.Vocab at 0x12813cf60>,\n",
       " 'felt': <gensim.models.keyedvectors.Vocab at 0x12813cfd0>,\n",
       " 'invigorated.': <gensim.models.keyedvectors.Vocab at 0x12814d6d8>,\n",
       " \"there's\": <gensim.models.keyedvectors.Vocab at 0x12814d550>,\n",
       " 'clever': <gensim.models.keyedvectors.Vocab at 0x12814deb8>,\n",
       " 'scientific': <gensim.models.keyedvectors.Vocab at 0x12814db38>,\n",
       " 'name': <gensim.models.keyedvectors.Vocab at 0x12814dcc0>,\n",
       " 'phenomenon.': <gensim.models.keyedvectors.Vocab at 0x12814d160>,\n",
       " 'However,': <gensim.models.keyedvectors.Vocab at 0x12814dd30>,\n",
       " 'fact': <gensim.models.keyedvectors.Vocab at 0x12814d3c8>,\n",
       " 'really,': <gensim.models.keyedvectors.Vocab at 0x12814dba8>,\n",
       " \"tonight's\": <gensim.models.keyedvectors.Vocab at 0x12814d940>,\n",
       " 'over.': <gensim.models.keyedvectors.Vocab at 0x12814d828>,\n",
       " 'pressing': <gensim.models.keyedvectors.Vocab at 0x12814d518>,\n",
       " 'whether': <gensim.models.keyedvectors.Vocab at 0x12814d080>,\n",
       " 'increase': <gensim.models.keyedvectors.Vocab at 0x12814dc50>,\n",
       " 'total': <gensim.models.keyedvectors.Vocab at 0x12814d710>,\n",
       " 'or': <gensim.models.keyedvectors.Vocab at 0x12814d898>,\n",
       " 'decrease': <gensim.models.keyedvectors.Vocab at 0x12814d588>,\n",
       " 'Since': <gensim.models.keyedvectors.Vocab at 0x12814d668>,\n",
       " 'schedule': <gensim.models.keyedvectors.Vocab at 0x12814d780>,\n",
       " 'following': <gensim.models.keyedvectors.Vocab at 0x12814d2b0>,\n",
       " 'says': <gensim.models.keyedvectors.Vocab at 0x12814d470>,\n",
       " 'time,': <gensim.models.keyedvectors.Vocab at 0x12814df28>,\n",
       " 'that.': <gensim.models.keyedvectors.Vocab at 0x12814d198>,\n",
       " \"They're\": <gensim.models.keyedvectors.Vocab at 0x12814d400>,\n",
       " 'experts,': <gensim.models.keyedvectors.Vocab at 0x12814dfd0>,\n",
       " \"all--I'm\": <gensim.models.keyedvectors.Vocab at 0x12814de48>,\n",
       " 'expensive': <gensim.models.keyedvectors.Vocab at 0x12814d9e8>,\n",
       " 'shoes.': <gensim.models.keyedvectors.Vocab at 0x12814d240>,\n",
       " \"didn't\": <gensim.models.keyedvectors.Vocab at 0x12814d8d0>,\n",
       " 'exactly': <gensim.models.keyedvectors.Vocab at 0x12814de80>,\n",
       " 'feel': <gensim.models.keyedvectors.Vocab at 0x12814db70>,\n",
       " 'call': <gensim.models.keyedvectors.Vocab at 0x12814d0f0>,\n",
       " '\"good,\"': <gensim.models.keyedvectors.Vocab at 0x12814dac8>,\n",
       " 'bad': <gensim.models.keyedvectors.Vocab at 0x12814d4a8>,\n",
       " 'either.': <gensim.models.keyedvectors.Vocab at 0x12814d7b8>,\n",
       " 'Actually,': <gensim.models.keyedvectors.Vocab at 0x128156a20>,\n",
       " 'third': <gensim.models.keyedvectors.Vocab at 0x128156630>,\n",
       " 'repetition': <gensim.models.keyedvectors.Vocab at 0x128156198>,\n",
       " 'million': <gensim.models.keyedvectors.Vocab at 0x128156860>,\n",
       " 'bucks;': <gensim.models.keyedvectors.Vocab at 0x128156320>,\n",
       " 'fourth,': <gensim.models.keyedvectors.Vocab at 0x128156f28>,\n",
       " 'flagged': <gensim.models.keyedvectors.Vocab at 0x128156b00>,\n",
       " '7th': <gensim.models.keyedvectors.Vocab at 0x1281560f0>,\n",
       " 'lungs': <gensim.models.keyedvectors.Vocab at 0x128156dd8>,\n",
       " 'inside': <gensim.models.keyedvectors.Vocab at 0x128156048>,\n",
       " 'out.': <gensim.models.keyedvectors.Vocab at 0x128156898>,\n",
       " 'probably': <gensim.models.keyedvectors.Vocab at 0x1281560b8>,\n",
       " 'done': <gensim.models.keyedvectors.Vocab at 0x128156e10>,\n",
       " '8': <gensim.models.keyedvectors.Vocab at 0x128156828>,\n",
       " 'repetitions,': <gensim.models.keyedvectors.Vocab at 0x1281569b0>,\n",
       " 'truth': <gensim.models.keyedvectors.Vocab at 0x128156eb8>,\n",
       " 'told,': <gensim.models.keyedvectors.Vocab at 0x1281566a0>,\n",
       " 'regret': <gensim.models.keyedvectors.Vocab at 0x128156518>,\n",
       " 'saying': <gensim.models.keyedvectors.Vocab at 0x128156978>,\n",
       " 'Wednesday.': <gensim.models.keyedvectors.Vocab at 0x1281563c8>,\n",
       " 'Jon': <gensim.models.keyedvectors.Vocab at 0x128156c18>,\n",
       " 'health': <gensim.models.keyedvectors.Vocab at 0x12a4da400>,\n",
       " 'kick': <gensim.models.keyedvectors.Vocab at 0x12a4da7b8>,\n",
       " 'too;': <gensim.models.keyedvectors.Vocab at 0x12a4da1d0>,\n",
       " \"he's\": <gensim.models.keyedvectors.Vocab at 0x12a4daa20>,\n",
       " 'join': <gensim.models.keyedvectors.Vocab at 0x12a4da208>,\n",
       " 'running.': <gensim.models.keyedvectors.Vocab at 0x12a4da2e8>,\n",
       " 'might': <gensim.models.keyedvectors.Vocab at 0x12a4da668>,\n",
       " 'bit': <gensim.models.keyedvectors.Vocab at 0x12a4da390>,\n",
       " 'slow': <gensim.models.keyedvectors.Vocab at 0x12a4da630>,\n",
       " 'him.': <gensim.models.keyedvectors.Vocab at 0x12a4da2b0>,\n",
       " 'Today': <gensim.models.keyedvectors.Vocab at 0x12a4da128>,\n",
       " 'jogger': <gensim.models.keyedvectors.Vocab at 0x12a4da6a0>,\n",
       " 'rather': <gensim.models.keyedvectors.Vocab at 0x12a4da780>,\n",
       " 'runner--I': <gensim.models.keyedvectors.Vocab at 0x12a4da8d0>,\n",
       " 'massive': <gensim.models.keyedvectors.Vocab at 0x12a4da4a8>,\n",
       " 'crap': <gensim.models.keyedvectors.Vocab at 0x12a4daac8>,\n",
       " '(chocolate': <gensim.models.keyedvectors.Vocab at 0x12a4dadd8>,\n",
       " 'syrup,': <gensim.models.keyedvectors.Vocab at 0x12a4da048>,\n",
       " 'ice': <gensim.models.keyedvectors.Vocab at 0x12a4da320>,\n",
       " 'cream,': <gensim.models.keyedvectors.Vocab at 0x12a4da358>,\n",
       " 'crisps,': <gensim.models.keyedvectors.Vocab at 0x12a4da470>,\n",
       " 'pizza,': <gensim.models.keyedvectors.Vocab at 0x12a4da5c0>,\n",
       " 'etc.)': <gensim.models.keyedvectors.Vocab at 0x12a4da6d8>,\n",
       " 'eating': <gensim.models.keyedvectors.Vocab at 0x12a4da898>,\n",
       " 'couple': <gensim.models.keyedvectors.Vocab at 0x12a4dacc0>,\n",
       " 'days.': <gensim.models.keyedvectors.Vocab at 0x12a4dad30>,\n",
       " 'can': <gensim.models.keyedvectors.Vocab at 0x12a4da4e0>,\n",
       " 'assure': <gensim.models.keyedvectors.Vocab at 0x12a4da518>,\n",
       " 'laughably': <gensim.models.keyedvectors.Vocab at 0x12a4da940>,\n",
       " 'easy.': <gensim.models.keyedvectors.Vocab at 0x12a4dab38>,\n",
       " \"wasn't\": <gensim.models.keyedvectors.Vocab at 0x12a4dac50>,\n",
       " 'hard': <gensim.models.keyedvectors.Vocab at 0x12a4dacf8>,\n",
       " 'pretty': <gensim.models.keyedvectors.Vocab at 0x12a4da240>,\n",
       " 'painful.': <gensim.models.keyedvectors.Vocab at 0x12a4daba8>,\n",
       " 'start': <gensim.models.keyedvectors.Vocab at 0x12a4dac18>,\n",
       " 'thinking': <gensim.models.keyedvectors.Vocab at 0x12a4da438>,\n",
       " 'going.': <gensim.models.keyedvectors.Vocab at 0x12a4da860>,\n",
       " 'to.': <gensim.models.keyedvectors.Vocab at 0x12a4dad68>,\n",
       " 'die.': <gensim.models.keyedvectors.Vocab at 0x12a4dada0>,\n",
       " 'point': <gensim.models.keyedvectors.Vocab at 0x12a4dafd0>,\n",
       " 'told': <gensim.models.keyedvectors.Vocab at 0x12a4da198>,\n",
       " 'myself': <gensim.models.keyedvectors.Vocab at 0x12a4da5f8>,\n",
       " '5': <gensim.models.keyedvectors.Vocab at 0x12a4daf60>,\n",
       " 'repetitions.': <gensim.models.keyedvectors.Vocab at 0x12a4da748>,\n",
       " 'even': <gensim.models.keyedvectors.Vocab at 0x12a4da828>,\n",
       " 'sorts': <gensim.models.keyedvectors.Vocab at 0x12a4dae80>,\n",
       " 'excuses': <gensim.models.keyedvectors.Vocab at 0x12a4daeb8>,\n",
       " 'figured': <gensim.models.keyedvectors.Vocab at 0x12a4da588>,\n",
       " 'out:': <gensim.models.keyedvectors.Vocab at 0x12a4da710>,\n",
       " 'midday': <gensim.models.keyedvectors.Vocab at 0x12a4da908>,\n",
       " 'sun;': <gensim.models.keyedvectors.Vocab at 0x12a4da160>,\n",
       " 'park': <gensim.models.keyedvectors.Vocab at 0x12a4dae48>,\n",
       " 'uneven': <gensim.models.keyedvectors.Vocab at 0x12a4da278>,\n",
       " 'ground,': <gensim.models.keyedvectors.Vocab at 0x12a4da550>,\n",
       " 'vaguely': <gensim.models.keyedvectors.Vocab at 0x12a4daef0>,\n",
       " 'hung-over.': <gensim.models.keyedvectors.Vocab at 0x12a4dac88>,\n",
       " 'end': <gensim.models.keyedvectors.Vocab at 0x12a4daf28>,\n",
       " 'thought': <gensim.models.keyedvectors.Vocab at 0x12a4daf98>,\n",
       " 'coming': <gensim.models.keyedvectors.Vocab at 0x12a4dabe0>,\n",
       " 'writing': <gensim.models.keyedvectors.Vocab at 0x12a4da0b8>,\n",
       " 'down': <gensim.models.keyedvectors.Vocab at 0x12a4dab00>,\n",
       " 'wussed': <gensim.models.keyedvectors.Vocab at 0x12a4da3c8>,\n",
       " '6th': <gensim.models.keyedvectors.Vocab at 0x12a4dae10>,\n",
       " 'repetition.': <gensim.models.keyedvectors.Vocab at 0x12a4d89b0>,\n",
       " 'reward': <gensim.models.keyedvectors.Vocab at 0x12a4d8b38>,\n",
       " 'hot': <gensim.models.keyedvectors.Vocab at 0x12a4d8f98>,\n",
       " 'bath.': <gensim.models.keyedvectors.Vocab at 0x12a4d84a8>,\n",
       " 'between': <gensim.models.keyedvectors.Vocab at 0x12a4d8160>,\n",
       " 'periods': <gensim.models.keyedvectors.Vocab at 0x12a4d8588>,\n",
       " 'did': <gensim.models.keyedvectors.Vocab at 0x12a4d85c0>,\n",
       " '2': <gensim.models.keyedvectors.Vocab at 0x12a4d8630>,\n",
       " 'on,': <gensim.models.keyedvectors.Vocab at 0x12a4d80f0>,\n",
       " 'off,': <gensim.models.keyedvectors.Vocab at 0x12a4d8a20>,\n",
       " 'repeated': <gensim.models.keyedvectors.Vocab at 0x12a4d8240>,\n",
       " '6': <gensim.models.keyedvectors.Vocab at 0x12a4d81d0>,\n",
       " 'times.': <gensim.models.keyedvectors.Vocab at 0x12a4d8080>,\n",
       " 'first': <gensim.models.keyedvectors.Vocab at 0x12a4d8be0>,\n",
       " 'middle': <gensim.models.keyedvectors.Vocab at 0x12a4d8cf8>,\n",
       " 'fine;': <gensim.models.keyedvectors.Vocab at 0x12a4d8f60>,\n",
       " 'top': <gensim.models.keyedvectors.Vocab at 0x12a4d8b00>,\n",
       " 'world.': <gensim.models.keyedvectors.Vocab at 0x12a4d87f0>,\n",
       " 'considered': <gensim.models.keyedvectors.Vocab at 0x12a4d8710>,\n",
       " 'doing': <gensim.models.keyedvectors.Vocab at 0x12a4d8780>,\n",
       " 'finished': <gensim.models.keyedvectors.Vocab at 0x12a4d8a58>,\n",
       " '5th,': <gensim.models.keyedvectors.Vocab at 0x12a4d8d68>,\n",
       " 'further': <gensim.models.keyedvectors.Vocab at 0x12a4d8c50>,\n",
       " 'away': <gensim.models.keyedvectors.Vocab at 0x12a4d8400>,\n",
       " 'house': <gensim.models.keyedvectors.Vocab at 0x12a4d8470>,\n",
       " 'expected,': <gensim.models.keyedvectors.Vocab at 0x12a4d82b0>,\n",
       " 'slogged': <gensim.models.keyedvectors.Vocab at 0x12a4d8320>,\n",
       " '6th.': <gensim.models.keyedvectors.Vocab at 0x12a4d8908>,\n",
       " 'real': <gensim.models.keyedvectors.Vocab at 0x12a4d8eb8>,\n",
       " 'struggle.': <gensim.models.keyedvectors.Vocab at 0x12a4d8198>,\n",
       " 'literally': <gensim.models.keyedvectors.Vocab at 0x12a4d8358>,\n",
       " 'forcing': <gensim.models.keyedvectors.Vocab at 0x12a4d83c8>,\n",
       " 'put': <gensim.models.keyedvectors.Vocab at 0x12a4d84e0>,\n",
       " 'foot': <gensim.models.keyedvectors.Vocab at 0x12a4d8518>,\n",
       " 'front': <gensim.models.keyedvectors.Vocab at 0x12a4d86a0>,\n",
       " 'other.': <gensim.models.keyedvectors.Vocab at 0x12a4d8a90>,\n",
       " 'knowledge': <gensim.models.keyedvectors.Vocab at 0x12a4d8da0>,\n",
       " 'bath': <gensim.models.keyedvectors.Vocab at 0x12a4d8e10>,\n",
       " 'thing': <gensim.models.keyedvectors.Vocab at 0x12a4d8550>,\n",
       " 'kept': <gensim.models.keyedvectors.Vocab at 0x12a4d8048>,\n",
       " 'finish': <gensim.models.keyedvectors.Vocab at 0x12a4d8c88>,\n",
       " 'Psychologically,': <gensim.models.keyedvectors.Vocab at 0x12a4d88d0>,\n",
       " 'upsetting.': <gensim.models.keyedvectors.Vocab at 0x12a4d8278>,\n",
       " 'sidewalks': <gensim.models.keyedvectors.Vocab at 0x12a4d8940>,\n",
       " 'paranoid': <gensim.models.keyedvectors.Vocab at 0x12a4d89e8>,\n",
       " 'fantasy': <gensim.models.keyedvectors.Vocab at 0x12a4d8ac8>,\n",
       " 'runners': <gensim.models.keyedvectors.Vocab at 0x12a4d8cc0>,\n",
       " 'themselves,': <gensim.models.keyedvectors.Vocab at 0x12a4d8390>,\n",
       " \"they're\": <gensim.models.keyedvectors.Vocab at 0x12a4d8208>,\n",
       " 'critiquing': <gensim.models.keyedvectors.Vocab at 0x12a4d82e8>,\n",
       " 'When': <gensim.models.keyedvectors.Vocab at 0x12a4d85f8>,\n",
       " 'down,': <gensim.models.keyedvectors.Vocab at 0x12a4d8ba8>,\n",
       " 'sprint': <gensim.models.keyedvectors.Vocab at 0x12a4d8dd8>,\n",
       " 'helps': <gensim.models.keyedvectors.Vocab at 0x12a4d87b8>,\n",
       " 'Even': <gensim.models.keyedvectors.Vocab at 0x12a4d8128>,\n",
       " 'though': <gensim.models.keyedvectors.Vocab at 0x12a4d86d8>,\n",
       " 'fast': <gensim.models.keyedvectors.Vocab at 0x12a4d8978>,\n",
       " 'runner': <gensim.models.keyedvectors.Vocab at 0x12a4d8d30>,\n",
       " 'means,': <gensim.models.keyedvectors.Vocab at 0x12a4d8828>,\n",
       " 'prefer': <gensim.models.keyedvectors.Vocab at 0x12a4d8860>,\n",
       " 'speed': <gensim.models.keyedvectors.Vocab at 0x12a4d8748>,\n",
       " 'jog.': <gensim.models.keyedvectors.Vocab at 0x12a4d8c18>,\n",
       " 'struggle': <gensim.models.keyedvectors.Vocab at 0x12a4d8f28>,\n",
       " 'week,': <gensim.models.keyedvectors.Vocab at 0x12a4d8fd0>,\n",
       " 'genuinely': <gensim.models.keyedvectors.Vocab at 0x12a4d8438>,\n",
       " 'difficult': <gensim.models.keyedvectors.Vocab at 0x12a4d80b8>,\n",
       " 'run.': <gensim.models.keyedvectors.Vocab at 0x12a4d8b70>,\n",
       " 'laugh': <gensim.models.keyedvectors.Vocab at 0x12a4d8e48>,\n",
       " 'Saturday': <gensim.models.keyedvectors.Vocab at 0x12a4d8e80>,\n",
       " 'same': <gensim.models.keyedvectors.Vocab at 0x12a4d8ef0>,\n",
       " 'weekend': <gensim.models.keyedvectors.Vocab at 0x12a4d8898>,\n",
       " 'Edinburgh,': <gensim.models.keyedvectors.Vocab at 0x12a4d8668>,\n",
       " 'usual,': <gensim.models.keyedvectors.Vocab at 0x12a4d4390>,\n",
       " 'meantime,': <gensim.models.keyedvectors.Vocab at 0x12a4d4240>,\n",
       " 'however,': <gensim.models.keyedvectors.Vocab at 0x12a4d48d0>,\n",
       " 'knee': <gensim.models.keyedvectors.Vocab at 0x12a4d4828>,\n",
       " 'fantastic.': <gensim.models.keyedvectors.Vocab at 0x12a4d4d68>,\n",
       " 'ACL': <gensim.models.keyedvectors.Vocab at 0x12a4d4a20>,\n",
       " 'surgery': <gensim.models.keyedvectors.Vocab at 0x12a4d4be0>,\n",
       " 'muscle': <gensim.models.keyedvectors.Vocab at 0x12a4d41d0>,\n",
       " 'tone,': <gensim.models.keyedvectors.Vocab at 0x12a4d43c8>,\n",
       " 'meant': <gensim.models.keyedvectors.Vocab at 0x12a4d4048>,\n",
       " 'kneecap': <gensim.models.keyedvectors.Vocab at 0x12a4d4400>,\n",
       " 'tracking': <gensim.models.keyedvectors.Vocab at 0x12a4d4630>,\n",
       " 'properly,': <gensim.models.keyedvectors.Vocab at 0x12a4d4198>,\n",
       " 'led': <gensim.models.keyedvectors.Vocab at 0x12a4d4208>,\n",
       " 'clicking': <gensim.models.keyedvectors.Vocab at 0x12a4d42b0>,\n",
       " 'aching': <gensim.models.keyedvectors.Vocab at 0x12a4d42e8>,\n",
       " 'walking,': <gensim.models.keyedvectors.Vocab at 0x12a4d4940>,\n",
       " 'especially': <gensim.models.keyedvectors.Vocab at 0x12a4d4f28>,\n",
       " 'steps.': <gensim.models.keyedvectors.Vocab at 0x12a4d4e48>,\n",
       " 'Now,': <gensim.models.keyedvectors.Vocab at 0x12a4d44a8>,\n",
       " 'runs,': <gensim.models.keyedvectors.Vocab at 0x12a4d4668>,\n",
       " 'difference': <gensim.models.keyedvectors.Vocab at 0x12a4d46d8>,\n",
       " 'way': <gensim.models.keyedvectors.Vocab at 0x12a4d4748>,\n",
       " 'stairs.': <gensim.models.keyedvectors.Vocab at 0x12a4d4780>,\n",
       " 'almost': <gensim.models.keyedvectors.Vocab at 0x12a4d4908>,\n",
       " 'normal,': <gensim.models.keyedvectors.Vocab at 0x12a4d49e8>,\n",
       " 'granted.': <gensim.models.keyedvectors.Vocab at 0x12a4d4a58>,\n",
       " 'deal': <gensim.models.keyedvectors.Vocab at 0x12a4d4b70>,\n",
       " '(repeated': <gensim.models.keyedvectors.Vocab at 0x12a4d4c18>,\n",
       " 'times),': <gensim.models.keyedvectors.Vocab at 0x12a4d4c50>,\n",
       " 'recommended': <gensim.models.keyedvectors.Vocab at 0x12a4d4ef0>,\n",
       " '10': <gensim.models.keyedvectors.Vocab at 0x12a4d4f98>,\n",
       " 'training': <gensim.models.keyedvectors.Vocab at 0x12a4d4fd0>,\n",
       " 'according': <gensim.models.keyedvectors.Vocab at 0x12a4d4080>,\n",
       " 'use.': <gensim.models.keyedvectors.Vocab at 0x12a4d40f0>,\n",
       " 'admit': <gensim.models.keyedvectors.Vocab at 0x12a4d4128>,\n",
       " 'came': <gensim.models.keyedvectors.Vocab at 0x12a4d4278>,\n",
       " 'broken': <gensim.models.keyedvectors.Vocab at 0x12a4d4358>,\n",
       " 'sweat.': <gensim.models.keyedvectors.Vocab at 0x12a4d4588>,\n",
       " 'Because': <gensim.models.keyedvectors.Vocab at 0x12a4d49b0>,\n",
       " 'easy,': <gensim.models.keyedvectors.Vocab at 0x12a4d4c88>,\n",
       " 'overall': <gensim.models.keyedvectors.Vocab at 0x12a4d4cf8>,\n",
       " 'in-between': <gensim.models.keyedvectors.Vocab at 0x12a4d4d30>,\n",
       " 'seem': <gensim.models.keyedvectors.Vocab at 0x12a4d4da0>,\n",
       " 'definite': <gensim.models.keyedvectors.Vocab at 0x12a4d4e80>,\n",
       " 'advantages': <gensim.models.keyedvectors.Vocab at 0x12a4d40b8>,\n",
       " 'disadvantages': <gensim.models.keyedvectors.Vocab at 0x12a4d4160>,\n",
       " 'both.': <gensim.models.keyedvectors.Vocab at 0x12a4d4438>,\n",
       " 'initial': <gensim.models.keyedvectors.Vocab at 0x12a4d45f8>,\n",
       " 'plan': <gensim.models.keyedvectors.Vocab at 0x12a4d4710>,\n",
       " 'basic': <gensim.models.keyedvectors.Vocab at 0x12a4d4978>,\n",
       " '10k': <gensim.models.keyedvectors.Vocab at 0x12a4d4a90>,\n",
       " 'schedule,': <gensim.models.keyedvectors.Vocab at 0x12a4d4dd8>,\n",
       " 'tonight--my': <gensim.models.keyedvectors.Vocab at 0x12a4d4f60>,\n",
       " 'night': <gensim.models.keyedvectors.Vocab at 0x12a4d4e10>,\n",
       " 'out--was': <gensim.models.keyedvectors.Vocab at 0x12a4d4eb8>,\n",
       " 'tester,': <gensim.models.keyedvectors.Vocab at 0x12a4d44e0>,\n",
       " 'ran': <gensim.models.keyedvectors.Vocab at 0x12a4d4518>,\n",
       " '1': <gensim.models.keyedvectors.Vocab at 0x12a4d4550>,\n",
       " 'minute,': <gensim.models.keyedvectors.Vocab at 0x12a4d4898>,\n",
       " 'walked': <gensim.models.keyedvectors.Vocab at 0x12a4d4cc0>,\n",
       " 'reasonably': <gensim.models.keyedvectors.Vocab at 0x12a4d46a0>,\n",
       " 'work,': <gensim.models.keyedvectors.Vocab at 0x12a4d47b8>,\n",
       " 'anything': <gensim.models.keyedvectors.Vocab at 0x12a4d47f0>,\n",
       " 'scary,': <gensim.models.keyedvectors.Vocab at 0x12a4d4ba8>,\n",
       " 'fine.': <gensim.models.keyedvectors.Vocab at 0x12a4d4b38>,\n",
       " 'ready': <gensim.models.keyedvectors.Vocab at 0x12a4d4b00>,\n",
       " 'move': <gensim.models.keyedvectors.Vocab at 0x12a4d4ac8>,\n",
       " 'onto': <gensim.models.keyedvectors.Vocab at 0x12a4d4860>,\n",
       " 'proper': <gensim.models.keyedvectors.Vocab at 0x12a4d45c0>,\n",
       " 'schedule.': <gensim.models.keyedvectors.Vocab at 0x12a4d4470>,\n",
       " 'Whoever': <gensim.models.keyedvectors.Vocab at 0x12a4d4320>,\n",
       " 'reads': <gensim.models.keyedvectors.Vocab at 0x12a4d64e0>,\n",
       " '(if': <gensim.models.keyedvectors.Vocab at 0x12a4d6f28>,\n",
       " 'anyone)': <gensim.models.keyedvectors.Vocab at 0x12a4d65f8>,\n",
       " 'seriously.': <gensim.models.keyedvectors.Vocab at 0x12a4d6518>,\n",
       " 'am,': <gensim.models.keyedvectors.Vocab at 0x12a4d6a58>,\n",
       " 'believe': <gensim.models.keyedvectors.Vocab at 0x12a4d6978>,\n",
       " 'understand': <gensim.models.keyedvectors.Vocab at 0x12a4d6d30>,\n",
       " 'few': <gensim.models.keyedvectors.Vocab at 0x12a4d6f60>,\n",
       " 'weeks': <gensim.models.keyedvectors.Vocab at 0x12a4d6da0>,\n",
       " 'full': <gensim.models.keyedvectors.Vocab at 0x12a4d6278>,\n",
       " 'up.': <gensim.models.keyedvectors.Vocab at 0x12a4d68d0>,\n",
       " 'plenty': <gensim.models.keyedvectors.Vocab at 0x12a4d6cc0>,\n",
       " 'nights': <gensim.models.keyedvectors.Vocab at 0x12a4d6898>,\n",
       " 'hours': <gensim.models.keyedvectors.Vocab at 0x12a4d6a90>,\n",
       " 'sleep': <gensim.models.keyedvectors.Vocab at 0x12a4d60f0>,\n",
       " 'busy': <gensim.models.keyedvectors.Vocab at 0x12a4d6358>,\n",
       " 'must': <gensim.models.keyedvectors.Vocab at 0x12a4d63c8>,\n",
       " '(and': <gensim.models.keyedvectors.Vocab at 0x12a4d6400>,\n",
       " 'precious': <gensim.models.keyedvectors.Vocab at 0x12a4d6668>,\n",
       " 'reading': <gensim.models.keyedvectors.Vocab at 0x12a4d6748>,\n",
       " 'watching': <gensim.models.keyedvectors.Vocab at 0x12a4d6780>,\n",
       " 'TV': <gensim.models.keyedvectors.Vocab at 0x12a4d67b8>,\n",
       " 'on),': <gensim.models.keyedvectors.Vocab at 0x12a4d67f0>,\n",
       " 'day': <gensim.models.keyedvectors.Vocab at 0x12a4d6ac8>,\n",
       " 'shattered': <gensim.models.keyedvectors.Vocab at 0x12a4d6b38>,\n",
       " 'sleep.': <gensim.models.keyedvectors.Vocab at 0x12a4d6c88>,\n",
       " 'Fitting': <gensim.models.keyedvectors.Vocab at 0x12a4d6e48>,\n",
       " 'half': <gensim.models.keyedvectors.Vocab at 0x12a4d6fd0>,\n",
       " 'hour': <gensim.models.keyedvectors.Vocab at 0x12a4d62b0>,\n",
       " 'while': <gensim.models.keyedvectors.Vocab at 0x12a4d6390>,\n",
       " 'technically': <gensim.models.keyedvectors.Vocab at 0x12a4d64a8>,\n",
       " 'feasible,': <gensim.models.keyedvectors.Vocab at 0x12a4d6588>,\n",
       " 'incredibly': <gensim.models.keyedvectors.Vocab at 0x12a4d65c0>,\n",
       " 'attractive': <gensim.models.keyedvectors.Vocab at 0x12a4d6630>,\n",
       " 'option.': <gensim.models.keyedvectors.Vocab at 0x12a4d66d8>,\n",
       " 'Cycling,': <gensim.models.keyedvectors.Vocab at 0x12a4d6828>,\n",
       " 'medium.': <gensim.models.keyedvectors.Vocab at 0x12a4d69b0>,\n",
       " 'afraid': <gensim.models.keyedvectors.Vocab at 0x12a4d6b70>,\n",
       " 'cycle': <gensim.models.keyedvectors.Vocab at 0x12a4d6cf8>,\n",
       " 'recently': <gensim.models.keyedvectors.Vocab at 0x12a4d6dd8>,\n",
       " 'reasons:': <gensim.models.keyedvectors.Vocab at 0x12a4d6e10>,\n",
       " '1)': <gensim.models.keyedvectors.Vocab at 0x12a4d60b8>,\n",
       " 'October,': <gensim.models.keyedvectors.Vocab at 0x12a4d6160>,\n",
       " '+': <gensim.models.keyedvectors.Vocab at 0x12a4d6320>,\n",
       " 'cycling': <gensim.models.keyedvectors.Vocab at 0x12a4d6550>,\n",
       " 'hurt.': <gensim.models.keyedvectors.Vocab at 0x12a4d66a0>,\n",
       " 'Running': <gensim.models.keyedvectors.Vocab at 0x12a4d6d68>,\n",
       " 'ok,': <gensim.models.keyedvectors.Vocab at 0x12a4d6e80>,\n",
       " 'actually': <gensim.models.keyedvectors.Vocab at 0x12a4d6ef0>,\n",
       " 'caused': <gensim.models.keyedvectors.Vocab at 0x12a4d6240>,\n",
       " 'react': <gensim.models.keyedvectors.Vocab at 0x12a4d61d0>,\n",
       " 'badly': <gensim.models.keyedvectors.Vocab at 0x12a4d62e8>,\n",
       " \"couldn't\": <gensim.models.keyedvectors.Vocab at 0x12a4d6470>,\n",
       " 'anymore.': <gensim.models.keyedvectors.Vocab at 0x12a4d6710>,\n",
       " '2)': <gensim.models.keyedvectors.Vocab at 0x12a4d6860>,\n",
       " 'chain': <gensim.models.keyedvectors.Vocab at 0x12a4d6908>,\n",
       " 'rusty.': <gensim.models.keyedvectors.Vocab at 0x12a4d6940>,\n",
       " 'that)': <gensim.models.keyedvectors.Vocab at 0x12a4d6a20>,\n",
       " 'reaction': <gensim.models.keyedvectors.Vocab at 0x12a4d6ba8>,\n",
       " 'all,': <gensim.models.keyedvectors.Vocab at 0x12a4d6c18>,\n",
       " 'go.': <gensim.models.keyedvectors.Vocab at 0x12a4d6f98>,\n",
       " 'On': <gensim.models.keyedvectors.Vocab at 0x12a4d6128>,\n",
       " 'closer': <gensim.models.keyedvectors.Vocab at 0x12a4d6c50>,\n",
       " 'inspection': <gensim.models.keyedvectors.Vocab at 0x12a4d6eb8>,\n",
       " '(though': <gensim.models.keyedvectors.Vocab at 0x12a4d6048>,\n",
       " 'replace': <gensim.models.keyedvectors.Vocab at 0x12a4d6080>,\n",
       " 'it),': <gensim.models.keyedvectors.Vocab at 0x12a4d6b00>,\n",
       " 'braved': <gensim.models.keyedvectors.Vocab at 0x12a4d6438>,\n",
       " 'cycled': <gensim.models.keyedvectors.Vocab at 0x12a4d6208>,\n",
       " 'worried': <gensim.models.keyedvectors.Vocab at 0x12a4d69e8>,\n",
       " 'either': <gensim.models.keyedvectors.Vocab at 0x12a4d6be0>,\n",
       " 'break,': <gensim.models.keyedvectors.Vocab at 0x12a4d6198>,\n",
       " 'afield,': <gensim.models.keyedvectors.Vocab at 0x12a4b3fd0>,\n",
       " 'hour.': <gensim.models.keyedvectors.Vocab at 0x12a4b3dd8>,\n",
       " 'particularly': <gensim.models.keyedvectors.Vocab at 0x12a4b3320>,\n",
       " 'hardest': <gensim.models.keyedvectors.Vocab at 0x12a4b3d68>,\n",
       " 'gears,': <gensim.models.keyedvectors.Vocab at 0x12a4b30b8>,\n",
       " 'excellent': <gensim.models.keyedvectors.Vocab at 0x12a4b3ac8>,\n",
       " 'opportunity': <gensim.models.keyedvectors.Vocab at 0x12a4b3b70>,\n",
       " 'left': <gensim.models.keyedvectors.Vocab at 0x12a4b3da0>,\n",
       " 'leg': <gensim.models.keyedvectors.Vocab at 0x12a4b3630>,\n",
       " '(because': <gensim.models.keyedvectors.Vocab at 0x12a4b31d0>,\n",
       " 'estimate': <gensim.models.keyedvectors.Vocab at 0x12a4b33c8>,\n",
       " '80%': <gensim.models.keyedvectors.Vocab at 0x12a4b34e0>,\n",
       " 'strong': <gensim.models.keyedvectors.Vocab at 0x12a4b37b8>,\n",
       " 'now).': <gensim.models.keyedvectors.Vocab at 0x12a4b3f98>,\n",
       " 'shall': <gensim.models.keyedvectors.Vocab at 0x12a4b3198>,\n",
       " 'reacts,': <gensim.models.keyedvectors.Vocab at 0x12a4b3208>,\n",
       " 'ok.': <gensim.models.keyedvectors.Vocab at 0x12a4b32e8>,\n",
       " 'amazed': <gensim.models.keyedvectors.Vocab at 0x12a4b3438>,\n",
       " 'that,': <gensim.models.keyedvectors.Vocab at 0x12a4b34a8>,\n",
       " 'lazy': <gensim.models.keyedvectors.Vocab at 0x12a4b3588>,\n",
       " 'once': <gensim.models.keyedvectors.Vocab at 0x12a4b36a0>,\n",
       " 'weeks,': <gensim.models.keyedvectors.Vocab at 0x12a4b3710>,\n",
       " 'managed': <gensim.models.keyedvectors.Vocab at 0x12a4b3828>,\n",
       " 'improve': <gensim.models.keyedvectors.Vocab at 0x12a4b38d0>,\n",
       " '7': <gensim.models.keyedvectors.Vocab at 0x12a4b3a58>,\n",
       " 'minutes,': <gensim.models.keyedvectors.Vocab at 0x12a4b3b38>,\n",
       " '2,': <gensim.models.keyedvectors.Vocab at 0x12a4b3cf8>,\n",
       " '4,': <gensim.models.keyedvectors.Vocab at 0x12a4b3eb8>,\n",
       " '7.': <gensim.models.keyedvectors.Vocab at 0x12a4b3ef0>,\n",
       " \"That's\": <gensim.models.keyedvectors.Vocab at 0x12a4b3f28>,\n",
       " '(2)': <gensim.models.keyedvectors.Vocab at 0x12a4b3160>,\n",
       " 'means': <gensim.models.keyedvectors.Vocab at 0x12a4b3278>,\n",
       " 'subject': <gensim.models.keyedvectors.Vocab at 0x12a4b3550>,\n",
       " 'line.': <gensim.models.keyedvectors.Vocab at 0x12a4b35c0>,\n",
       " 'makes': <gensim.models.keyedvectors.Vocab at 0x12a4b3668>,\n",
       " 'sense': <gensim.models.keyedvectors.Vocab at 0x12a4b3c18>,\n",
       " 'trying': <gensim.models.keyedvectors.Vocab at 0x12a4b3d30>,\n",
       " 'reckon': <gensim.models.keyedvectors.Vocab at 0x12a4b3e10>,\n",
       " 'fraction': <gensim.models.keyedvectors.Vocab at 0x12a4b3400>,\n",
       " ...}"
      ]
     },
     "execution_count": 54,
     "metadata": {},
     "output_type": "execute_result"
    }
   ],
   "source": [
    "w2v.wv.vocab"
   ]
  },
  {
   "cell_type": "code",
   "execution_count": 64,
   "metadata": {},
   "outputs": [
    {
     "data": {
      "text/plain": [
       "-0.061242011755893118"
      ]
     },
     "execution_count": 64,
     "metadata": {},
     "output_type": "execute_result"
    }
   ],
   "source": [
    "w2v.similarity('men', 'women')"
   ]
  },
  {
   "cell_type": "code",
   "execution_count": 65,
   "metadata": {},
   "outputs": [
    {
     "data": {
      "text/plain": [
       "0.047454337510939693"
      ]
     },
     "execution_count": 65,
     "metadata": {},
     "output_type": "execute_result"
    }
   ],
   "source": [
    "w2v.similarity('I', 'My')"
   ]
  },
  {
   "cell_type": "code",
   "execution_count": 66,
   "metadata": {},
   "outputs": [
    {
     "name": "stdout",
     "output_type": "stream",
     "text": [
      "I've tried starting blog after blog and it just never feels right.  Then I read today that it feels strange to most people, but the more you do it the better it gets (hmm, sounds suspiciously like something else!) so I decided to give it another try.    My husband bought me a notepad at  urlLink McNally  (the best bookstore in Western Canada) with that title and a picture of a 50s housewife grinning desperately.  Each page has something funny like \"New curtains!  Hurrah!\".  For some reason it struck me as absolutely hilarious and has stuck in my head ever since.  What were those women thinking?\n"
     ]
    },
    {
     "data": {
      "text/plain": [
       "0.00072671035336174805"
      ]
     },
     "execution_count": 66,
     "metadata": {},
     "output_type": "execute_result"
    }
   ],
   "source": [
    "print(posts[5])\n",
    "w2v.similarity('ring', 'husband')"
   ]
  },
  {
   "cell_type": "code",
   "execution_count": 67,
   "metadata": {},
   "outputs": [
    {
     "data": {
      "text/plain": [
       "0.064877960844881302"
      ]
     },
     "execution_count": 67,
     "metadata": {},
     "output_type": "execute_result"
    }
   ],
   "source": [
    "w2v.similarity('ring', 'housewife')"
   ]
  },
  {
   "cell_type": "code",
   "execution_count": 68,
   "metadata": {},
   "outputs": [
    {
     "data": {
      "text/plain": [
       "-0.053023173807764903"
      ]
     },
     "execution_count": 68,
     "metadata": {},
     "output_type": "execute_result"
    }
   ],
   "source": [
    "w2v.similarity('women', 'housewife')  # Diversity friendly"
   ]
  },
  {
   "cell_type": "markdown",
   "metadata": {},
   "source": [
    "## Doc2Vec\n",
    "\n",
    "The same technique of word2vec is extrapolated to documents. Here, we do everything done in word2vec + we vectorize the documents too"
   ]
  },
  {
   "cell_type": "code",
   "execution_count": 69,
   "metadata": {},
   "outputs": [],
   "source": [
    "import numpy as np"
   ]
  },
  {
   "cell_type": "code",
   "execution_count": 72,
   "metadata": {
    "collapsed": true
   },
   "outputs": [],
   "source": [
    "# 0 for male, 1 for female\n",
    "y_posts = np.concatenate((np.zeros(len(filtered_male_posts)),\n",
    "                          np.ones(len(filtered_female_posts))))"
   ]
  },
  {
   "cell_type": "code",
   "execution_count": 71,
   "metadata": {},
   "outputs": [
    {
     "data": {
      "text/plain": [
       "4842"
      ]
     },
     "execution_count": 71,
     "metadata": {},
     "output_type": "execute_result"
    }
   ],
   "source": [
    "len(y_posts)"
   ]
  },
  {
   "cell_type": "markdown",
   "metadata": {},
   "source": [
    "# Convolutional Neural Networks for Sentence Classification"
   ]
  },
  {
   "cell_type": "markdown",
   "metadata": {},
   "source": [
    "Train convolutional network for sentiment analysis. Based on\n",
    "\"Convolutional Neural Networks for Sentence Classification\" by Yoon Kim\n",
    "http://arxiv.org/pdf/1408.5882v2.pdf\n",
    "\n",
    "For 'CNN-non-static' gets to 82.1% after 61 epochs with following settings:\n",
    "embedding_dim = 20          \n",
    "filter_sizes = (3, 4)\n",
    "num_filters = 3\n",
    "dropout_prob = (0.7, 0.8)\n",
    "hidden_dims = 100\n",
    "\n",
    "For 'CNN-rand' gets to 78-79% after 7-8 epochs with following settings:\n",
    "embedding_dim = 20          \n",
    "filter_sizes = (3, 4)\n",
    "num_filters = 150\n",
    "dropout_prob = (0.25, 0.5)\n",
    "hidden_dims = 150\n",
    "\n",
    "For 'CNN-static' gets to 75.4% after 7 epochs with following settings:\n",
    "embedding_dim = 100          \n",
    "filter_sizes = (3, 4)\n",
    "num_filters = 150\n",
    "dropout_prob = (0.25, 0.5)\n",
    "hidden_dims = 150\n",
    "\n",
    "* it turns out that such a small data set as \"Movie reviews with one\n",
    "sentence per review\"  (Pang and Lee, 2005) requires much smaller network\n",
    "than the one introduced in the original article:\n",
    "- embedding dimension is only 20 (instead of 300; 'CNN-static' still requires ~100)\n",
    "- 2 filter sizes (instead of 3)\n",
    "- higher dropout probabilities and\n",
    "- 3 filters per filter size is enough for 'CNN-non-static' (instead of 100)\n",
    "- embedding initialization does not require prebuilt Google Word2Vec data.\n",
    "Training Word2Vec on the same \"Movie reviews\" data set is enough to \n",
    "achieve performance reported in the article (81.6%)\n",
    "\n",
    "** Another distinct difference is slidind MaxPooling window of length=2\n",
    "instead of MaxPooling over whole feature map as in the article"
   ]
  },
  {
   "cell_type": "code",
   "execution_count": null,
   "metadata": {},
   "outputs": [],
   "source": [
    "import numpy as np\n",
    "import data_helpers\n",
    "from w2v import train_word2vec\n",
    "\n",
    "from keras.models import Sequential, Model\n",
    "from keras.layers import (Activation, Dense, Dropout, Embedding, \n",
    "                          Flatten, Input, Merge, \n",
    "                          Convolution1D, MaxPooling1D)\n",
    "\n",
    "np.random.seed(2)"
   ]
  },
  {
   "cell_type": "markdown",
   "metadata": {},
   "source": [
    "### Parameters\n",
    "\n",
    "Model Variations. See Kim Yoon's Convolutional Neural Networks for \n",
    "Sentence Classification, Section 3 for detail."
   ]
  },
  {
   "cell_type": "code",
   "execution_count": null,
   "metadata": {},
   "outputs": [],
   "source": [
    "model_variation = 'CNN-rand'  #  CNN-rand | CNN-non-static | CNN-static\n",
    "print('Model variation is %s' % model_variation)"
   ]
  },
  {
   "cell_type": "code",
   "execution_count": null,
   "metadata": {
    "collapsed": true
   },
   "outputs": [],
   "source": [
    "# Model Hyperparameters\n",
    "sequence_length = 56\n",
    "embedding_dim = 20          \n",
    "filter_sizes = (3, 4)\n",
    "num_filters = 150\n",
    "dropout_prob = (0.25, 0.5)\n",
    "hidden_dims = 150"
   ]
  },
  {
   "cell_type": "code",
   "execution_count": null,
   "metadata": {
    "collapsed": true
   },
   "outputs": [],
   "source": [
    "# Training parameters\n",
    "batch_size = 32\n",
    "num_epochs = 100\n",
    "val_split = 0.1"
   ]
  },
  {
   "cell_type": "code",
   "execution_count": null,
   "metadata": {
    "collapsed": true
   },
   "outputs": [],
   "source": [
    "# Word2Vec parameters, see train_word2vec\n",
    "min_word_count = 1  # Minimum word count                        \n",
    "context = 10        # Context window size    "
   ]
  },
  {
   "cell_type": "markdown",
   "metadata": {},
   "source": [
    "### Data Preparation "
   ]
  },
  {
   "cell_type": "code",
   "execution_count": null,
   "metadata": {},
   "outputs": [],
   "source": [
    "# Load data\n",
    "print(\"Loading data...\")\n",
    "x, y, vocabulary, vocabulary_inv = data_helpers.load_data()\n",
    "\n",
    "if model_variation=='CNN-non-static' or model_variation=='CNN-static':\n",
    "    embedding_weights = train_word2vec(x, vocabulary_inv, \n",
    "                                       embedding_dim, min_word_count, \n",
    "                                       context)\n",
    "    if model_variation=='CNN-static':\n",
    "        x = embedding_weights[0][x]\n",
    "elif model_variation=='CNN-rand':\n",
    "    embedding_weights = None\n",
    "else:\n",
    "    raise ValueError('Unknown model variation')    "
   ]
  },
  {
   "cell_type": "code",
   "execution_count": null,
   "metadata": {
    "collapsed": true
   },
   "outputs": [],
   "source": [
    "# Shuffle data\n",
    "shuffle_indices = np.random.permutation(np.arange(len(y)))\n",
    "x_shuffled = x[shuffle_indices]\n",
    "y_shuffled = y[shuffle_indices].argmax(axis=1)"
   ]
  },
  {
   "cell_type": "code",
   "execution_count": null,
   "metadata": {},
   "outputs": [],
   "source": [
    "print(\"Vocabulary Size: {:d}\".format(len(vocabulary)))"
   ]
  },
  {
   "cell_type": "markdown",
   "metadata": {},
   "source": [
    "### Building CNN Model"
   ]
  },
  {
   "cell_type": "code",
   "execution_count": null,
   "metadata": {
    "collapsed": true
   },
   "outputs": [],
   "source": [
    "graph_in = Input(shape=(sequence_length, embedding_dim))\n",
    "convs = []\n",
    "for fsz in filter_sizes:\n",
    "    conv = Convolution1D(nb_filter=num_filters,\n",
    "                         filter_length=fsz,\n",
    "                         border_mode='valid',\n",
    "                         activation='relu',\n",
    "                         subsample_length=1)(graph_in)\n",
    "    pool = MaxPooling1D(pool_length=2)(conv)\n",
    "    flatten = Flatten()(pool)\n",
    "    convs.append(flatten)\n",
    "    \n",
    "if len(filter_sizes)>1:\n",
    "    out = Merge(mode='concat')(convs)\n",
    "else:\n",
    "    out = convs[0]\n",
    "\n",
    "graph = Model(input=graph_in, output=out)\n",
    "\n",
    "# main sequential model\n",
    "model = Sequential()\n",
    "if not model_variation=='CNN-static':\n",
    "    model.add(Embedding(len(vocabulary), embedding_dim, input_length=sequence_length,\n",
    "                        weights=embedding_weights))\n",
    "model.add(Dropout(dropout_prob[0], input_shape=(sequence_length, embedding_dim)))\n",
    "model.add(graph)\n",
    "model.add(Dense(hidden_dims))\n",
    "model.add(Dropout(dropout_prob[1]))\n",
    "model.add(Activation('relu'))\n",
    "model.add(Dense(1))\n",
    "model.add(Activation('sigmoid'))"
   ]
  },
  {
   "cell_type": "code",
   "execution_count": null,
   "metadata": {
    "scrolled": false
   },
   "outputs": [],
   "source": [
    "model.compile(loss='binary_crossentropy', optimizer='rmsprop', \n",
    "              metrics=['accuracy'])\n",
    "\n",
    "# Training model\n",
    "# ==================================================\n",
    "model.fit(x_shuffled, y_shuffled, batch_size=batch_size,\n",
    "          nb_epoch=num_epochs, validation_split=val_split, verbose=2)"
   ]
  },
  {
   "cell_type": "markdown",
   "metadata": {
    "collapsed": true
   },
   "source": [
    "# Another Example\n",
    "\n",
    "Using Keras + [**GloVe**](http://nlp.stanford.edu/projects/glove/) - **Global Vectors for Word Representation**"
   ]
  },
  {
   "cell_type": "markdown",
   "metadata": {},
   "source": [
    "## Using pre-trained word embeddings in a Keras model\n",
    "\n",
    "**Reference:** [https://blog.keras.io/using-pre-trained-word-embeddings-in-a-keras-model.html]()"
   ]
  }
 ],
 "metadata": {
  "kernelspec": {
   "display_name": "Python 3",
   "language": "python",
   "name": "python3"
  },
  "language_info": {
   "codemirror_mode": {
    "name": "ipython",
    "version": 3
   },
   "file_extension": ".py",
   "mimetype": "text/x-python",
   "name": "python",
   "nbconvert_exporter": "python",
   "pygments_lexer": "ipython3",
   "version": "3.6.1"
  }
 },
 "nbformat": 4,
 "nbformat_minor": 1
}
