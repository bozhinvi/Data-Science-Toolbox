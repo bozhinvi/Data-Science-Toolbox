{
 "cells": [
  {
   "cell_type": "markdown",
   "metadata": {
    "nbpresent": {
     "id": "e5e76c41-6cb2-4fde-a4dd-1f60d5209139"
    },
    "slideshow": {
     "slide_type": "slide"
    }
   },
   "source": [
    "# Convolutional Neural Network"
   ]
  },
  {
   "cell_type": "markdown",
   "metadata": {
    "nbpresent": {
     "id": "deda64d3-8397-4a40-aa63-eae633ab5746"
    },
    "slideshow": {
     "slide_type": "skip"
    }
   },
   "source": [
    "### References:\n",
    "\n",
    "Some of the images and the content I used came from this great couple of blog posts \\[1\\] [https://adeshpande3.github.io/adeshpande3.github.io/]() and \\[2\\] the  terrific book, [\"Neural Networks and Deep Learning\"](http://neuralnetworksanddeeplearning.com/) by Michael Nielsen. (**Strongly recommend**)  "
   ]
  },
  {
   "cell_type": "markdown",
   "metadata": {
    "nbpresent": {
     "id": "6e2a7d80-2068-4969-a278-caa95c534589"
    },
    "slideshow": {
     "slide_type": "subslide"
    }
   },
   "source": [
    "A convolutional neural network (CNN, or ConvNet) is a type of **feed-forward** artificial neural network in which the connectivity pattern between its neurons is inspired by the organization of the animal visual cortex."
   ]
  },
  {
   "cell_type": "markdown",
   "metadata": {
    "nbpresent": {
     "id": "9d1d19db-733e-4182-bedf-429a2ebf1db7"
    },
    "slideshow": {
     "slide_type": "fragment"
    }
   },
   "source": [
    "The networks consist of multiple layers of small neuron collections which process portions of the input image, called **receptive fields**. \n",
    "\n",
    "The outputs of these collections are then tiled so that their input regions overlap, to obtain a _better representation_ of the original image; this is repeated for every such layer."
   ]
  },
  {
   "cell_type": "markdown",
   "metadata": {
    "nbpresent": {
     "id": "efc4195a-10d4-4e87-80c1-5b8943e52953"
    },
    "slideshow": {
     "slide_type": "subslide"
    }
   },
   "source": [
    "## How does it look like?"
   ]
  },
  {
   "cell_type": "markdown",
   "metadata": {
    "collapsed": true,
    "nbpresent": {
     "id": "d8f245d5-b166-4096-82dc-50a5a7aa9509"
    },
    "slideshow": {
     "slide_type": "-"
    }
   },
   "source": [
    "<img src=\"imgs/convnets_cover.png\" width=\"70%\" />\n",
    "\n",
    "> source: https://flickrcode.files.wordpress.com/2014/10/conv-net2.png"
   ]
  },
  {
   "cell_type": "markdown",
   "metadata": {
    "nbpresent": {
     "id": "8660cd54-fbe9-47e9-afaf-953437878c5f"
    },
    "slideshow": {
     "slide_type": "slide"
    }
   },
   "source": [
    "# The Problem Space \n",
    "\n",
    "## Image Classification"
   ]
  },
  {
   "cell_type": "markdown",
   "metadata": {
    "nbpresent": {
     "id": "4631c96c-f816-48e4-bed8-f7d93260be78"
    },
    "slideshow": {
     "slide_type": "subslide"
    }
   },
   "source": [
    "Image classification is the task of taking an input image and outputting a class (a cat, dog, etc) or a probability of classes that best describes the image. \n",
    "\n",
    "For humans, this task of recognition is one of the first skills we learn from the moment we are born and is one that comes naturally and effortlessly as adults."
   ]
  },
  {
   "cell_type": "markdown",
   "metadata": {
    "nbpresent": {
     "id": "0de97d66-d7f1-4d62-9824-deb5589fa8a3"
    },
    "slideshow": {
     "slide_type": "subslide"
    }
   },
   "source": [
    "These skills of being able to quickly recognize patterns, *generalize* from prior knowledge, and adapt to different image environments are ones that we do not share with machines."
   ]
  },
  {
   "cell_type": "markdown",
   "metadata": {
    "nbpresent": {
     "id": "24f37a91-3eeb-4649-bcce-87d9bd068120"
    },
    "slideshow": {
     "slide_type": "subslide"
    }
   },
   "source": [
    "## Inputs and Outputs"
   ]
  },
  {
   "cell_type": "markdown",
   "metadata": {
    "nbpresent": {
     "id": "45cbd814-210e-422c-b829-4469f54b0e60"
    }
   },
   "source": [
    "<img src=\"imgs/cnn1.png\" width=\"70%\" />\n",
    "\n",
    "source: [http://www.pawbuzz.com/wp-content/uploads/sites/551/2014/11/corgi-puppies-21.jpg]()"
   ]
  },
  {
   "cell_type": "markdown",
   "metadata": {
    "nbpresent": {
     "id": "3e14b03b-8807-4617-a0c8-520da8b86d0e"
    },
    "slideshow": {
     "slide_type": "subslide"
    }
   },
   "source": [
    "When a computer sees an image (takes an image as input), it will see an array of pixel values. \n",
    "\n",
    "Depending on the resolution and size of the image, it will see a 32 x 32 x 3 array of numbers (The 3 refers to RGB values).\n",
    "\n",
    "let's say we have a color image in JPG form and its size is 480 x 480. The representative array will be 480 x 480 x 3. Each of these numbers is given a value from 0 to 255 which describes the pixel intensity at that point."
   ]
  },
  {
   "cell_type": "markdown",
   "metadata": {
    "nbpresent": {
     "id": "252848bb-7133-462d-ae8d-89659e12125b"
    },
    "slideshow": {
     "slide_type": "subslide"
    }
   },
   "source": [
    "## Goal"
   ]
  },
  {
   "cell_type": "markdown",
   "metadata": {
    "nbpresent": {
     "id": "c968ae59-dce1-4205-9f11-fd0de89e9b37"
    }
   },
   "source": [
    "What we want the computer to do is to be able to differentiate between all the images it’s given and figure out the unique features that make a dog a dog or that make a cat a cat. "
   ]
  },
  {
   "cell_type": "markdown",
   "metadata": {
    "nbpresent": {
     "id": "939d0086-bd12-47b7-8a52-93690d0f5b34"
    },
    "slideshow": {
     "slide_type": "fragment"
    }
   },
   "source": [
    "When we look at a picture of a dog, we can classify it as such if the picture has identifiable features such as paws or 4 legs. \n",
    "\n",
    "In a similar way, the computer should be able to perform image classification by looking for *low level* features such as edges and curves, and then building up to more abstract concepts through a series of **convolutional layers**."
   ]
  },
  {
   "cell_type": "markdown",
   "metadata": {
    "nbpresent": {
     "id": "7bc61f77-1b70-4340-8366-ec8a395c85c9"
    },
    "slideshow": {
     "slide_type": "subslide"
    }
   },
   "source": [
    "## Structure of a CNN"
   ]
  },
  {
   "cell_type": "markdown",
   "metadata": {
    "nbpresent": {
     "id": "91f468ec-75dd-4028-91bb-83f727710b4b"
    }
   },
   "source": [
    "> A more detailed overview of what CNNs do would be that you take the image, pass it through a series of convolutional, nonlinear, pooling (downsampling), and fully connected layers, and get an output. As we said earlier, the output can be a single class or a probability of classes that best describes the image. \n",
    "\n",
    "source: [1]"
   ]
  },
  {
   "cell_type": "markdown",
   "metadata": {
    "nbpresent": {
     "id": "f8c988ef-f2f8-4c5d-969d-f9bbb7e85da7"
    },
    "slideshow": {
     "slide_type": "slide"
    }
   },
   "source": [
    "# Convolutional Layer"
   ]
  },
  {
   "cell_type": "markdown",
   "metadata": {
    "nbpresent": {
     "id": "4d0e276a-a4c3-4fa2-9dcc-cbfa20f2f269"
    },
    "slideshow": {
     "slide_type": "subslide"
    }
   },
   "source": [
    "The first layer in a CNN is always a **Convolutional Layer**."
   ]
  },
  {
   "cell_type": "markdown",
   "metadata": {
    "nbpresent": {
     "id": "238a6a6c-bf81-4499-be09-95907c37a620"
    }
   },
   "source": [
    "\n",
    "<img src =\"imgs/conv.png\" width=\"50%\">"
   ]
  },
  {
   "cell_type": "markdown",
   "metadata": {
    "nbpresent": {
     "id": "a5a3b9bd-6951-4a59-ba3e-e54f7d1b432e"
    },
    "slideshow": {
     "slide_type": "subslide"
    }
   },
   "source": [
    "### Convolutional filters\n",
    "\n"
   ]
  },
  {
   "cell_type": "markdown",
   "metadata": {
    "nbpresent": {
     "id": "a8b0222b-46e3-4d7c-9216-e2971d1443b4"
    }
   },
   "source": [
    "A Convolutional Filter much like a **kernel** in image recognition is a small matrix useful for blurring, sharpening, embossing, edge detection, and more. \n",
    "\n",
    "This is accomplished by means of convolution between a kernel and an image.\n",
    "\n",
    "The main difference _here_ is that the conv matrices are **learned**."
   ]
  },
  {
   "cell_type": "markdown",
   "metadata": {
    "nbpresent": {
     "id": "a7f1acb5-684d-4a17-abc9-f2b2de55d47c"
    },
    "slideshow": {
     "slide_type": "subslide"
    }
   },
   "source": [
    "<img src=\"imgs/keDyv.png\" width=\"90%\">"
   ]
  },
  {
   "cell_type": "markdown",
   "metadata": {
    "nbpresent": {
     "id": "b2f9ac00-bf7e-4121-8207-b46a026ca59f"
    },
    "slideshow": {
     "slide_type": "subslide"
    }
   },
   "source": [
    "As the filter is sliding, or **convolving**, around the input image, it is multiplying the values in the filter with the original pixel values of the image (aka computing **element wise multiplications**)."
   ]
  },
  {
   "cell_type": "markdown",
   "metadata": {
    "nbpresent": {
     "id": "4d522ac9-d5c0-4b31-97ba-fadc26415a9b"
    }
   },
   "source": [
    "<img src=\"imgs/cnn2.png\" width=\"80%\">"
   ]
  },
  {
   "cell_type": "markdown",
   "metadata": {
    "nbpresent": {
     "id": "1036aec5-1f39-4618-bcf4-6b29d0b87f46"
    },
    "slideshow": {
     "slide_type": "subslide"
    }
   },
   "source": [
    "iNow, we repeat this process for every location on the input volume. (Next step would be moving the filter to the right by 1 unit, then right again by 1, and so on)."
   ]
  },
  {
   "cell_type": "markdown",
   "metadata": {
    "nbpresent": {
     "id": "7013838c-90ba-42f3-ad93-b8162a9588b1"
    },
    "slideshow": {
     "slide_type": "fragment"
    }
   },
   "source": [
    "After sliding the filter over all the locations, we are left with an array of numbers usually called an **activation map** or **feature map**."
   ]
  },
  {
   "cell_type": "markdown",
   "metadata": {
    "nbpresent": {
     "id": "c07b8ac4-6680-4115-8cd8-78845b286d52"
    },
    "slideshow": {
     "slide_type": "subslide"
    }
   },
   "source": [
    "## High Level Perspective\n",
    "\n",
    "Let’s talk about briefly what this convolution is actually doing from a high level. "
   ]
  },
  {
   "cell_type": "markdown",
   "metadata": {
    "nbpresent": {
     "id": "1bb338c4-ade1-422c-8343-f9ef47a77ab4"
    },
    "slideshow": {
     "slide_type": "subslide"
    }
   },
   "source": [
    "Each of these filters can be thought of as **feature identifiers** (e.g. *straight edges, simple colors, curves*)"
   ]
  },
  {
   "cell_type": "markdown",
   "metadata": {
    "nbpresent": {
     "id": "33a74f33-d331-4d2b-bb59-c60650e045ae"
    },
    "slideshow": {
     "slide_type": "fragment"
    }
   },
   "source": [
    "<img src=\"imgs/cnn3.png\" width=\"70%\" />"
   ]
  },
  {
   "cell_type": "markdown",
   "metadata": {
    "nbpresent": {
     "id": "b55cb816-738f-4d53-a57f-b1d94d13e0c7"
    },
    "slideshow": {
     "slide_type": "subslide"
    }
   },
   "source": [
    "### Visualisation of the Receptive Field"
   ]
  },
  {
   "cell_type": "markdown",
   "metadata": {
    "nbpresent": {
     "id": "896794ed-196d-4d08-8cf8-e4190d944b25"
    }
   },
   "source": [
    "<img src=\"imgs/cnn4.png\" width=\"80%\" />"
   ]
  },
  {
   "cell_type": "markdown",
   "metadata": {
    "nbpresent": {
     "id": "35a00439-058f-4623-8a05-40b44b348486"
    },
    "slideshow": {
     "slide_type": "subslide"
    }
   },
   "source": [
    "<img src=\"imgs/cnn5.png\" width=\"80%\" />"
   ]
  },
  {
   "cell_type": "markdown",
   "metadata": {
    "nbpresent": {
     "id": "8f6d473b-327f-4c9d-a49a-23c466a92e5c"
    },
    "slideshow": {
     "slide_type": "subslide"
    }
   },
   "source": [
    "<img src=\"imgs/cnn6.png\" width=\"80%\" />"
   ]
  },
  {
   "cell_type": "markdown",
   "metadata": {
    "nbpresent": {
     "id": "582e126a-6be6-473b-b60a-c094a147b5fe"
    },
    "slideshow": {
     "slide_type": "fragment"
    }
   },
   "source": [
    "The value is much lower! This is because there wasn’t anything in the image section that responded to the curve detector filter. Remember, the output of this conv layer is an activation map. \n"
   ]
  },
  {
   "cell_type": "markdown",
   "metadata": {
    "nbpresent": {
     "id": "c5655761-aa1f-485b-aeba-4bcb5e98d99e"
    },
    "slideshow": {
     "slide_type": "slide"
    }
   },
   "source": [
    "# Going Deeper Through the Network"
   ]
  },
  {
   "cell_type": "markdown",
   "metadata": {
    "nbpresent": {
     "id": "1aaefd05-47b5-4726-9c67-d58158a2e809"
    },
    "slideshow": {
     "slide_type": "subslide"
    }
   },
   "source": [
    "Now in a traditional **convolutional neural network** architecture, there are other layers that are interspersed between these conv layers.\n",
    "\n",
    "<img src=\"https://adeshpande3.github.io/assets/Table.png\"/>"
   ]
  },
  {
   "cell_type": "markdown",
   "metadata": {
    "nbpresent": {
     "id": "1040d167-cf35-4eb0-a281-95187f4cdd30"
    },
    "slideshow": {
     "slide_type": "subslide"
    }
   },
   "source": [
    "## ReLU (Rectified Linear Units) Layer"
   ]
  },
  {
   "cell_type": "markdown",
   "metadata": {
    "nbpresent": {
     "id": "fce43ce6-594a-44cb-8843-c4951cc58a58"
    },
    "slideshow": {
     "slide_type": "fragment"
    }
   },
   "source": [
    " After each conv layer, it is convention to apply a *nonlinear layer* (or **activation layer**) immediately afterward.\n",
    "\n",
    "\n",
    "The purpose of this layer is to introduce nonlinearity to a system that basically has just been computing linear operations during the conv layers (just element wise multiplications and summations)"
   ]
  },
  {
   "cell_type": "markdown",
   "metadata": {
    "nbpresent": {
     "id": "2264b424-7a00-4c42-a29f-e6b4a9781c90"
    },
    "slideshow": {
     "slide_type": "subslide"
    }
   },
   "source": [
    "In the past, nonlinear functions like tanh and sigmoid were used, but researchers found out that **ReLU layers** work far better because the network is able to train a lot faster (because of the computational efficiency) without making a significant difference to the accuracy."
   ]
  },
  {
   "cell_type": "markdown",
   "metadata": {
    "nbpresent": {
     "id": "47e3edeb-7ed5-4846-91ca-41f0ba202ee6"
    },
    "slideshow": {
     "slide_type": "fragment"
    }
   },
   "source": [
    "It also helps to alleviate the **vanishing gradient problem**, which is the issue where the lower layers of the network train very slowly because the gradient decreases exponentially through the layers"
   ]
  },
  {
   "cell_type": "markdown",
   "metadata": {
    "nbpresent": {
     "id": "e5f64a53-a80c-41be-9414-23f9b9f2f21c"
    },
    "slideshow": {
     "slide_type": "subslide"
    }
   },
   "source": [
    "(**very briefly**)\n",
    "\n",
    "Vanishing gradient problem depends on the choice of the activation function. \n",
    "\n",
    "Many common activation functions (e.g `sigmoid` or `tanh`) *squash* their input into a very small output range in a very non-linear fashion. \n",
    "\n",
    "For example, sigmoid maps the real number line onto a \"small\" range of [0, 1]."
   ]
  },
  {
   "cell_type": "markdown",
   "metadata": {
    "nbpresent": {
     "id": "71a78012-6ca3-46a4-9dba-be203bf35c91"
    },
    "slideshow": {
     "slide_type": "subslide"
    }
   },
   "source": [
    "As a result, there are large regions of the input space which are mapped to an extremely small range. \n",
    "\n",
    "In these regions of the input space, even a large change in the input will produce a small change in the output - hence the **gradient is small**."
   ]
  },
  {
   "cell_type": "markdown",
   "metadata": {
    "nbpresent": {
     "id": "4276278b-76ed-46f1-9d8e-929bb245ecb3"
    },
    "slideshow": {
     "slide_type": "subslide"
    }
   },
   "source": [
    "### ReLu\n",
    "\n",
    "The **ReLu** function is defined as $f(x) = \\max(0, x),$ [2]\n",
    "\n",
    "A smooth approximation to the rectifier is the *analytic function*: $f(x) = \\ln(1 + e^x)$\n",
    "\n",
    "which is called the **softplus** function.\n",
    "\n",
    "The derivative of softplus is $f'(x) = e^x / (e^x + 1) = 1 / (1 + e^{-x})$, i.e. the **logistic function**.\n",
    "\n",
    "[2] [http://www.cs.toronto.edu/~fritz/absps/reluICML.pdf]() by G. E. Hinton "
   ]
  },
  {
   "cell_type": "markdown",
   "metadata": {
    "nbpresent": {
     "id": "bb68dbc3-edcc-4972-8760-a362e74593f1"
    },
    "slideshow": {
     "slide_type": "subslide"
    }
   },
   "source": [
    "## Pooling Layers"
   ]
  },
  {
   "cell_type": "markdown",
   "metadata": {
    "nbpresent": {
     "id": "28dd94a6-efa1-4478-ad40-ab34a69312ec"
    },
    "slideshow": {
     "slide_type": "fragment"
    }
   },
   "source": [
    " After some ReLU layers, it is customary to apply a **pooling layer** (aka *downsampling layer*)."
   ]
  },
  {
   "cell_type": "markdown",
   "metadata": {
    "nbpresent": {
     "id": "8e7ee58a-6c93-4333-ac46-3c8249b0f7da"
    },
    "slideshow": {
     "slide_type": "fragment"
    }
   },
   "source": [
    "In this category, there are also several layer options, with **maxpooling** being the most popular. "
   ]
  },
  {
   "cell_type": "markdown",
   "metadata": {
    "nbpresent": {
     "id": "5ba3d820-2f92-4829-850d-f0743d659ca5"
    },
    "slideshow": {
     "slide_type": "subslide"
    }
   },
   "source": [
    "Example of a MaxPooling filter"
   ]
  },
  {
   "cell_type": "markdown",
   "metadata": {
    "nbpresent": {
     "id": "382d8c8a-4c9c-47df-b2fb-7505ebfc5b1c"
    }
   },
   "source": [
    "<img src=\"imgs/MaxPool.png\" width=\"80%\" />"
   ]
  },
  {
   "cell_type": "markdown",
   "metadata": {
    "nbpresent": {
     "id": "adf24c40-1c7f-461c-939a-109b92a22cdd"
    },
    "slideshow": {
     "slide_type": "fragment"
    }
   },
   "source": [
    "Other options for pooling layers are average pooling and L2-norm pooling. "
   ]
  },
  {
   "cell_type": "markdown",
   "metadata": {
    "nbpresent": {
     "id": "52082ba6-9036-4ccc-94dc-ece754a8166a"
    },
    "slideshow": {
     "slide_type": "subslide"
    }
   },
   "source": [
    "The intuition behind this Pooling layer is that once we know that a specific feature is in the original input volume (there will be a high activation value), its exact location is not as important as its relative location to the other features. \n",
    "\n",
    "Therefore this layer drastically reduces the spatial dimension (the length and the width but not the depth) of the input volume.\n",
    "\n",
    "This serves two main purposes: reduce the amount of parameters; controlling overfitting. "
   ]
  },
  {
   "cell_type": "markdown",
   "metadata": {
    "nbpresent": {
     "id": "962669b6-20ed-4583-890f-47fa773305af"
    },
    "slideshow": {
     "slide_type": "subslide"
    }
   },
   "source": [
    "An intuitive explanation for the usefulness of pooling could be explained by an example: \n",
    "\n",
    "Lets assume that we have a filter that is used for detecting faces. The exact pixel location of the face is less relevant then the fact that there is a face \"somewhere at the top\""
   ]
  },
  {
   "cell_type": "markdown",
   "metadata": {
    "nbpresent": {
     "id": "6d6bea20-f4fb-43b0-8325-fc85e12eccde"
    },
    "slideshow": {
     "slide_type": "subslide"
    }
   },
   "source": [
    "## Dropout Layer"
   ]
  },
  {
   "cell_type": "markdown",
   "metadata": {
    "nbpresent": {
     "id": "605fd976-9c97-4e84-920e-4e7115b9235d"
    },
    "slideshow": {
     "slide_type": "subslide"
    }
   },
   "source": [
    "The **dropout layers** have the very specific function to *drop out* a random set of activations in that layers by setting them to zero in the forward pass. Simple as that. \n",
    "\n",
    "It allows to avoid *overfitting* but has to be used **only** at training time and **not** at test time. "
   ]
  },
  {
   "cell_type": "markdown",
   "metadata": {
    "nbpresent": {
     "id": "751a68eb-30a2-4669-bc61-bb43957bb92b"
    },
    "slideshow": {
     "slide_type": "subslide"
    }
   },
   "source": [
    "## Fully Connected Layer"
   ]
  },
  {
   "cell_type": "markdown",
   "metadata": {
    "nbpresent": {
     "id": "515e4131-2cf2-4ed1-b49e-b1a574ea5146"
    },
    "slideshow": {
     "slide_type": "fragment"
    }
   },
   "source": [
    "The last layer, however, is an important one, namely the **Fully Connected Layer**."
   ]
  },
  {
   "cell_type": "markdown",
   "metadata": {
    "nbpresent": {
     "id": "b98ea2bd-dce4-4044-89c1-73095d9417a2"
    },
    "slideshow": {
     "slide_type": "subslide"
    }
   },
   "source": [
    "Basically, a FC layer looks at what high level features most strongly correlate to a particular class and has particular weights so that when you compute the products between the weights and the previous layer, you get the correct probabilities for the different classes."
   ]
  },
  {
   "cell_type": "markdown",
   "metadata": {
    "nbpresent": {
     "id": "b273b5cf-0e96-4574-9add-c72dc303b68b"
    }
   },
   "source": [
    "<img src=\"imgs/ConvNet LeNet.png\" width=\"90%\" />"
   ]
  },
  {
   "cell_type": "markdown",
   "metadata": {
    "nbpresent": {
     "id": "cb3b74ee-94e8-4121-9d92-81fc7a1e3400"
    },
    "slideshow": {
     "slide_type": "slide"
    }
   },
   "source": [
    "# CNN in Keras"
   ]
  },
  {
   "cell_type": "markdown",
   "metadata": {
    "nbpresent": {
     "id": "80d4fd5e-92a1-43d2-af5b-bad7fd809da2"
    },
    "slideshow": {
     "slide_type": "subslide"
    }
   },
   "source": [
    "**Keras** supports:\n",
    "\n",
    "- 1D Convolutional Layers;\n",
    "- 2D Convolutional Layers;\n",
    "- 3D Convolutional Layers;\n",
    "\n",
    "The corresponding `keras` package is `keras.layers.convolutional`"
   ]
  },
  {
   "cell_type": "markdown",
   "metadata": {
    "nbpresent": {
     "id": "eaf0f264-aa18-489e-be3b-3e5ce4152bf3"
    },
    "slideshow": {
     "slide_type": "subslide"
    }
   },
   "source": [
    "#### Convolution1D\n",
    "\n",
    "```python\n",
    "from keras.layers.convolutional import Convolution1D\n",
    "Convolution1D(nb_filter, filter_length, init='uniform',\n",
    "              activation='linear', weights=None,\n",
    "              border_mode='valid', subsample_length=1,\n",
    "              W_regularizer=None, b_regularizer=None,\n",
    "              activity_regularizer=None, W_constraint=None,\n",
    "              b_constraint=None, bias=True, input_dim=None,\n",
    "              input_length=None)\n",
    "```"
   ]
  },
  {
   "cell_type": "markdown",
   "metadata": {
    "nbpresent": {
     "id": "82b2defe-98e5-46da-a4a5-28f9bc559484"
    },
    "slideshow": {
     "slide_type": "fragment"
    }
   },
   "source": [
    ">Convolution operator for filtering neighborhoods of **one-dimensional inputs**. When using this layer as the first layer in a model, either provide the keyword argument `input_dim` (int, e.g. 128 for sequences of 128-dimensional vectors), or `input_shape` (tuple of integers, e.g. (10, 128) for sequences of 10 vectors of 128-dimensional vectors)."
   ]
  },
  {
   "cell_type": "markdown",
   "metadata": {
    "nbpresent": {
     "id": "8bf2c31b-5224-4ae0-9c36-6b6fcb2ed732"
    },
    "slideshow": {
     "slide_type": "subslide"
    }
   },
   "source": [
    "#### Example\n",
    "\n",
    "```python\n",
    "\n",
    "# apply a convolution 1d of length 3 to a sequence with 10 timesteps,\n",
    "# with 64 output filters\n",
    "model = Sequential()\n",
    "model.add(Convolution1D(64, 3, border_mode='same', input_shape=(10, 32)))\n",
    "# now model.output_shape == (None, 10, 64)\n",
    "\n",
    "# add a new conv1d on top\n",
    "model.add(Convolution1D(32, 3, border_mode='same'))\n",
    "# now model.output_shape == (None, 10, 32)\n",
    "```"
   ]
  },
  {
   "cell_type": "markdown",
   "metadata": {
    "nbpresent": {
     "id": "675478d3-bddf-42c1-b02f-221e8fa4928b"
    },
    "slideshow": {
     "slide_type": "subslide"
    }
   },
   "source": [
    "#### Convolution2D\n",
    "\n",
    "```python\n",
    "from keras.layers.convolutional import Convolution2D\n",
    "Convolution2D(nb_filter, nb_row, nb_col, \n",
    "              init='glorot_uniform',\n",
    "              activation='linear', weights=None,\n",
    "              border_mode='valid', subsample=(1, 1),\n",
    "              dim_ordering='default', W_regularizer=None,\n",
    "              b_regularizer=None, activity_regularizer=None,\n",
    "              W_constraint=None, b_constraint=None, \n",
    "              bias=True)\n",
    "```"
   ]
  },
  {
   "cell_type": "markdown",
   "metadata": {
    "nbpresent": {
     "id": "8ce59824-9749-4f86-9e92-1f4f34c28cc1"
    },
    "slideshow": {
     "slide_type": "subslide"
    }
   },
   "source": [
    "#### Example\n",
    "\n",
    "```python\n",
    "\n",
    "# apply a 3x3 convolution with 64 output filters on a 256x256 image:\n",
    "model = Sequential()\n",
    "model.add(Convolution2D(64, 3, 3, border_mode='same', \n",
    "          input_shape=(3, 256, 256)))\n",
    "# now model.output_shape == (None, 64, 256, 256)\n",
    "\n",
    "# add a 3x3 convolution on top, with 32 output filters:\n",
    "model.add(Convolution2D(32, 3, 3, border_mode='same'))\n",
    "# now model.output_shape == (None, 32, 256, 256)\n",
    "\n",
    "```"
   ]
  },
  {
   "cell_type": "markdown",
   "metadata": {
    "nbpresent": {
     "id": "6263c6b4-cc59-4d10-bf40-0e58e43754b3"
    },
    "slideshow": {
     "slide_type": "subslide"
    }
   },
   "source": [
    "## Dimensions of Conv filters in Keras"
   ]
  },
  {
   "cell_type": "markdown",
   "metadata": {
    "nbpresent": {
     "id": "c1813500-0db2-42a0-ac41-8cd31a04d37f"
    },
    "slideshow": {
     "slide_type": "fragment"
    }
   },
   "source": [
    "The complex structure of ConvNets *may* lead to a representation that is challenging to understand."
   ]
  },
  {
   "cell_type": "markdown",
   "metadata": {
    "nbpresent": {
     "id": "0cce1620-0d02-4132-b4d7-4b5c354b19e0"
    },
    "slideshow": {
     "slide_type": "fragment"
    }
   },
   "source": [
    "Of course, the dimensions vary according to the dimension of the Convolutional filters (e.g. 1D, 2D)"
   ]
  },
  {
   "cell_type": "markdown",
   "metadata": {
    "nbpresent": {
     "id": "7b642cd4-1f5f-4d40-bce7-74dbd610c981"
    },
    "slideshow": {
     "slide_type": "subslide"
    }
   },
   "source": [
    "### Convolution1D\n",
    "\n",
    "**Input Shape**:\n",
    "\n",
    "**3D** tensor with shape: (`samples`, `steps`, `input_dim`).\n",
    "\n",
    "**Output Shape**:\n",
    "\n",
    "**3D** tensor with shape: (`samples`, `new_steps`, `nb_filter`)."
   ]
  },
  {
   "cell_type": "markdown",
   "metadata": {
    "nbpresent": {
     "id": "12ffc68a-fad9-4e94-8693-b6a15d57d77c"
    },
    "slideshow": {
     "slide_type": "subslide"
    }
   },
   "source": [
    "### Convolution2D\n",
    "\n",
    "**Input Shape**:\n",
    "\n",
    "**4D** tensor with shape: \n",
    "\n",
    "- (`samples`, `channels`, `rows`, `cols`) if `dim_ordering='th'`\n",
    "- (`samples`, `rows`, `cols`, `channels`) if `dim_ordering='tf'`\n",
    "\n",
    "**Output Shape**:\n",
    "\n",
    "**4D** tensor with shape:\n",
    "\n",
    "- (`samples`, `nb_filter`, `new_rows`, `new_cols`) \n",
    "if `dim_ordering='th'`\n",
    "- (`samples`, `new_rows`, `new_cols`, `nb_filter`) if `dim_ordering='tf'`"
   ]
  }
 ],
 "metadata": {
  "celltoolbar": "Slideshow",
  "kernelspec": {
   "display_name": "Python 3",
   "language": "python",
   "name": "python3"
  },
  "language_info": {
   "codemirror_mode": {
    "name": "ipython",
    "version": 3
   },
   "file_extension": ".py",
   "mimetype": "text/x-python",
   "name": "python",
   "nbconvert_exporter": "python",
   "pygments_lexer": "ipython3",
   "version": "3.6.0"
  },
  "nbpresent": {
   "slides": {
    "05af0b22-03ae-4383-8324-89678b796ee5": {
     "id": "05af0b22-03ae-4383-8324-89678b796ee5",
     "prev": "cafde8df-926c-4df1-8f5b-56e26f609bea",
     "regions": {
      "ab4acb3c-1aef-4cbb-a8f3-99a7aa0e09fa": {
       "attrs": {
        "height": 0.8,
        "width": 0.8,
        "x": 0.1,
        "y": 0.1
       },
       "content": {
        "cell": "71a78012-6ca3-46a4-9dba-be203bf35c91",
        "part": "whole"
       },
       "id": "ab4acb3c-1aef-4cbb-a8f3-99a7aa0e09fa"
      }
     }
    },
    "09b0974a-11e5-4204-a520-853fbd6f79ed": {
     "id": "09b0974a-11e5-4204-a520-853fbd6f79ed",
     "prev": "50ff08c7-bc3c-4100-a103-9d4c143838ae",
     "regions": {
      "0a72609d-8d86-4061-9223-899b5cd71b88": {
       "attrs": {
        "height": 0.8,
        "width": 0.8,
        "x": 0.1,
        "y": 0.1
       },
       "content": {
        "cell": "6263c6b4-cc59-4d10-bf40-0e58e43754b3",
        "part": "whole"
       },
       "id": "0a72609d-8d86-4061-9223-899b5cd71b88"
      },
      "91e494ef-eafe-4d01-a21f-3549ae6a61e4": {
       "attrs": {
        "height": 0.4,
        "width": 0.8,
        "x": 0.1,
        "y": 0.5
       },
       "content": {
        "cell": "c1813500-0db2-42a0-ac41-8cd31a04d37f",
        "part": "whole"
       },
       "id": "91e494ef-eafe-4d01-a21f-3549ae6a61e4"
      },
      "9d2914fe-9d9c-4aa3-a8ec-379cc5ae66bb": {
       "attrs": {
        "height": 0.4,
        "width": 0.8,
        "x": 0.1,
        "y": 0.5
       },
       "content": {
        "cell": "0cce1620-0d02-4132-b4d7-4b5c354b19e0",
        "part": "whole"
       },
       "id": "9d2914fe-9d9c-4aa3-a8ec-379cc5ae66bb"
      }
     }
    },
    "0c124f2f-5510-44b6-9328-5a0086be5b36": {
     "id": "0c124f2f-5510-44b6-9328-5a0086be5b36",
     "prev": "66da6b22-1a97-4b3e-a02b-004733a0d51a",
     "regions": {
      "4bf0d2d8-0c1c-4600-9898-df9999a6d3fe": {
       "attrs": {
        "height": 0.4,
        "width": 0.8,
        "x": 0.1,
        "y": 0.5
       },
       "content": {
        "cell": "45cbd814-210e-422c-b829-4469f54b0e60",
        "part": "whole"
       },
       "id": "4bf0d2d8-0c1c-4600-9898-df9999a6d3fe"
      },
      "8b8e1632-4720-40c8-8e1d-b9c615b0b304": {
       "attrs": {
        "height": 0.8,
        "width": 0.8,
        "x": 0.1,
        "y": 0.1
       },
       "content": {
        "cell": "24f37a91-3eeb-4649-bcce-87d9bd068120",
        "part": "whole"
       },
       "id": "8b8e1632-4720-40c8-8e1d-b9c615b0b304"
      }
     }
    },
    "18887681-659d-4cc6-83d9-50dcfed88f14": {
     "id": "18887681-659d-4cc6-83d9-50dcfed88f14",
     "prev": "95751e03-e623-43ad-b10b-0a5326c64f89",
     "regions": {
      "07753262-5d02-498d-bedc-4780b746aefe": {
       "attrs": {
        "height": 0.8,
        "width": 0.8,
        "x": 0.1,
        "y": 0.1
       },
       "content": {
        "cell": "6d6bea20-f4fb-43b0-8325-fc85e12eccde",
        "part": "whole"
       },
       "id": "07753262-5d02-498d-bedc-4780b746aefe"
      }
     }
    },
    "18bb9361-d58f-4145-a4ac-b820a6e9af94": {
     "id": "18bb9361-d58f-4145-a4ac-b820a6e9af94",
     "prev": "22713061-0023-4967-9de9-33e358572dad",
     "regions": {
      "5b161cff-5daa-4b9c-b134-b3a1113c668e": {
       "attrs": {
        "height": 0.8,
        "width": 0.8,
        "x": 0.1,
        "y": 0.1
       },
       "content": {
        "cell": "4d0e276a-a4c3-4fa2-9dcc-cbfa20f2f269",
        "part": "whole"
       },
       "id": "5b161cff-5daa-4b9c-b134-b3a1113c668e"
      },
      "b7b6397f-dc54-41ce-86d5-4cd54039a93e": {
       "attrs": {
        "height": 0.4,
        "width": 0.8,
        "x": 0.1,
        "y": 0.5
       },
       "content": {
        "cell": "238a6a6c-bf81-4499-be09-95907c37a620",
        "part": "whole"
       },
       "id": "b7b6397f-dc54-41ce-86d5-4cd54039a93e"
      }
     }
    },
    "22713061-0023-4967-9de9-33e358572dad": {
     "id": "22713061-0023-4967-9de9-33e358572dad",
     "prev": "331c685c-bb4e-43bf-97fe-a986c7d3fc7c",
     "regions": {
      "52d2e05c-896d-46b4-8ece-fac1642233cc": {
       "attrs": {
        "height": 0.8,
        "width": 0.8,
        "x": 0.1,
        "y": 0.1
       },
       "content": {
        "cell": "f8c988ef-f2f8-4c5d-969d-f9bbb7e85da7",
        "part": "whole"
       },
       "id": "52d2e05c-896d-46b4-8ece-fac1642233cc"
      }
     }
    },
    "22e56d9f-9641-4ae4-9ea8-22349778819a": {
     "id": "22e56d9f-9641-4ae4-9ea8-22349778819a",
     "prev": "340736fa-1263-42d9-afbe-1842f2cd7fb4",
     "regions": {
      "18f95a40-204f-45f5-b37d-b984c5b94125": {
       "attrs": {
        "height": 0.4,
        "width": 0.8,
        "x": 0.1,
        "y": 0.5
       },
       "content": {
        "cell": "9d1d19db-733e-4182-bedf-429a2ebf1db7",
        "part": "whole"
       },
       "id": "18f95a40-204f-45f5-b37d-b984c5b94125"
      },
      "8f759f3b-719b-4519-bb0a-2b7a845ff3e4": {
       "attrs": {
        "height": 0.8,
        "width": 0.8,
        "x": 0.1,
        "y": 0.1
       },
       "content": {
        "cell": "6e2a7d80-2068-4969-a278-caa95c534589",
        "part": "whole"
       },
       "id": "8f759f3b-719b-4519-bb0a-2b7a845ff3e4"
      }
     }
    },
    "2d834772-8c6c-442e-8e3c-6c8eca914e34": {
     "id": "2d834772-8c6c-442e-8e3c-6c8eca914e34",
     "prev": "0c124f2f-5510-44b6-9328-5a0086be5b36",
     "regions": {
      "d481b630-15a3-404c-b828-29240e6746d4": {
       "attrs": {
        "height": 0.8,
        "width": 0.8,
        "x": 0.1,
        "y": 0.1
       },
       "content": {
        "cell": "3e14b03b-8807-4617-a0c8-520da8b86d0e",
        "part": "whole"
       },
       "id": "d481b630-15a3-404c-b828-29240e6746d4"
      }
     }
    },
    "331c685c-bb4e-43bf-97fe-a986c7d3fc7c": {
     "id": "331c685c-bb4e-43bf-97fe-a986c7d3fc7c",
     "prev": "4d8777c2-ce9d-4c1e-8c33-71be2edc5f16",
     "regions": {
      "741c0899-1198-4a4e-96c5-70e497545bd2": {
       "attrs": {
        "height": 0.8,
        "width": 0.8,
        "x": 0.1,
        "y": 0.1
       },
       "content": {
        "cell": "7bc61f77-1b70-4340-8366-ec8a395c85c9",
        "part": "whole"
       },
       "id": "741c0899-1198-4a4e-96c5-70e497545bd2"
      },
      "d3637a07-8277-4735-b142-7835739ee458": {
       "attrs": {
        "height": 0.4,
        "width": 0.8,
        "x": 0.1,
        "y": 0.5
       },
       "content": {
        "cell": "91f468ec-75dd-4028-91bb-83f727710b4b",
        "part": "whole"
       },
       "id": "d3637a07-8277-4735-b142-7835739ee458"
      }
     }
    },
    "340736fa-1263-42d9-afbe-1842f2cd7fb4": {
     "id": "340736fa-1263-42d9-afbe-1842f2cd7fb4",
     "prev": null,
     "regions": {
      "2b90eb22-0826-465a-aa91-0025fc3203db": {
       "attrs": {
        "height": 0.8,
        "width": 0.8,
        "x": 0.1,
        "y": 0.1
       },
       "content": {
        "cell": "e5e76c41-6cb2-4fde-a4dd-1f60d5209139",
        "part": "whole"
       },
       "id": "2b90eb22-0826-465a-aa91-0025fc3203db"
      }
     }
    },
    "3495dd14-710c-4a60-a05b-a6c9cc730058": {
     "id": "3495dd14-710c-4a60-a05b-a6c9cc730058",
     "prev": "dcaacb58-c552-4799-96b5-e059d63c2dd9",
     "regions": {
      "b67f2588-c6c2-497b-884a-15ee240f9974": {
       "attrs": {
        "height": 0.4,
        "width": 0.8,
        "x": 0.1,
        "y": 0.5
       },
       "content": {
        "cell": "33a74f33-d331-4d2b-bb59-c60650e045ae",
        "part": "whole"
       },
       "id": "b67f2588-c6c2-497b-884a-15ee240f9974"
      },
      "de97159f-9caf-4336-a796-9f9ebf7cbc11": {
       "attrs": {
        "height": 0.8,
        "width": 0.8,
        "x": 0.1,
        "y": 0.1
       },
       "content": {
        "cell": "1bb338c4-ade1-422c-8343-f9ef47a77ab4",
        "part": "whole"
       },
       "id": "de97159f-9caf-4336-a796-9f9ebf7cbc11"
      }
     }
    },
    "36405b0a-e739-4ad3-9ece-9d026cf103a7": {
     "id": "36405b0a-e739-4ad3-9ece-9d026cf103a7",
     "prev": "af4e799b-5330-4a21-a597-ba4922658e76",
     "regions": {
      "a2463f5b-3f69-413a-8e49-d2733ff0b073": {
       "attrs": {
        "height": 0.8,
        "width": 0.8,
        "x": 0.1,
        "y": 0.1
       },
       "content": {
        "cell": "8bf2c31b-5224-4ae0-9c36-6b6fcb2ed732",
        "part": "whole"
       },
       "id": "a2463f5b-3f69-413a-8e49-d2733ff0b073"
      }
     }
    },
    "38e7e0bd-d714-4d38-b925-0d57bf13a40d": {
     "id": "38e7e0bd-d714-4d38-b925-0d57bf13a40d",
     "prev": "09b0974a-11e5-4204-a520-853fbd6f79ed",
     "regions": {
      "95889c77-ef0f-4b35-b23a-0fe9723a3154": {
       "attrs": {
        "height": 0.8,
        "width": 0.8,
        "x": 0.1,
        "y": 0.1
       },
       "content": {
        "cell": "7b642cd4-1f5f-4d40-bce7-74dbd610c981",
        "part": "whole"
       },
       "id": "95889c77-ef0f-4b35-b23a-0fe9723a3154"
      }
     }
    },
    "3aeb66ba-6fa5-4702-ac92-a01c3161bde0": {
     "id": "3aeb66ba-6fa5-4702-ac92-a01c3161bde0",
     "prev": "9d86b805-c598-427e-bf43-150b37abb0fe",
     "regions": {
      "59b4439f-cb43-41f3-8626-4f814c119632": {
       "attrs": {
        "height": 0.8,
        "width": 0.8,
        "x": 0.1,
        "y": 0.1
       },
       "content": {
        "cell": "c5655761-aa1f-485b-aeba-4bcb5e98d99e",
        "part": "whole"
       },
       "id": "59b4439f-cb43-41f3-8626-4f814c119632"
      }
     }
    },
    "4060a49d-031b-45f7-8909-5c2215bd723d": {
     "id": "4060a49d-031b-45f7-8909-5c2215bd723d",
     "prev": "22e56d9f-9641-4ae4-9ea8-22349778819a",
     "regions": {
      "1c1470f1-3969-4b6f-817c-c0789909b20c": {
       "attrs": {
        "height": 0.8,
        "width": 0.8,
        "x": 0.1,
        "y": 0.1
       },
       "content": {
        "cell": "efc4195a-10d4-4e87-80c1-5b8943e52953",
        "part": "whole"
       },
       "id": "1c1470f1-3969-4b6f-817c-c0789909b20c"
      },
      "72addfe6-70c7-4d49-9866-c55d67a50c5e": {
       "attrs": {
        "height": 0.4,
        "width": 0.8,
        "x": 0.1,
        "y": 0.5
       },
       "content": {
        "cell": "d8f245d5-b166-4096-82dc-50a5a7aa9509",
        "part": "whole"
       },
       "id": "72addfe6-70c7-4d49-9866-c55d67a50c5e"
      }
     }
    },
    "4c86a29e-5e2a-4c4f-aa5f-ab469a0833a7": {
     "id": "4c86a29e-5e2a-4c4f-aa5f-ab469a0833a7",
     "prev": "f3600b91-2c09-47a0-97ff-c963b2562950",
     "regions": {
      "22360ab8-b60f-462b-8d46-bf50b9fea8e8": {
       "attrs": {
        "height": 0.8,
        "width": 0.8,
        "x": 0.1,
        "y": 0.1
       },
       "content": {
        "cell": "b2f9ac00-bf7e-4121-8207-b46a026ca59f",
        "part": "whole"
       },
       "id": "22360ab8-b60f-462b-8d46-bf50b9fea8e8"
      },
      "3445f741-1e51-45dc-bce6-38c6ccff065c": {
       "attrs": {
        "height": 0.4,
        "width": 0.8,
        "x": 0.1,
        "y": 0.5
       },
       "content": {
        "cell": "4d522ac9-d5c0-4b31-97ba-fadc26415a9b",
        "part": "whole"
       },
       "id": "3445f741-1e51-45dc-bce6-38c6ccff065c"
      }
     }
    },
    "4d8777c2-ce9d-4c1e-8c33-71be2edc5f16": {
     "id": "4d8777c2-ce9d-4c1e-8c33-71be2edc5f16",
     "prev": "2d834772-8c6c-442e-8e3c-6c8eca914e34",
     "regions": {
      "1d7a6f49-7cc6-4ff2-a0f9-63c0686b7bc9": {
       "attrs": {
        "height": 0.4,
        "width": 0.8,
        "x": 0.1,
        "y": 0.5
       },
       "content": {
        "cell": "939d0086-bd12-47b7-8a52-93690d0f5b34",
        "part": "whole"
       },
       "id": "1d7a6f49-7cc6-4ff2-a0f9-63c0686b7bc9"
      },
      "2cd4cf0f-7c07-4ac5-9ff1-516749d215bc": {
       "attrs": {
        "height": 0.4,
        "width": 0.8,
        "x": 0.1,
        "y": 0.5
       },
       "content": {
        "cell": "c968ae59-dce1-4205-9f11-fd0de89e9b37",
        "part": "whole"
       },
       "id": "2cd4cf0f-7c07-4ac5-9ff1-516749d215bc"
      },
      "b02f4215-ea3e-4430-8fdc-71ec5e0be42b": {
       "attrs": {
        "height": 0.8,
        "width": 0.8,
        "x": 0.1,
        "y": 0.1
       },
       "content": {
        "cell": "252848bb-7133-462d-ae8d-89659e12125b",
        "part": "whole"
       },
       "id": "b02f4215-ea3e-4430-8fdc-71ec5e0be42b"
      }
     }
    },
    "4f65a766-eb25-4994-a03d-a7d9fdc89968": {
     "id": "4f65a766-eb25-4994-a03d-a7d9fdc89968",
     "prev": "567e231c-e782-485c-bd44-0b2fc4767646",
     "regions": {
      "4dc8b7b8-1ebb-4c05-a03f-32067415a2ba": {
       "attrs": {
        "height": 0.4,
        "width": 0.8,
        "x": 0.1,
        "y": 0.5
       },
       "content": {
        "cell": "515e4131-2cf2-4ed1-b49e-b1a574ea5146",
        "part": "whole"
       },
       "id": "4dc8b7b8-1ebb-4c05-a03f-32067415a2ba"
      },
      "be80cd6b-536d-48c1-baea-4a3bf5d647f5": {
       "attrs": {
        "height": 0.8,
        "width": 0.8,
        "x": 0.1,
        "y": 0.1
       },
       "content": {
        "cell": "751a68eb-30a2-4669-bc61-bb43957bb92b",
        "part": "whole"
       },
       "id": "be80cd6b-536d-48c1-baea-4a3bf5d647f5"
      }
     }
    },
    "50ff08c7-bc3c-4100-a103-9d4c143838ae": {
     "id": "50ff08c7-bc3c-4100-a103-9d4c143838ae",
     "prev": "97924cba-6353-48a4-8c9b-f814b8be4e6b",
     "regions": {
      "de20172e-dce3-4d88-a4de-52855319cab1": {
       "attrs": {
        "height": 0.8,
        "width": 0.8,
        "x": 0.1,
        "y": 0.1
       },
       "content": {
        "cell": "8ce59824-9749-4f86-9e92-1f4f34c28cc1",
        "part": "whole"
       },
       "id": "de20172e-dce3-4d88-a4de-52855319cab1"
      }
     }
    },
    "5649edc1-5a92-4265-a864-b0c1741a0a4b": {
     "id": "5649edc1-5a92-4265-a864-b0c1741a0a4b",
     "prev": "9ee4629a-a3d4-43f8-a399-84fe5506ce99",
     "regions": {
      "3e6db408-6c68-44f3-9765-f187f44d6338": {
       "attrs": {
        "height": 0.8,
        "width": 0.8,
        "x": 0.1,
        "y": 0.1
       },
       "content": {
        "cell": "cb3b74ee-94e8-4121-9d92-81fc7a1e3400",
        "part": "whole"
       },
       "id": "3e6db408-6c68-44f3-9765-f187f44d6338"
      }
     }
    },
    "567e231c-e782-485c-bd44-0b2fc4767646": {
     "id": "567e231c-e782-485c-bd44-0b2fc4767646",
     "prev": "18887681-659d-4cc6-83d9-50dcfed88f14",
     "regions": {
      "312973d3-6b64-4dcb-b266-d2e6adcb83be": {
       "attrs": {
        "height": 0.8,
        "width": 0.8,
        "x": 0.1,
        "y": 0.1
       },
       "content": {
        "cell": "605fd976-9c97-4e84-920e-4e7115b9235d",
        "part": "whole"
       },
       "id": "312973d3-6b64-4dcb-b266-d2e6adcb83be"
      }
     }
    },
    "66da6b22-1a97-4b3e-a02b-004733a0d51a": {
     "id": "66da6b22-1a97-4b3e-a02b-004733a0d51a",
     "prev": "9cf6576f-0c5c-492c-b7f8-a92c16fa78fe",
     "regions": {
      "56d4f830-f0ec-4214-93a1-c53ff94df5d6": {
       "attrs": {
        "height": 0.8,
        "width": 0.8,
        "x": 0.1,
        "y": 0.1
       },
       "content": {
        "cell": "0de97d66-d7f1-4d62-9824-deb5589fa8a3",
        "part": "whole"
       },
       "id": "56d4f830-f0ec-4214-93a1-c53ff94df5d6"
      }
     }
    },
    "688ad9f3-0afe-4c40-b7b8-17ab7b55e313": {
     "id": "688ad9f3-0afe-4c40-b7b8-17ab7b55e313",
     "prev": "3aeb66ba-6fa5-4702-ac92-a01c3161bde0",
     "regions": {
      "dc8348fb-e311-4560-9aac-40056222934e": {
       "attrs": {
        "height": 0.8,
        "width": 0.8,
        "x": 0.1,
        "y": 0.1
       },
       "content": {
        "cell": "1aaefd05-47b5-4726-9c67-d58158a2e809",
        "part": "whole"
       },
       "id": "dc8348fb-e311-4560-9aac-40056222934e"
      }
     }
    },
    "6d0fb0bb-9462-45ce-815e-5ebd18afe4ad": {
     "id": "6d0fb0bb-9462-45ce-815e-5ebd18afe4ad",
     "prev": "7d5c4101-57e8-4ba6-8ac8-5e27c47bd2ee",
     "regions": {
      "8eabb2e6-bd63-4216-abe9-aca9077a52be": {
       "attrs": {
        "height": 0.8,
        "width": 0.8,
        "x": 0.1,
        "y": 0.1
       },
       "content": {
        "cell": "35a00439-058f-4623-8a05-40b44b348486",
        "part": "whole"
       },
       "id": "8eabb2e6-bd63-4216-abe9-aca9077a52be"
      }
     }
    },
    "740024c8-c290-44ef-ac32-e104ea1cef2d": {
     "id": "740024c8-c290-44ef-ac32-e104ea1cef2d",
     "prev": "bfdab7bf-a3db-40e0-82c8-c74d78e34e56",
     "regions": {
      "a1c42993-99dd-44e7-adea-f9b09cd71e10": {
       "attrs": {
        "height": 0.8,
        "width": 0.8,
        "x": 0.1,
        "y": 0.1
       },
       "content": {
        "cell": "bb68dbc3-edcc-4972-8760-a362e74593f1",
        "part": "whole"
       },
       "id": "a1c42993-99dd-44e7-adea-f9b09cd71e10"
      },
      "c4c68481-05bb-45f4-8f47-520b7f34cfbc": {
       "attrs": {
        "height": 0.4,
        "width": 0.8,
        "x": 0.1,
        "y": 0.5
       },
       "content": {
        "cell": "28dd94a6-efa1-4478-ad40-ab34a69312ec",
        "part": "whole"
       },
       "id": "c4c68481-05bb-45f4-8f47-520b7f34cfbc"
      },
      "d11c86ff-b7ef-4708-b0d8-8ff95461b17d": {
       "attrs": {
        "height": 0.4,
        "width": 0.8,
        "x": 0.1,
        "y": 0.5
       },
       "content": {
        "cell": "8e7ee58a-6c93-4333-ac46-3c8249b0f7da",
        "part": "whole"
       },
       "id": "d11c86ff-b7ef-4708-b0d8-8ff95461b17d"
      }
     }
    },
    "7d5c4101-57e8-4ba6-8ac8-5e27c47bd2ee": {
     "id": "7d5c4101-57e8-4ba6-8ac8-5e27c47bd2ee",
     "prev": "3495dd14-710c-4a60-a05b-a6c9cc730058",
     "regions": {
      "535cf7a4-0beb-4c47-9f4d-c392484dfc54": {
       "attrs": {
        "height": 0.4,
        "width": 0.8,
        "x": 0.1,
        "y": 0.5
       },
       "content": {
        "cell": "896794ed-196d-4d08-8cf8-e4190d944b25",
        "part": "whole"
       },
       "id": "535cf7a4-0beb-4c47-9f4d-c392484dfc54"
      },
      "f7883ab2-fffd-4300-bcbc-81fd4fa3b817": {
       "attrs": {
        "height": 0.8,
        "width": 0.8,
        "x": 0.1,
        "y": 0.1
       },
       "content": {
        "cell": "b55cb816-738f-4d53-a57f-b1d94d13e0c7",
        "part": "whole"
       },
       "id": "f7883ab2-fffd-4300-bcbc-81fd4fa3b817"
      }
     }
    },
    "95751e03-e623-43ad-b10b-0a5326c64f89": {
     "id": "95751e03-e623-43ad-b10b-0a5326c64f89",
     "prev": "9c8438cd-9244-4cde-8f3d-235e9077f800",
     "regions": {
      "029de369-6073-4f00-abb9-6033e01515e3": {
       "attrs": {
        "height": 0.8,
        "width": 0.8,
        "x": 0.1,
        "y": 0.1
       },
       "content": {
        "cell": "962669b6-20ed-4583-890f-47fa773305af",
        "part": "whole"
       },
       "id": "029de369-6073-4f00-abb9-6033e01515e3"
      }
     }
    },
    "9677900e-cdc3-4c6a-aa32-a0d3e11bc167": {
     "id": "9677900e-cdc3-4c6a-aa32-a0d3e11bc167",
     "prev": "4060a49d-031b-45f7-8909-5c2215bd723d",
     "regions": {
      "5cbf42bf-0468-4432-92d9-ec1730d780ff": {
       "attrs": {
        "height": 0.8,
        "width": 0.8,
        "x": 0.1,
        "y": 0.1
       },
       "content": {
        "cell": "8660cd54-fbe9-47e9-afaf-953437878c5f",
        "part": "whole"
       },
       "id": "5cbf42bf-0468-4432-92d9-ec1730d780ff"
      }
     }
    },
    "971b6387-3d3e-4b7a-98a9-3b1d3b87d7ed": {
     "id": "971b6387-3d3e-4b7a-98a9-3b1d3b87d7ed",
     "prev": "688ad9f3-0afe-4c40-b7b8-17ab7b55e313",
     "regions": {
      "b410290f-0225-43f9-9a74-5495beab9384": {
       "attrs": {
        "height": 0.4,
        "width": 0.8,
        "x": 0.1,
        "y": 0.5
       },
       "content": {
        "cell": "fce43ce6-594a-44cb-8843-c4951cc58a58",
        "part": "whole"
       },
       "id": "b410290f-0225-43f9-9a74-5495beab9384"
      },
      "c0b8f1f6-a0e9-445f-a35d-f437ec1bf887": {
       "attrs": {
        "height": 0.8,
        "width": 0.8,
        "x": 0.1,
        "y": 0.1
       },
       "content": {
        "cell": "1040d167-cf35-4eb0-a281-95187f4cdd30",
        "part": "whole"
       },
       "id": "c0b8f1f6-a0e9-445f-a35d-f437ec1bf887"
      }
     }
    },
    "97924cba-6353-48a4-8c9b-f814b8be4e6b": {
     "id": "97924cba-6353-48a4-8c9b-f814b8be4e6b",
     "prev": "36405b0a-e739-4ad3-9ece-9d026cf103a7",
     "regions": {
      "5858b6d7-6171-4cb1-960e-a52515b5ae91": {
       "attrs": {
        "height": 0.8,
        "width": 0.8,
        "x": 0.1,
        "y": 0.1
       },
       "content": {
        "cell": "675478d3-bddf-42c1-b02f-221e8fa4928b",
        "part": "whole"
       },
       "id": "5858b6d7-6171-4cb1-960e-a52515b5ae91"
      }
     }
    },
    "9a15f480-7f98-465e-a8f1-7ec156dea08a": {
     "id": "9a15f480-7f98-465e-a8f1-7ec156dea08a",
     "prev": "38e7e0bd-d714-4d38-b925-0d57bf13a40d",
     "regions": {
      "05c85460-1eec-4183-8a67-1d0f274a558b": {
       "attrs": {
        "height": 0.8,
        "width": 0.8,
        "x": 0.1,
        "y": 0.1
       },
       "content": {
        "cell": "12ffc68a-fad9-4e94-8693-b6a15d57d77c",
        "part": "whole"
       },
       "id": "05c85460-1eec-4183-8a67-1d0f274a558b"
      }
     }
    },
    "9c8438cd-9244-4cde-8f3d-235e9077f800": {
     "id": "9c8438cd-9244-4cde-8f3d-235e9077f800",
     "prev": "ce26f244-e75a-4ab3-95ea-c94ede6913c4",
     "regions": {
      "9f248b36-abd3-47a2-811b-2928e4ac8721": {
       "attrs": {
        "height": 0.8,
        "width": 0.8,
        "x": 0.1,
        "y": 0.1
       },
       "content": {
        "cell": "52082ba6-9036-4ccc-94dc-ece754a8166a",
        "part": "whole"
       },
       "id": "9f248b36-abd3-47a2-811b-2928e4ac8721"
      }
     }
    },
    "9cf6576f-0c5c-492c-b7f8-a92c16fa78fe": {
     "id": "9cf6576f-0c5c-492c-b7f8-a92c16fa78fe",
     "prev": "9677900e-cdc3-4c6a-aa32-a0d3e11bc167",
     "regions": {
      "361a97eb-f194-40e1-a597-10cc1e36c982": {
       "attrs": {
        "height": 0.8,
        "width": 0.8,
        "x": 0.1,
        "y": 0.1
       },
       "content": {
        "cell": "4631c96c-f816-48e4-bed8-f7d93260be78",
        "part": "whole"
       },
       "id": "361a97eb-f194-40e1-a597-10cc1e36c982"
      }
     }
    },
    "9d86b805-c598-427e-bf43-150b37abb0fe": {
     "id": "9d86b805-c598-427e-bf43-150b37abb0fe",
     "prev": "6d0fb0bb-9462-45ce-815e-5ebd18afe4ad",
     "regions": {
      "a1232842-89f2-469e-aa38-d7d7f9aace44": {
       "attrs": {
        "height": 0.4,
        "width": 0.8,
        "x": 0.1,
        "y": 0.5
       },
       "content": {
        "cell": "582e126a-6be6-473b-b60a-c094a147b5fe",
        "part": "whole"
       },
       "id": "a1232842-89f2-469e-aa38-d7d7f9aace44"
      },
      "fd1c6317-ab41-429a-b196-74c81afb6ad5": {
       "attrs": {
        "height": 0.8,
        "width": 0.8,
        "x": 0.1,
        "y": 0.1
       },
       "content": {
        "cell": "8f6d473b-327f-4c9d-a49a-23c466a92e5c",
        "part": "whole"
       },
       "id": "fd1c6317-ab41-429a-b196-74c81afb6ad5"
      }
     }
    },
    "9ee4629a-a3d4-43f8-a399-84fe5506ce99": {
     "id": "9ee4629a-a3d4-43f8-a399-84fe5506ce99",
     "prev": "4f65a766-eb25-4994-a03d-a7d9fdc89968",
     "regions": {
      "39be91de-6dd8-4c32-bd35-18056d170381": {
       "attrs": {
        "height": 0.8,
        "width": 0.8,
        "x": 0.1,
        "y": 0.1
       },
       "content": {
        "cell": "b98ea2bd-dce4-4044-89c1-73095d9417a2",
        "part": "whole"
       },
       "id": "39be91de-6dd8-4c32-bd35-18056d170381"
      },
      "d1849c5d-fa10-4d59-946a-7071f1cfddf5": {
       "attrs": {
        "height": 0.4,
        "width": 0.8,
        "x": 0.1,
        "y": 0.5
       },
       "content": {
        "cell": "b273b5cf-0e96-4574-9add-c72dc303b68b",
        "part": "whole"
       },
       "id": "d1849c5d-fa10-4d59-946a-7071f1cfddf5"
      }
     }
    },
    "af4e799b-5330-4a21-a597-ba4922658e76": {
     "id": "af4e799b-5330-4a21-a597-ba4922658e76",
     "prev": "d21a42e8-deb4-4a22-841b-17976c38ab55",
     "regions": {
      "5b430d33-9215-43bf-afe1-d7babc594c76": {
       "attrs": {
        "height": 0.4,
        "width": 0.8,
        "x": 0.1,
        "y": 0.5
       },
       "content": {
        "cell": "82b2defe-98e5-46da-a4a5-28f9bc559484",
        "part": "whole"
       },
       "id": "5b430d33-9215-43bf-afe1-d7babc594c76"
      },
      "ed5964a1-a4a7-40a3-93e2-d299c3ba4202": {
       "attrs": {
        "height": 0.8,
        "width": 0.8,
        "x": 0.1,
        "y": 0.1
       },
       "content": {
        "cell": "eaf0f264-aa18-489e-be3b-3e5ce4152bf3",
        "part": "whole"
       },
       "id": "ed5964a1-a4a7-40a3-93e2-d299c3ba4202"
      }
     }
    },
    "bfdab7bf-a3db-40e0-82c8-c74d78e34e56": {
     "id": "bfdab7bf-a3db-40e0-82c8-c74d78e34e56",
     "prev": "05af0b22-03ae-4383-8324-89678b796ee5",
     "regions": {
      "328adb4c-766a-44be-9070-7f89c0d7ad44": {
       "attrs": {
        "height": 0.8,
        "width": 0.8,
        "x": 0.1,
        "y": 0.1
       },
       "content": {
        "cell": "4276278b-76ed-46f1-9d8e-929bb245ecb3",
        "part": "whole"
       },
       "id": "328adb4c-766a-44be-9070-7f89c0d7ad44"
      }
     }
    },
    "c18ebd33-a134-4959-991b-5b249b648d63": {
     "id": "c18ebd33-a134-4959-991b-5b249b648d63",
     "prev": "18bb9361-d58f-4145-a4ac-b820a6e9af94",
     "regions": {
      "278af2ec-eed7-49d4-a646-58f95c99f8bf": {
       "attrs": {
        "height": 0.8,
        "width": 0.8,
        "x": 0.1,
        "y": 0.1
       },
       "content": {
        "cell": "a5a3b9bd-6951-4a59-ba3e-e54f7d1b432e",
        "part": "whole"
       },
       "id": "278af2ec-eed7-49d4-a646-58f95c99f8bf"
      },
      "3cd1e231-3fb6-4806-a9b5-827691e0f441": {
       "attrs": {
        "height": 0.4,
        "width": 0.8,
        "x": 0.1,
        "y": 0.5
       },
       "content": {
        "cell": "a8b0222b-46e3-4d7c-9216-e2971d1443b4",
        "part": "whole"
       },
       "id": "3cd1e231-3fb6-4806-a9b5-827691e0f441"
      }
     }
    },
    "cafde8df-926c-4df1-8f5b-56e26f609bea": {
     "id": "cafde8df-926c-4df1-8f5b-56e26f609bea",
     "prev": "ebdc31fc-789d-4d4f-8849-82c5908f9b7b",
     "regions": {
      "f2eea998-38de-4856-8b14-d4107330d85a": {
       "attrs": {
        "height": 0.8,
        "width": 0.8,
        "x": 0.1,
        "y": 0.1
       },
       "content": {
        "cell": "e5f64a53-a80c-41be-9414-23f9b9f2f21c",
        "part": "whole"
       },
       "id": "f2eea998-38de-4856-8b14-d4107330d85a"
      }
     }
    },
    "ce26f244-e75a-4ab3-95ea-c94ede6913c4": {
     "id": "ce26f244-e75a-4ab3-95ea-c94ede6913c4",
     "prev": "740024c8-c290-44ef-ac32-e104ea1cef2d",
     "regions": {
      "4bddc8b4-2638-4ce5-95af-defc1f407f4f": {
       "attrs": {
        "height": 0.4,
        "width": 0.8,
        "x": 0.1,
        "y": 0.5
       },
       "content": {
        "cell": "382d8c8a-4c9c-47df-b2fb-7505ebfc5b1c",
        "part": "whole"
       },
       "id": "4bddc8b4-2638-4ce5-95af-defc1f407f4f"
      },
      "58d655c2-d1b5-4acd-90cc-ccedf9379c01": {
       "attrs": {
        "height": 0.8,
        "width": 0.8,
        "x": 0.1,
        "y": 0.1
       },
       "content": {
        "cell": "5ba3d820-2f92-4829-850d-f0743d659ca5",
        "part": "whole"
       },
       "id": "58d655c2-d1b5-4acd-90cc-ccedf9379c01"
      },
      "92d96e14-f607-4b83-90bb-616c3ee13376": {
       "attrs": {
        "height": 0.4,
        "width": 0.8,
        "x": 0.1,
        "y": 0.5
       },
       "content": {
        "cell": "adf24c40-1c7f-461c-939a-109b92a22cdd",
        "part": "whole"
       },
       "id": "92d96e14-f607-4b83-90bb-616c3ee13376"
      }
     }
    },
    "d21a42e8-deb4-4a22-841b-17976c38ab55": {
     "id": "d21a42e8-deb4-4a22-841b-17976c38ab55",
     "prev": "5649edc1-5a92-4265-a864-b0c1741a0a4b",
     "regions": {
      "916033e1-707d-4ab1-a992-832ddf1223cd": {
       "attrs": {
        "height": 0.8,
        "width": 0.8,
        "x": 0.1,
        "y": 0.1
       },
       "content": {
        "cell": "80d4fd5e-92a1-43d2-af5b-bad7fd809da2",
        "part": "whole"
       },
       "id": "916033e1-707d-4ab1-a992-832ddf1223cd"
      }
     }
    },
    "dcaacb58-c552-4799-96b5-e059d63c2dd9": {
     "id": "dcaacb58-c552-4799-96b5-e059d63c2dd9",
     "prev": "ddac069b-2603-45e9-9154-6ca31bd8e3dd",
     "regions": {
      "ad50b888-1689-4b0a-a1f5-2144bd209dba": {
       "attrs": {
        "height": 0.8,
        "width": 0.8,
        "x": 0.1,
        "y": 0.1
       },
       "content": {
        "cell": "c07b8ac4-6680-4115-8cd8-78845b286d52",
        "part": "whole"
       },
       "id": "ad50b888-1689-4b0a-a1f5-2144bd209dba"
      }
     }
    },
    "ddac069b-2603-45e9-9154-6ca31bd8e3dd": {
     "id": "ddac069b-2603-45e9-9154-6ca31bd8e3dd",
     "prev": "4c86a29e-5e2a-4c4f-aa5f-ab469a0833a7",
     "regions": {
      "4c4435cd-3ad6-4681-bcce-d8611b7fdb91": {
       "attrs": {
        "height": 0.8,
        "width": 0.8,
        "x": 0.1,
        "y": 0.1
       },
       "content": {
        "cell": "1036aec5-1f39-4618-bcf4-6b29d0b87f46",
        "part": "whole"
       },
       "id": "4c4435cd-3ad6-4681-bcce-d8611b7fdb91"
      },
      "ca0924dd-c388-4a61-92d8-c664eb15af2e": {
       "attrs": {
        "height": 0.4,
        "width": 0.8,
        "x": 0.1,
        "y": 0.5
       },
       "content": {
        "cell": "7013838c-90ba-42f3-ad93-b8162a9588b1",
        "part": "whole"
       },
       "id": "ca0924dd-c388-4a61-92d8-c664eb15af2e"
      }
     }
    },
    "ebdc31fc-789d-4d4f-8849-82c5908f9b7b": {
     "id": "ebdc31fc-789d-4d4f-8849-82c5908f9b7b",
     "prev": "971b6387-3d3e-4b7a-98a9-3b1d3b87d7ed",
     "regions": {
      "262f59dd-2b34-4f55-913f-bd54a1dd8013": {
       "attrs": {
        "height": 0.4,
        "width": 0.8,
        "x": 0.1,
        "y": 0.5
       },
       "content": {
        "cell": "47e3edeb-7ed5-4846-91ca-41f0ba202ee6",
        "part": "whole"
       },
       "id": "262f59dd-2b34-4f55-913f-bd54a1dd8013"
      },
      "a6c59166-ae10-4b6c-8744-08053d8ccb00": {
       "attrs": {
        "height": 0.8,
        "width": 0.8,
        "x": 0.1,
        "y": 0.1
       },
       "content": {
        "cell": "2264b424-7a00-4c42-a29f-e6b4a9781c90",
        "part": "whole"
       },
       "id": "a6c59166-ae10-4b6c-8744-08053d8ccb00"
      }
     }
    },
    "f3600b91-2c09-47a0-97ff-c963b2562950": {
     "id": "f3600b91-2c09-47a0-97ff-c963b2562950",
     "prev": "c18ebd33-a134-4959-991b-5b249b648d63",
     "regions": {
      "edcf7d05-ceb9-4267-a573-d80101536d69": {
       "attrs": {
        "height": 0.8,
        "width": 0.8,
        "x": 0.1,
        "y": 0.1
       },
       "content": {
        "cell": "a7f1acb5-684d-4a17-abc9-f2b2de55d47c",
        "part": "whole"
       },
       "id": "edcf7d05-ceb9-4267-a573-d80101536d69"
      }
     }
    }
   },
   "themes": {}
  }
 },
 "nbformat": 4,
 "nbformat_minor": 0
}
