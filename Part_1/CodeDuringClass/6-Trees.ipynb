{
 "cells": [
  {
   "cell_type": "code",
   "execution_count": null,
   "metadata": {},
   "outputs": [],
   "source": [
    "%pylab inline\n",
    "%run helper_functions.py\n",
    "\n",
    "import pandas as pd\n",
    "import seaborn as sns\n",
    "import numpy as np\n",
    "import sklearn\n",
    "sns.set_style(\"whitegrid\")"
   ]
  },
  {
   "cell_type": "code",
   "execution_count": null,
   "metadata": {
    "collapsed": true
   },
   "outputs": [],
   "source": [
    "# A helper function to display the tree.\n",
    "# NOTE: requires pydotplus and graphviz libraries. \n",
    "#       for MACOS/LINUX just install by typing \"conda install pydotplus\" at the terminal\n",
    "#       for windows its tricker so we can skip this\n",
    "    \n",
    "from IPython.display import Image \n",
    "import pydotplus\n",
    "def plot_tree(clf, feature_names, target_names):\n",
    "    dot_data = sklearn.tree.export_graphviz(clf, out_file=None, \n",
    "                             feature_names=feature_names,  \n",
    "                             class_names= target_names,  \n",
    "                             filled=True, rounded=True,  \n",
    "                             special_characters=True) \n",
    "    return pydotplus.graph_from_dot_data(dot_data).create_png() \n",
    "\n"
   ]
  },
  {
   "cell_type": "markdown",
   "metadata": {},
   "source": [
    "# LOAD IRIS DATASET"
   ]
  },
  {
   "cell_type": "code",
   "execution_count": null,
   "metadata": {
    "collapsed": true
   },
   "outputs": [],
   "source": [
    "from sklearn import datasets\n",
    "iris = datasets.load_iris()\n",
    "\n",
    "X = iris.data\n",
    "feature_names = iris.feature_names\n",
    "y = iris.target\n",
    "class_labels = iris.target_names"
   ]
  },
  {
   "cell_type": "code",
   "execution_count": null,
   "metadata": {},
   "outputs": [],
   "source": [
    "from sklearn.tree import DecisionTreeClassifier\n",
    "from sklearn.model_selection import cross_val_score\n",
    "\n",
    "\n",
    "tree = DecisionTreeClassifier( random_state=0) \n",
    "\n",
    "\n",
    "# score at training\n",
    "score_test = tree.fit(X,y).score(X, y)\n",
    "print(\"Accuracy Training         :\", score_test)\n",
    "\n",
    "scores = cross_val_score(tree, X, y, cv=10)\n",
    "print(\"Accuracy Cross Validation : %0.2f (+/- %0.2f)\" % (scores.mean(), scores.std() * 2))\n",
    "\n",
    "plot_boundaries_iris_dataset(tree, iris)\n",
    "\n",
    "# plot the tree\n",
    "tree.fit(X,y)\n",
    "Image(plot_tree(tree, iris.feature_names, iris.target_names))"
   ]
  },
  {
   "cell_type": "code",
   "execution_count": null,
   "metadata": {},
   "outputs": [],
   "source": [
    "from sklearn.model_selection import GridSearchCV\n",
    "from sklearn.model_selection import ShuffleSplit\n",
    "\n",
    "params = { \n",
    "           'min_samples_leaf':  range(2,10),\n",
    "           'max_leaf_nodes'  :  range(2,10)\n",
    "         }\n",
    "\n",
    "tree = DecisionTreeClassifier()\n",
    "\n",
    "cv = ShuffleSplit(n_splits=10, random_state=0)\n",
    "grid = GridSearchCV(estimator=tree, cv = cv, param_grid=params )\n",
    "grid.fit(X, y)\n",
    "# summarize the results of the grid search\n",
    "print(\"Best parameters: \", grid.best_estimator_)\n",
    "print(\"Best score: \", grid.best_score_)\n",
    "\n",
    "plot_boundaries_iris_dataset(grid.best_estimator_, iris)"
   ]
  },
  {
   "cell_type": "code",
   "execution_count": null,
   "metadata": {},
   "outputs": [],
   "source": [
    "Image(plot_tree(grid.best_estimator_, iris.feature_names, iris.target_names))"
   ]
  },
  {
   "cell_type": "markdown",
   "metadata": {},
   "source": [
    "## Feature importance"
   ]
  },
  {
   "cell_type": "code",
   "execution_count": null,
   "metadata": {},
   "outputs": [],
   "source": [
    "important_features = pd.Series(data=grid.best_estimator_.feature_importances_ , index=feature_names)\n",
    "important_features.sort_values(ascending=False)"
   ]
  },
  {
   "cell_type": "markdown",
   "metadata": {},
   "source": [
    "# Random Forests"
   ]
  },
  {
   "cell_type": "code",
   "execution_count": null,
   "metadata": {},
   "outputs": [],
   "source": [
    "from sklearn.model_selection import GridSearchCV\n",
    "from sklearn.model_selection import ShuffleSplit\n",
    "from sklearn.ensemble import RandomForestClassifier\n",
    "\n",
    "tree = RandomForestClassifier(max_leaf_nodes=4)\n",
    "scores = cross_val_score(tree, X, y, cv=5)\n",
    "print(\"Accuracy: %0.2f (+/- %0.2f)\" % (scores.mean(), scores.std() * 2))\n",
    "\n",
    "\n",
    "\n",
    "important_features = pd.Series(data=tree.fit(X,y).feature_importances_ ,index=feature_names)\n",
    "important_features.sort_values(ascending=False)\n",
    "\n",
    "\n",
    "plot_boundaries_iris_dataset(tree, iris)"
   ]
  },
  {
   "cell_type": "markdown",
   "metadata": {},
   "source": [
    "# GradientBoostingClassifier"
   ]
  },
  {
   "cell_type": "code",
   "execution_count": null,
   "metadata": {},
   "outputs": [],
   "source": [
    "from sklearn.model_selection import GridSearchCV\n",
    "from sklearn.model_selection import ShuffleSplit\n",
    "from sklearn.ensemble import GradientBoostingClassifier\n",
    "\n",
    "tree = GradientBoostingClassifier()\n",
    "scores = cross_val_score(tree, X, y, cv=5)\n",
    "print(\"Accuracy: %0.2f (+/- %0.2f)\" % (scores.mean(), scores.std() * 2))\n",
    "\n",
    "\n",
    "important_features = pd.Series(data=tree.fit(X,y).feature_importances_ ,index=feature_names)\n",
    "important_features.sort_values(ascending=False)\n",
    "\n",
    "plot_boundaries_iris_dataset(tree, iris)"
   ]
  },
  {
   "cell_type": "markdown",
   "metadata": {},
   "source": [
    "# Titanic"
   ]
  },
  {
   "cell_type": "code",
   "execution_count": null,
   "metadata": {
    "collapsed": true
   },
   "outputs": [],
   "source": [
    "# Load the boston dataset from sklearn\n",
    "dataset = pd.read_csv(\"../data/titanic_clean.csv\")\n",
    "X = dataset.drop('survived', axis = 1)\n",
    "y = dataset.survived\n",
    "\n",
    "\n",
    "# to print stats\n",
    "feature_names = X.columns\n",
    "class_labels = [\"Died\", \"Survived\"]"
   ]
  },
  {
   "cell_type": "code",
   "execution_count": null,
   "metadata": {},
   "outputs": [],
   "source": [
    "from sklearn.model_selection import GridSearchCV\n",
    "from sklearn.model_selection import ShuffleSplit\n",
    "\n",
    "params = { \n",
    "           #'min_samples_leaf':  range(2,10),\n",
    "           'max_leaf_nodes'  :  range(2,7)\n",
    "         }\n",
    "\n",
    "tree = DecisionTreeClassifier()\n",
    "\n",
    "cv = ShuffleSplit(n_splits=10, random_state=0)\n",
    "grid = GridSearchCV(estimator=tree, cv = cv, param_grid=params )\n",
    "grid.fit(X, y)\n",
    "# summarize the results of the grid search\n",
    "print(\"Best parameters: \", grid.best_estimator_)\n",
    "print(\"Best score: \", grid.best_score_)\n",
    "\n",
    "\n",
    "\n",
    "\n",
    "Image(plot_tree(grid.best_estimator_, feature_names, class_labels))\n"
   ]
  },
  {
   "cell_type": "code",
   "execution_count": null,
   "metadata": {},
   "outputs": [],
   "source": [
    "important_features = pd.Series(data=tree.fit(X,y).feature_importances_ ,index=feature_names)\n",
    "important_features.sort_values(ascending=False)"
   ]
  },
  {
   "cell_type": "code",
   "execution_count": null,
   "metadata": {},
   "outputs": [],
   "source": [
    "from sklearn.ensemble import GradientBoostingClassifier\n",
    "\n",
    "tree = GradientBoostingClassifier()\n",
    "scores = cross_val_score(tree, X, y, cv=5)\n",
    "print(\"Accuracy: %0.2f (+/- %0.2f)\" % (scores.mean(), scores.std() * 2))\n",
    "\n",
    "\n",
    "important_features = pd.Series(data=tree.fit(X,y).feature_importances_ ,index=feature_names)\n",
    "important_features.sort_values(ascending=False)\n"
   ]
  },
  {
   "cell_type": "markdown",
   "metadata": {},
   "source": [
    "# Regression"
   ]
  },
  {
   "cell_type": "code",
   "execution_count": null,
   "metadata": {},
   "outputs": [],
   "source": [
    "from sklearn.tree import DecisionTreeRegressor\n",
    "pylab.rcParams['figure.figsize'] = 16, 12\n",
    "\n",
    "# Create a random dataset\n",
    "rng = np.random.RandomState(1)\n",
    "X = np.sort(5 * rng.rand(200, 1), axis=0)\n",
    "y = np.sin(X).ravel()\n",
    "y[::5] += 3 * (0.5 - rng.rand(40))\n",
    "\n",
    "# Fit regression model\n",
    "regr_1 = DecisionTreeRegressor(max_leaf_nodes=2)\n",
    "regr_1.fit(X, y)\n",
    "\n",
    "num_leafs = 20\n",
    "regr_2 = DecisionTreeRegressor(max_leaf_nodes=num_leafs)\n",
    "regr_2.fit(X, y)\n",
    "\n",
    "# Predict\n",
    "X_test = np.arange(0.0, 5.0, 0.01)[:, np.newaxis]\n",
    "y_1 = regr_1.predict(X_test)\n",
    "y_2 = regr_2.predict(X_test)\n",
    "\n",
    "# Plot the results\n",
    "plt.figure()\n",
    "plt.scatter(X, y, c=\"darkorange\", label=\"data\")\n",
    "plt.plot(X_test, y_1, color=\"yellowgreen\", label=\"max_leaf_nodes=2\", linewidth=2)\n",
    "plt.plot(X_test, y_2, color=\"red\", label=\"max_leaf_nodes=%s\"%num_leafs, linewidth=2)\n",
    "plt.xlabel(\"data\")\n",
    "plt.ylabel(\"target\")\n",
    "plt.title(\"Decision Tree Regression\")\n",
    "plt.legend()\n",
    "plt.show()\n",
    "\n"
   ]
  },
  {
   "cell_type": "code",
   "execution_count": null,
   "metadata": {
    "collapsed": true
   },
   "outputs": [],
   "source": []
  },
  {
   "cell_type": "code",
   "execution_count": null,
   "metadata": {
    "collapsed": true
   },
   "outputs": [],
   "source": []
  },
  {
   "cell_type": "code",
   "execution_count": null,
   "metadata": {
    "collapsed": true
   },
   "outputs": [],
   "source": []
  },
  {
   "cell_type": "code",
   "execution_count": null,
   "metadata": {
    "collapsed": true
   },
   "outputs": [],
   "source": []
  }
 ],
 "metadata": {
  "kernelspec": {
   "display_name": "Python 3",
   "language": "python",
   "name": "python3"
  },
  "language_info": {
   "codemirror_mode": {
    "name": "ipython",
    "version": 3
   },
   "file_extension": ".py",
   "mimetype": "text/x-python",
   "name": "python",
   "nbconvert_exporter": "python",
   "pygments_lexer": "ipython3",
   "version": "3.6.1"
  }
 },
 "nbformat": 4,
 "nbformat_minor": 2
}
