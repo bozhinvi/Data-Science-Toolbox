{
 "cells": [
  {
   "cell_type": "code",
   "execution_count": null,
   "metadata": {
    "collapsed": true
   },
   "outputs": [],
   "source": [
    "%run helper_functions.py\n",
    "import pandas as pd\n",
    "import seaborn as sns\n",
    "import numpy as np\n",
    "import sklearn\n",
    "sns.set_style(\"whitegrid\")\n",
    "np.set_printoptions(suppress=True)"
   ]
  },
  {
   "cell_type": "markdown",
   "metadata": {},
   "source": [
    "# Example 1-D with random data"
   ]
  },
  {
   "cell_type": "code",
   "execution_count": null,
   "metadata": {},
   "outputs": [],
   "source": [
    "# create random data\n",
    "num_random_points = 300\n",
    "intercept = 20\n",
    "coefficient = 0.9\n",
    "random_spread = 20\n",
    "\n",
    "rng = np.random.RandomState(1)\n",
    "X = np.sort(100 * rng.rand(num_random_points, 1), axis=0)\n",
    "y = intercept + coefficient*X \n",
    "#add noise\n",
    "y += random_spread * (0.5 - rng.rand(num_random_points, 1))\n",
    "\n",
    "#outliers\n",
    "#y[-1] = -200\n",
    "#X[-1] = 200\n",
    "\n",
    "# Plot the random data\n",
    "plt.figure()\n",
    "plt.scatter(X, y, c=\"orange\", label=\"data\")\n",
    "plt.xlabel(\"data\")\n",
    "plt.ylabel(\"target\")\n",
    "plt.title(\"Random Data\")\n",
    "plt.legend()\n",
    "plt.show()\n",
    "\n"
   ]
  },
  {
   "cell_type": "markdown",
   "metadata": {},
   "source": [
    "# Linear regression\n",
    "http://scikit-learn.org/stable/modules/generated/sklearn.linear_model.LinearRegression.html"
   ]
  },
  {
   "cell_type": "code",
   "execution_count": null,
   "metadata": {},
   "outputs": [],
   "source": [
    "from sklearn.linear_model import LinearRegression\n",
    "\n",
    "\n",
    "regr  = LinearRegression()\n",
    "regr.fit(X, y)\n",
    "\n",
    "# Show the model coefficients w\n",
    "print ('Coefficients: \\n', regr.coef_)\n",
    "print ('Intercept   : \\n',  regr.intercept_)"
   ]
  },
  {
   "cell_type": "markdown",
   "metadata": {},
   "source": [
    "### Predicting on new data"
   ]
  },
  {
   "cell_type": "code",
   "execution_count": null,
   "metadata": {},
   "outputs": [],
   "source": [
    "# Test set. We generate 500 numbers from 0-100 and predict their y values\n",
    "X_test = 100 * rng.rand(500, 1)\n",
    "y_test_pred = regr.predict(X_test)\n",
    "\n",
    "# Plot the results\n",
    "plt.figure()\n",
    "plt.scatter(X, y, c=\"orange\", label=\"data\")\n",
    "plt.scatter(X_test, y_test_pred, color=\"crimson\", label=\"Linear regression\", linewidth=1)\n",
    "plt.xlabel(\"data\")\n",
    "plt.ylabel(\"target\")\n",
    "plt.title(\"Linear regression\")\n",
    "plt.legend()\n",
    "plt.xlim(0,100)\n",
    "plt.ylim(0,100)\n",
    "plt.show()"
   ]
  },
  {
   "cell_type": "markdown",
   "metadata": {},
   "source": [
    "### Metrics"
   ]
  },
  {
   "cell_type": "code",
   "execution_count": null,
   "metadata": {},
   "outputs": [],
   "source": [
    "from sklearn.metrics import mean_squared_error\n",
    "\n",
    "y_pred =  regr.predict(X)\n",
    "\n",
    "# The mean squared error (training)\n",
    "print(\"Mean squared error on training set: %.2f\" %mean_squared_error(y, y_pred))\n",
    "\n",
    "#Explained Variance score\n",
    "print('R squared score: %.2f' % regr.score(X, y))"
   ]
  },
  {
   "cell_type": "markdown",
   "metadata": {},
   "source": [
    "# Example with real data \n",
    "- Loading the boston house price dataset\n",
    "- This dataset has more than one feature (multivariate regression)\n"
   ]
  },
  {
   "cell_type": "code",
   "execution_count": null,
   "metadata": {
    "collapsed": true
   },
   "outputs": [],
   "source": [
    "# Load the boston dataset from sklearn\n",
    "from sklearn import datasets\n",
    "dataset = datasets.load_boston()\n"
   ]
  },
  {
   "cell_type": "code",
   "execution_count": null,
   "metadata": {
    "collapsed": true
   },
   "outputs": [],
   "source": [
    "X = dataset.data\n",
    "y = dataset.target\n",
    "\n",
    "# these data are not shuffled...\n",
    "from sklearn.utils import shuffle\n",
    "X, y = sklearn.utils.shuffle(X,y)"
   ]
  },
  {
   "cell_type": "code",
   "execution_count": null,
   "metadata": {},
   "outputs": [],
   "source": [
    "pd.DataFrame(X, columns=dataset.feature_names).head(3)"
   ]
  },
  {
   "cell_type": "code",
   "execution_count": null,
   "metadata": {
    "collapsed": true
   },
   "outputs": [],
   "source": [
    "from sklearn.preprocessing import Normalizer\n",
    "X  = Normalizer().fit_transform(X)"
   ]
  },
  {
   "cell_type": "code",
   "execution_count": null,
   "metadata": {
    "collapsed": true
   },
   "outputs": [],
   "source": []
  },
  {
   "cell_type": "markdown",
   "metadata": {},
   "source": [
    "## Cross val"
   ]
  },
  {
   "cell_type": "code",
   "execution_count": null,
   "metadata": {},
   "outputs": [],
   "source": [
    "from sklearn.model_selection import cross_val_predict\n",
    "from sklearn.metrics import *\n",
    "\n",
    "regr  = LinearRegression()\n",
    "y_pred = cross_val_predict(regr, X, y, cv=10)\n",
    "\n",
    "print (\"R2  (cross-val) : %.2f\"% explained_variance_score(y, y_pred))\n",
    "print (\"MSE (cross-val) : %.2f\"% mean_squared_error(y, y_pred))"
   ]
  },
  {
   "cell_type": "code",
   "execution_count": null,
   "metadata": {},
   "outputs": [],
   "source": [
    "plt.plot(y_pred, y,'ro', alpha = 0.3)\n",
    "plt.plot([0,np.max(y)], [0, np.max(y)], 'g-', alpha = 0.6)\n",
    "plt.xlabel('Predicted')\n",
    "plt.ylabel('Real')\n",
    "plt.show()"
   ]
  },
  {
   "cell_type": "code",
   "execution_count": null,
   "metadata": {},
   "outputs": [],
   "source": [
    "# Show the model coefficients w\n",
    "regr.fit(X, y)\n",
    "print ('Coefficients: \\n', regr.coef_, \"\\n\")"
   ]
  },
  {
   "cell_type": "code",
   "execution_count": null,
   "metadata": {},
   "outputs": [],
   "source": [
    "print (\"\\n  F(X) =  %2.3f \"% regr.intercept_,  end='' )\n",
    "for i in range(len(dataset.feature_names)):\n",
    "    print (\"%+2.2f*%s \"%(regr.coef_[i], dataset.feature_names[i]) , end='')\n"
   ]
  },
  {
   "cell_type": "markdown",
   "metadata": {},
   "source": [
    "## Ridge regression\n",
    "http://scikit-learn.org/stable/modules/generated/sklearn.linear_model.Ridge.html"
   ]
  },
  {
   "cell_type": "code",
   "execution_count": null,
   "metadata": {},
   "outputs": [],
   "source": [
    "from sklearn.linear_model import Ridge\n",
    "\n",
    "regr  = Ridge(alpha = 0.00001)\n",
    "y_pred = cross_val_predict(regr, X, y, cv=10)\n",
    "\n",
    "print (\"R2  (cross-val) : %.2f\"% explained_variance_score(y, y_pred))\n",
    "print (\"MSE (cross-val) : %.2f\"% mean_squared_error(y, y_pred))\n",
    "\n",
    "# Show the model coefficients w\n",
    "regr.fit(X, y)\n",
    "print ('Coefficients: \\n', regr.coef_, \"\\n\")"
   ]
  },
  {
   "cell_type": "markdown",
   "metadata": {},
   "source": [
    "## Lasso regression\n",
    "http://scikit-learn.org/stable/modules/generated/sklearn.linear_model.Lasso.html#sklearn.linear_model.Lasso"
   ]
  },
  {
   "cell_type": "code",
   "execution_count": null,
   "metadata": {},
   "outputs": [],
   "source": [
    "from sklearn.linear_model import Lasso\n",
    "\n",
    "regr  = Lasso(alpha = 0.001)\n",
    "y_pred = cross_val_predict(regr, X, y, cv=10)\n",
    "\n",
    "print (\"R2  (cross-val) : %.2f\"% explained_variance_score(y, y_pred))\n",
    "print (\"MSE (cross-val) : %.2f\"% mean_squared_error(y, y_pred))\n",
    "\n",
    "# Show the model coefficients w\n",
    "regr.fit(X, y)\n",
    "print ('Coefficients: \\n', regr.coef_, \"\\n\")"
   ]
  },
  {
   "cell_type": "markdown",
   "metadata": {},
   "source": [
    "# Logistic regression\n",
    "http://scikit-learn.org/stable/modules/generated/sklearn.linear_model.LogisticRegression.html#sklearn.linear_model.LogisticRegression\n"
   ]
  },
  {
   "cell_type": "code",
   "execution_count": null,
   "metadata": {
    "collapsed": true
   },
   "outputs": [],
   "source": [
    "from sklearn.datasets import load_digits\n",
    "\n",
    "digits = load_digits()\n",
    "\n",
    "X = digits.data\n",
    "y = digits.target\n",
    "\n",
    "from sklearn.utils import shuffle\n",
    "X, y = sklearn.utils.shuffle(X,y)"
   ]
  },
  {
   "cell_type": "code",
   "execution_count": null,
   "metadata": {},
   "outputs": [],
   "source": [
    "pd.DataFrame(X[0:10])"
   ]
  },
  {
   "cell_type": "code",
   "execution_count": null,
   "metadata": {},
   "outputs": [],
   "source": [
    "image = 301\n",
    "plt.imshow(X[image].reshape([8,8]))\n",
    "plt.show()\n",
    "print (\"label = \", y[image])"
   ]
  },
  {
   "cell_type": "code",
   "execution_count": null,
   "metadata": {},
   "outputs": [],
   "source": [
    "plot_digits_sample(X,y)"
   ]
  },
  {
   "cell_type": "markdown",
   "metadata": {},
   "source": [
    "# Grid search"
   ]
  },
  {
   "cell_type": "code",
   "execution_count": null,
   "metadata": {},
   "outputs": [],
   "source": [
    "from sklearn.model_selection import GridSearchCV\n",
    "from sklearn.linear_model import LogisticRegression\n",
    "\n",
    "params = { 'C': [0.001, 0.01, 0.1, 1]}\n",
    "\n",
    "model = LogisticRegression()\n",
    "\n",
    "grid = GridSearchCV(estimator=model, cv = 10, param_grid=params )\n",
    "grid.fit(X, y)\n",
    "# summarize the results of the grid search\n",
    "print(\"Best parameters: \", grid.best_estimator_)\n",
    "print(\"Best score: \", grid.best_score_)\n"
   ]
  },
  {
   "cell_type": "code",
   "execution_count": null,
   "metadata": {},
   "outputs": [],
   "source": [
    "from sklearn.model_selection import cross_val_predict\n",
    "from sklearn.metrics import confusion_matrix\n",
    "\n",
    "y_pred = cross_val_predict(grid.best_estimator_, X, y, cv=10)\n",
    "print (classification_report(y, y_pred))\n",
    "print (\"Accuracy: \", accuracy_score(y, y_pred))\n",
    "cm =  confusion_matrix(y_pred=y_pred, y_true=y, labels=range(0,10))\n",
    "plot_confusion_matrix(cm, range(0,10))\n"
   ]
  },
  {
   "cell_type": "code",
   "execution_count": null,
   "metadata": {
    "collapsed": true
   },
   "outputs": [],
   "source": []
  }
 ],
 "metadata": {
  "kernelspec": {
   "display_name": "Python 3",
   "language": "python",
   "name": "python3"
  },
  "language_info": {
   "codemirror_mode": {
    "name": "ipython",
    "version": 3
   },
   "file_extension": ".py",
   "mimetype": "text/x-python",
   "name": "python",
   "nbconvert_exporter": "python",
   "pygments_lexer": "ipython3",
   "version": "3.6.1"
  }
 },
 "nbformat": 4,
 "nbformat_minor": 2
}
