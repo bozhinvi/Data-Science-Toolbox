{
 "cells": [
  {
   "cell_type": "code",
   "execution_count": null,
   "metadata": {},
   "outputs": [],
   "source": [
    "%pylab inline\n",
    "%run helper_functions.py\n",
    "import pandas as pd\n",
    "import seaborn as sns\n",
    "import numpy as np\n",
    "import sklearn\n",
    "sns.set_style(\"whitegrid\")"
   ]
  },
  {
   "cell_type": "markdown",
   "metadata": {},
   "source": [
    "# LOAD IRIS DATASET"
   ]
  },
  {
   "cell_type": "code",
   "execution_count": null,
   "metadata": {
    "collapsed": true
   },
   "outputs": [],
   "source": [
    "from sklearn import datasets\n",
    "iris = datasets.load_iris()"
   ]
  },
  {
   "cell_type": "code",
   "execution_count": null,
   "metadata": {
    "collapsed": true
   },
   "outputs": [],
   "source": []
  },
  {
   "cell_type": "code",
   "execution_count": null,
   "metadata": {},
   "outputs": [],
   "source": [
    "iris_df = pd.DataFrame(iris.data, columns=iris.feature_names)\n",
    "iris_df['species'] = iris.target_names[iris.target]\n",
    "iris_df.head()\n"
   ]
  },
  {
   "cell_type": "code",
   "execution_count": null,
   "metadata": {},
   "outputs": [],
   "source": [
    "sns.pairplot(iris_df, hue=\"species\", size=2 ,diag_kind=\"kde\")\n",
    "plt.show()"
   ]
  },
  {
   "cell_type": "code",
   "execution_count": null,
   "metadata": {
    "collapsed": true
   },
   "outputs": [],
   "source": [
    "X = iris.data\n",
    "feature_names = iris.feature_names\n",
    "y = iris.target\n",
    "class_labels = iris.target_names"
   ]
  },
  {
   "cell_type": "code",
   "execution_count": null,
   "metadata": {
    "collapsed": true
   },
   "outputs": [],
   "source": [
    "#normalise data to 0 mean 1 std\n",
    "from sklearn.preprocessing import StandardScaler\n",
    "X  = StandardScaler().fit_transform(X)"
   ]
  },
  {
   "cell_type": "markdown",
   "metadata": {},
   "source": [
    "# Fitting a model\n",
    "Feel free to play with the kernel and the \"gamma\" parameter to see the accuracy and the results on the boundaries"
   ]
  },
  {
   "cell_type": "code",
   "execution_count": null,
   "metadata": {},
   "outputs": [],
   "source": [
    "from sklearn.svm import SVC\n",
    "from sklearn.model_selection import cross_val_score\n",
    "\n",
    "#‘linear’, ‘poly’, ‘rbf’, ‘sigmoid’, ‘precomputed’. Default rbf\n",
    "svm = SVC(C=1, gamma=0.001, kernel='rbf', random_state=0) #play with these values\n",
    "svm.fit(X,y)\n",
    "\n",
    "# score at training\n",
    "score_test = svm.score(X, y)\n",
    "print(\"Accuracy Training        :\", score_test)\n",
    "\n",
    "# score when cross_validating\n",
    "scores = cross_val_score(svm, X, y, cv=3)\n",
    "print(\"Accuracy cross validation: %0.2f (+/- %0.2f)\" % (scores.mean(), scores.std() * 2))\n",
    "\n",
    "plot_boundaries_iris_dataset(svm, iris)"
   ]
  },
  {
   "cell_type": "markdown",
   "metadata": {},
   "source": [
    "# Main Parameters to tune"
   ]
  },
  {
   "cell_type": "code",
   "execution_count": null,
   "metadata": {},
   "outputs": [],
   "source": [
    "from sklearn.model_selection import GridSearchCV\n",
    "\n",
    "params = { \n",
    "           'gamma':  np.logspace(-2, 0, 10),\n",
    "           'C'   :   [0.1, 1, 10]\n",
    "         }\n",
    "\n",
    "svm = SVC()\n",
    "\n",
    "grid = GridSearchCV(estimator=svm, cv = 10, param_grid=params )\n",
    "grid.fit(X, y)\n",
    "# summarize the results of the grid search\n",
    "print(\"Best parameters: \", grid.best_estimator_)\n",
    "print(\"Best score: \", grid.best_score_)\n",
    "\n",
    "plot_boundaries_iris_dataset(grid.best_estimator_, iris)"
   ]
  },
  {
   "cell_type": "markdown",
   "metadata": {},
   "source": [
    "# Regression\n",
    "SVMs also support regression"
   ]
  },
  {
   "cell_type": "code",
   "execution_count": null,
   "metadata": {},
   "outputs": [],
   "source": [
    "from sklearn.svm import SVR\n",
    "pylab.rcParams['figure.figsize'] = 16, 12\n",
    "\n",
    "\n",
    "# Create a random dataset\n",
    "rng = np.random.RandomState(1)\n",
    "X = np.sort(5 * rng.rand(80, 1), axis=0)\n",
    "y = np.sin(X).ravel()\n",
    "y[::4] += 1 * (0.5 - rng.rand(20))\n",
    "\n",
    "# Fit regression model\n",
    "regr_1 = SVR(gamma=1)\n",
    "regr_1.fit(X, y)\n",
    "\n",
    "regr_2 = SVR(gamma=100)\n",
    "regr_2.fit(X, y)\n",
    "\n",
    "# Predict\n",
    "X_test = np.arange(0.0, 5.0, 0.01)[:, np.newaxis]\n",
    "y_1 = regr_1.predict(X_test)\n",
    "y_2 = regr_2.predict(X_test)\n",
    "\n",
    "# Plot the results\n",
    "plt.figure()\n",
    "plt.scatter(X, y, c=\"darkorange\", label=\"data\")\n",
    "plt.plot(X_test, y_1, color=\"yellowgreen\", label=\"gamma=1\", linewidth=2)\n",
    "plt.plot(X_test, y_2, color=\"red\", label=\"gamma=100\", linewidth=2)\n",
    "plt.xlabel(\"data\")\n",
    "plt.ylabel(\"target\")\n",
    "plt.title(\"Regression\")\n",
    "plt.legend()\n",
    "plt.show()\n",
    "\n"
   ]
  },
  {
   "cell_type": "code",
   "execution_count": null,
   "metadata": {
    "collapsed": true
   },
   "outputs": [],
   "source": []
  }
 ],
 "metadata": {
  "kernelspec": {
   "display_name": "Python 3",
   "language": "python",
   "name": "python3"
  },
  "language_info": {
   "codemirror_mode": {
    "name": "ipython",
    "version": 3
   },
   "file_extension": ".py",
   "mimetype": "text/x-python",
   "name": "python",
   "nbconvert_exporter": "python",
   "pygments_lexer": "ipython3",
   "version": "3.6.1"
  }
 },
 "nbformat": 4,
 "nbformat_minor": 2
}
